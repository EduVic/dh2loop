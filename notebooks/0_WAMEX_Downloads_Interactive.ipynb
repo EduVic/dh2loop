{
 "cells": [
  {
   "cell_type": "markdown",
   "metadata": {},
   "source": [
    "## WAMEX Database"
   ]
  },
  {
   "cell_type": "markdown",
   "metadata": {},
   "source": [
    "[https://www.dmp.wa.gov.au/WAMEX-Minerals-Exploration-1476.aspx](https://www.dmp.wa.gov.au/WAMEX-Minerals-Exploration-1476.aspx)"
   ]
  },
  {
   "cell_type": "markdown",
   "metadata": {},
   "source": [
    " - Western Australian Mineral Exploration Reports Database\n",
    " - Stores open-file reports (annual mineral exploration data and reports (which is required by WA legislation) that have passed 5 year period of confidentiality)\n",
    " - Mineral exploration reports held by the department for five years may be released to the public, under Regulation 96(4) of the Mining Regulations 1981, the ‘Sunset Clause’.\n",
    "\n",
    " - Each year from early March, the proposed list of reports planned for release are published on the department's website, Mining Notices of the West Australian and the Kalgoorlie Miner. There is a period of two months during which the current tenement holders can study the list and object in writing to the release of any report. By May of that year, the GSWA will release the reports that have no objections."
   ]
  },
  {
   "cell_type": "markdown",
   "metadata": {},
   "source": [
    "## Ways to access these reports:"
   ]
  },
  {
   "cell_type": "markdown",
   "metadata": {},
   "source": [
    " - GeoVIEW [https://geoview.dmp.wa.gov.au/geoview/?Viewer=GeoVIEW&layerTheme=WAMEX&Module=WAMEX](https://geoview.dmp.wa.gov.au/geoview/?Viewer=GeoVIEW&layerTheme=WAMEX&Module=WAMEX)\n",
    " - drillcore.shp from USB products (2019 version of links are outdated)\n",
    " - Exploration_Reports.shp from online data repository [https://dasc.dmp.wa.gov.au/dasc/](https://dasc.dmp.wa.gov.au/dasc/)\n",
    " - Using this jupyter notebook (Loop Server x CloudStor)"
   ]
  },
  {
   "cell_type": "markdown",
   "metadata": {},
   "source": [
    "## jupyter notebook (Loop SErver X CloudStor)"
   ]
  },
  {
   "cell_type": "markdown",
   "metadata": {},
   "source": [
    "[CloudStor_Link](https://cloudstor.aarnet.edu.au/plus/apps/files/?dir=/Shared/LOOP-MinExCRC&fileid=4302153105) (contains reports up to May 9, 2019) <br>"
   ]
  },
  {
   "cell_type": "code",
   "execution_count": 3,
   "metadata": {
    "scrolled": true
   },
   "outputs": [
    {
     "ename": "ZipImportError",
     "evalue": "bad local file header: '/home/ranee/.local/lib/python3.6/site-packages/dh2loop-0.0.1-py3.6.egg'",
     "output_type": "error",
     "traceback": [
      "\u001b[0;31m---------------------------------------------------------------------------\u001b[0m",
      "\u001b[0;31mZipImportError\u001b[0m                            Traceback (most recent call last)",
      "\u001b[0;32m<ipython-input-3-0a80cb2da51e>\u001b[0m in \u001b[0;36m<module>\u001b[0;34m\u001b[0m\n\u001b[0;32m----> 1\u001b[0;31m \u001b[0;32mfrom\u001b[0m \u001b[0mdh2loop\u001b[0m \u001b[0;32mimport\u001b[0m \u001b[0mwamex\u001b[0m\u001b[0;34m\u001b[0m\u001b[0;34m\u001b[0m\u001b[0m\n\u001b[0m",
      "\u001b[0;31mZipImportError\u001b[0m: bad local file header: '/home/ranee/.local/lib/python3.6/site-packages/dh2loop-0.0.1-py3.6.egg'"
     ]
    }
   ],
   "source": [
    "from dh2loop import wamex "
   ]
  },
  {
   "cell_type": "markdown",
   "metadata": {},
   "source": [
    "## Define the region of interest (in WGS 1984)"
   ]
  },
  {
   "cell_type": "code",
   "execution_count": null,
   "metadata": {
    "scrolled": false
   },
   "outputs": [],
   "source": [
    "wamex.draw_interactive_map()"
   ]
  },
  {
   "cell_type": "markdown",
   "metadata": {},
   "source": [
    "### Run to clear rectangle and draw again:"
   ]
  },
  {
   "cell_type": "code",
   "execution_count": null,
   "metadata": {},
   "outputs": [],
   "source": [
    "dc.clear()"
   ]
  },
  {
   "cell_type": "markdown",
   "metadata": {},
   "source": [
    "### Optional: Manual override of ROI (in WGS 1984)"
   ]
  },
  {
   "cell_type": "code",
   "execution_count": null,
   "metadata": {},
   "outputs": [],
   "source": [
    "#minlong=121.2\n",
    "#maxlong=122.89\n",
    "#minlat=-21.04\n",
    "#maxlat=-21.03\n",
    "#bounds=(minlong,maxlong,minlat,maxlat)"
   ]
  },
  {
   "cell_type": "markdown",
   "metadata": {},
   "source": [
    "## Download reports"
   ]
  },
  {
   "cell_type": "code",
   "execution_count": null,
   "metadata": {
    "scrolled": true
   },
   "outputs": [],
   "source": [
    "wamex.get_reports ('./Downloads')"
   ]
  }
 ],
 "metadata": {
  "kernelspec": {
   "display_name": "Python 3",
   "language": "python",
   "name": "python3"
  },
  "language_info": {
   "codemirror_mode": {
    "name": "ipython",
    "version": 3
   },
   "file_extension": ".py",
   "mimetype": "text/x-python",
   "name": "python",
   "nbconvert_exporter": "python",
   "pygments_lexer": "ipython3",
   "version": "3.6.10"
  }
 },
 "nbformat": 4,
 "nbformat_minor": 4
}
