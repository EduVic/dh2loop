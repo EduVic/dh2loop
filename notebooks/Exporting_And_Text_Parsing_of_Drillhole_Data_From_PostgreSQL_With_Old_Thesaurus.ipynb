{
 "cells": [
  {
   "cell_type": "code",
   "execution_count": 1,
   "metadata": {},
   "outputs": [
    {
     "name": "stderr",
     "output_type": "stream",
     "text": [
      "C:\\ProgramData\\Anaconda3\\lib\\site-packages\\fuzzywuzzy\\fuzz.py:11: UserWarning: Using slow pure-python SequenceMatcher. Install python-Levenshtein to remove this warning\n",
      "  warnings.warn('Using slow pure-python SequenceMatcher. Install python-Levenshtein to remove this warning')\n"
     ]
    },
    {
     "name": "stdout",
     "output_type": "stream",
     "text": [
      "Default parameters loaded from DH2_LConfig.py:\n",
      "from datetime import datetime\n",
      "#from striplog import Legend, Lexicon, Interval, Component, Striplog\n",
      "import os\n",
      "\n",
      "\n",
      "host_ = '130.95.198.59'\n",
      "port_= 5432\n",
      "DB_='gswa_dh'\n",
      "user_ = 'postgres'\n",
      "pwd_ = 'loopie123pgpw'\n",
      "\n",
      "\n",
      "\n",
      "#Extents to query , bounds for lithology+comments needs to be provided in query as it has two query with join.\n",
      "#ranee\n",
      "minlong=115.5\n",
      "maxlong=118\n",
      "minlat=-30.5\n",
      "maxlat=-27.5\n",
      "\n",
      "#fabilea\n",
      "#minlong=121.2\n",
      "#maxlong=122.89\n",
      "#minlat=-21.04\n",
      "#maxlat=-21.03\n",
      "\n",
      "\n",
      "#src_pro,Dst_proj\n",
      "src_csr = 4326 \n",
      "dst_csr = 28350\n",
      "\n",
      "\n",
      "#ExportFiles\n",
      "nowtime=datetime.now().strftime(\"%d_%m_%Y_%H_%M_%S_%p\")   #.isoformat(timespec='minutes')\n",
      "export_path ='../data/export_db/'    #+ nowtime \n",
      "#os.mkdir(export_path)\n",
      "\n",
      "\n",
      "#csv , log files without time stamps\n",
      "DB_Collar_Rl_Log = export_path + 'DB_Collar_Rl_Log.log'\n",
      "DB_Collar_Maxdepth_Log = export_path + 'DB_Collar_maxdepth_Log.log'\n",
      "DB_Collar_Export=export_path + '//'+ 'DB_Collar_Export.csv'   #.replace(\"-\",\"/\").replace(\"T\",\" At \")\n",
      "DB_Survey_Export=export_path+'DB_Survey_Export.csv'\n",
      "DB_Survey_Export_Calc=export_path+'DB_Survey_Export_Calc.csv'\n",
      "CET_Litho=export_path+'CET_Litho.csv'\n",
      "DB_Lithology_Export=export_path+'DB_Lithology_Export.csv'\n",
      "DB_lithology_With_Comments_Final_Export = export_path + 'DB_lithology_With_Comments_Final.csv'\n",
      "DB_lithology_Only_Comments_Final_Export = export_path + 'DB_lithology_Only_Comments_Final.csv'\n",
      "DB_Lithology_Export_Backup=export_path+'DB_Lithology_Export_Backup.csv'\n",
      "DB_Lithology_Upscaled_Export=export_path+'DB_Lithology_Upscaled_Export.csv'\n",
      "Upscaled_Litho_NoDuplicates_Export = export_path+'Upscaled_Litho_NoDuplicates_Export.csv'\n",
      "DB_Lithology_Export_Calc=export_path+'DB_Lithology_Export_Calc.csv'\n",
      "DB_Lithology_Export_VTK=export_path+'DB_Lithology_Export.vtp'\n",
      "\n",
      "DB_Lithology_Export_Calc=export_path+'DB_Lithology_Export_Calc.csv'\n",
      "DB_Lithology_Export_VTK=export_path+'DB_Lithology_Export.vtp'\n",
      "\n",
      "\n",
      "\n",
      "\n",
      "#csv , log files with time stamp\n",
      "#DB_Collar_Rl_Log = export_path + 'DB_Collar_Rl_Log_' + nowtime + '.log'\n",
      "#DB_Collar_Maxdepth_Log = export_path + 'DB_Collar_maxdepth_Log_' + nowtime +'.log'\n",
      "#DB_Collar_Export=export_path+'DB_Collar_Export_' + nowtime + '.csv'   #.replace(\"-\",\"/\").replace(\"T\",\" At \")\n",
      "#DB_Survey_Export=export_path+'DB_Survey_Export_'+ nowtime +'.csv'\n",
      "#DB_Survey_Export_Calc=export_path+'DB_Survey_Export_Calc_'+ nowtime +'.csv'\n",
      "#CET_Litho=export_path+'CET_Litho_'+ nowtime +'.csv'\n",
      "#DB_Lithology_Export=export_path+'DB_Lithology_Export_'+ nowtime +'.csv'\n",
      "#DB_lithology_With_Comments_Final_Export = export_path + 'DB_lithology_With_Comments_Final' + nowtime + '.csv'\n",
      "#DB_lithology_Only_Comments_Final_Export = export_path + 'DB_lithology_Only_Comments_Final' + nowtime + '.csv'\n",
      "#DB_Lithology_Export_Backup=export_path+'DB_Lithology_Export_Backup_'+ nowtime +'.csv'\n",
      "#DB_Lithology_Upscaled_Export=export_path+'DB_Lithology_Upscaled_Export_'+ nowtime +'.csv'\n",
      "#Upscaled_Litho_NoDuplicates_Export = export_path+'Upscaled_Litho_NoDuplicates_Export_'+ nowtime +'.csv'\n",
      "#DB_Lithology_Export_Calc=export_path+'DB_Lithology_Export_Calc_'+ nowtime +'.csv'\n",
      "#DB_Lithology_Export_VTK=export_path+'DB_Lithology_Export_'+ nowtime +'.vtp'\n",
      "\n",
      "#DB_Lithology_Export_Calc=export_path+'DB_Lithology_Export_Calc.csv'\n",
      "#DB_Lithology_Export_VTK=export_path+'DB_Lithology_Export.vtp'\n",
      "\n",
      "\n",
      "print('Default parameters loaded from DH2_LConfig.py:')\n",
      "with open('../notebooks/DH2_LConfig.py', 'r') as myfile:\n",
      "  data = myfile.read()\n",
      "  print(data)\n",
      "  myfile.close()\n",
      "print('\\nModify these parameters in the cell below')\n",
      "\n",
      "\n",
      "\n",
      "\n",
      "Modify these parameters in the cell below\n"
     ]
    },
    {
     "name": "stderr",
     "output_type": "stream",
     "text": [
      "[nltk_data] Downloading package stopwords to\n",
      "[nltk_data]     C:\\Users\\00103098\\AppData\\Roaming\\nltk_data...\n",
      "[nltk_data]   Package stopwords is already up-to-date!\n",
      "[nltk_data] Downloading package punkt to\n",
      "[nltk_data]     C:\\Users\\00103098\\AppData\\Roaming\\nltk_data...\n",
      "[nltk_data]   Package punkt is already up-to-date!\n",
      "[nltk_data] Downloading package wordnet to\n",
      "[nltk_data]     C:\\Users\\00103098\\AppData\\Roaming\\nltk_data...\n",
      "[nltk_data]   Package wordnet is already up-to-date!\n"
     ]
    }
   ],
   "source": [
    "from dh2loop import dh2l_db\n",
    "import datetime\n",
    "import pandas as pd\n",
    "import psycopg2\n",
    "from datetime import datetime\n"
   ]
  },
  {
   "cell_type": "code",
   "execution_count": 2,
   "metadata": {},
   "outputs": [
    {
     "name": "stdout",
     "output_type": "stream",
     "text": [
      "Default parameters loaded from DH2_LConfig.py:\n",
      "from datetime import datetime\n",
      "#from striplog import Legend, Lexicon, Interval, Component, Striplog\n",
      "import os\n",
      "\n",
      "\n",
      "host_ = '130.95.198.59'\n",
      "port_= 5432\n",
      "DB_='gswa_dh'\n",
      "user_ = 'postgres'\n",
      "pwd_ = 'loopie123pgpw'\n",
      "\n",
      "\n",
      "\n",
      "#Extents to query , bounds for lithology+comments needs to be provided in query as it has two query with join.\n",
      "#ranee\n",
      "minlong=115.5\n",
      "maxlong=118\n",
      "minlat=-30.5\n",
      "maxlat=-27.5\n",
      "\n",
      "#fabilea\n",
      "#minlong=121.2\n",
      "#maxlong=122.89\n",
      "#minlat=-21.04\n",
      "#maxlat=-21.03\n",
      "\n",
      "\n",
      "#src_pro,Dst_proj\n",
      "src_csr = 4326 \n",
      "dst_csr = 28350\n",
      "\n",
      "\n",
      "#ExportFiles\n",
      "nowtime=datetime.now().strftime(\"%d_%m_%Y_%H_%M_%S_%p\")   #.isoformat(timespec='minutes')\n",
      "export_path ='../data/export_db/'    #+ nowtime \n",
      "#os.mkdir(export_path)\n",
      "\n",
      "\n",
      "#csv , log files without time stamps\n",
      "DB_Collar_Rl_Log = export_path + 'DB_Collar_Rl_Log.log'\n",
      "DB_Collar_Maxdepth_Log = export_path + 'DB_Collar_maxdepth_Log.log'\n",
      "DB_Collar_Export=export_path + '//'+ 'DB_Collar_Export.csv'   #.replace(\"-\",\"/\").replace(\"T\",\" At \")\n",
      "DB_Survey_Export=export_path+'DB_Survey_Export.csv'\n",
      "DB_Survey_Export_Calc=export_path+'DB_Survey_Export_Calc.csv'\n",
      "CET_Litho=export_path+'CET_Litho.csv'\n",
      "DB_Lithology_Export=export_path+'DB_Lithology_Export.csv'\n",
      "DB_lithology_With_Comments_Final_Export = export_path + 'DB_lithology_With_Comments_Final.csv'\n",
      "DB_lithology_Only_Comments_Final_Export = export_path + 'DB_lithology_Only_Comments_Final.csv'\n",
      "DB_Lithology_Export_Backup=export_path+'DB_Lithology_Export_Backup.csv'\n",
      "DB_Lithology_Upscaled_Export=export_path+'DB_Lithology_Upscaled_Export.csv'\n",
      "Upscaled_Litho_NoDuplicates_Export = export_path+'Upscaled_Litho_NoDuplicates_Export.csv'\n",
      "DB_Lithology_Export_Calc=export_path+'DB_Lithology_Export_Calc.csv'\n",
      "DB_Lithology_Export_VTK=export_path+'DB_Lithology_Export.vtp'\n",
      "\n",
      "DB_Lithology_Export_Calc=export_path+'DB_Lithology_Export_Calc.csv'\n",
      "DB_Lithology_Export_VTK=export_path+'DB_Lithology_Export.vtp'\n",
      "\n",
      "\n",
      "\n",
      "\n",
      "#csv , log files with time stamp\n",
      "#DB_Collar_Rl_Log = export_path + 'DB_Collar_Rl_Log_' + nowtime + '.log'\n",
      "#DB_Collar_Maxdepth_Log = export_path + 'DB_Collar_maxdepth_Log_' + nowtime +'.log'\n",
      "#DB_Collar_Export=export_path+'DB_Collar_Export_' + nowtime + '.csv'   #.replace(\"-\",\"/\").replace(\"T\",\" At \")\n",
      "#DB_Survey_Export=export_path+'DB_Survey_Export_'+ nowtime +'.csv'\n",
      "#DB_Survey_Export_Calc=export_path+'DB_Survey_Export_Calc_'+ nowtime +'.csv'\n",
      "#CET_Litho=export_path+'CET_Litho_'+ nowtime +'.csv'\n",
      "#DB_Lithology_Export=export_path+'DB_Lithology_Export_'+ nowtime +'.csv'\n",
      "#DB_lithology_With_Comments_Final_Export = export_path + 'DB_lithology_With_Comments_Final' + nowtime + '.csv'\n",
      "#DB_lithology_Only_Comments_Final_Export = export_path + 'DB_lithology_Only_Comments_Final' + nowtime + '.csv'\n",
      "#DB_Lithology_Export_Backup=export_path+'DB_Lithology_Export_Backup_'+ nowtime +'.csv'\n",
      "#DB_Lithology_Upscaled_Export=export_path+'DB_Lithology_Upscaled_Export_'+ nowtime +'.csv'\n",
      "#Upscaled_Litho_NoDuplicates_Export = export_path+'Upscaled_Litho_NoDuplicates_Export_'+ nowtime +'.csv'\n",
      "#DB_Lithology_Export_Calc=export_path+'DB_Lithology_Export_Calc_'+ nowtime +'.csv'\n",
      "#DB_Lithology_Export_VTK=export_path+'DB_Lithology_Export_'+ nowtime +'.vtp'\n",
      "\n",
      "#DB_Lithology_Export_Calc=export_path+'DB_Lithology_Export_Calc.csv'\n",
      "#DB_Lithology_Export_VTK=export_path+'DB_Lithology_Export.vtp'\n",
      "\n",
      "\n",
      "print('Default parameters loaded from DH2_LConfig.py:')\n",
      "with open('../notebooks/DH2_LConfig.py', 'r') as myfile:\n",
      "  data = myfile.read()\n",
      "  print(data)\n",
      "  myfile.close()\n",
      "print('\\nModify these parameters in the cell below')\n",
      "\n",
      "\n",
      "\n",
      "\n",
      "Modify these parameters in the cell below\n"
     ]
    }
   ],
   "source": [
    "%run -i \"DH2_LConfig.py\"\n",
    "#import os\n",
    "#export_path ='../data/export_db/' + nowtime \n",
    "#os.mkdir(export_path)"
   ]
  },
  {
   "cell_type": "code",
   "execution_count": 5,
   "metadata": {},
   "outputs": [
    {
     "name": "stdout",
     "output_type": "stream",
     "text": [
      "name 'host_' is not defined\n",
      "name 'host_' is not defined\n",
      "Time taken in Hour_Min_Sec_MilliSec is: 0:00:00.077410\n"
     ]
    }
   ],
   "source": [
    "Start_Time = datetime.now()\n",
    "dh2l_db_New.collar_attr_col_dic()\n",
    "dh2l_db_New.collar_collar_attri_Final(DB_Collar_Export,src_csr,dst_csr,minlong,maxlong,minlat,maxlat)\n",
    "End_Time = datetime.now()\n",
    "print(\"Time taken in Hour_Min_Sec_MilliSec is:\", End_Time-Start_Time)"
   ]
  },
  {
   "cell_type": "code",
   "execution_count": null,
   "metadata": {},
   "outputs": [],
   "source": []
  },
  {
   "cell_type": "code",
   "execution_count": null,
   "metadata": {},
   "outputs": [],
   "source": []
  },
  {
   "cell_type": "code",
   "execution_count": 4,
   "metadata": {},
   "outputs": [
    {
     "name": "stderr",
     "output_type": "stream",
     "text": [
      "C:\\ProgramData\\Anaconda3\\lib\\site-packages\\IPython\\core\\interactiveshell.py:3249: DtypeWarning: Columns (4) have mixed types. Specify dtype option on import or set low_memory=False.\n",
      "  if (await self.run_code(code, result,  async_=asy)):\n"
     ]
    },
    {
     "name": "stdout",
     "output_type": "stream",
     "text": [
      "Time taken in Hour_Min_Sec_MilliSec is: 0:35:49.684065\n"
     ]
    }
   ],
   "source": [
    "Start_Time = datetime.now()\n",
    "dh2l_db.Attr_col_dic()\n",
    "dh2l_db.Survey_Final(DB_Survey_Export,minlong,maxlong,minlat,maxlat)\n",
    "dh2l_db.convert_survey(DB_Collar_Export,DB_Survey_Export,DB_Survey_Export_Calc)\n",
    "End_Time = datetime.now()\n",
    "print(\"Time taken in Hour_Min_Sec_MilliSec is:\", End_Time-Start_Time)"
   ]
  },
  {
   "cell_type": "code",
   "execution_count": null,
   "metadata": {},
   "outputs": [],
   "source": []
  },
  {
   "cell_type": "code",
   "execution_count": null,
   "metadata": {},
   "outputs": [],
   "source": []
  },
  {
   "cell_type": "code",
   "execution_count": 3,
   "metadata": {},
   "outputs": [
    {
     "name": "stdout",
     "output_type": "stream",
     "text": [
      "Time taken in Hour_Min_Sec_MilliSec is: 0:25:53.633952\n"
     ]
    }
   ],
   "source": [
    "Start_Time = datetime.now()\n",
    "dh2l_db.Attr_Val_Dic()\n",
    "dh2l_db.Litho_Dico()\n",
    "dh2l_db.Clean_Up()\n",
    "dh2l_db.Attr_val_With_fuzzy()\n",
    "dh2l_db.Final_Lithology(DB_Lithology_Export,minlong,maxlong,minlat,maxlat)\n",
    "dh2l_db.Upscale_lithology(DB_Lithology_Export,DB_Lithology_Upscaled_Export)\n",
    "dh2l_db.Remove_duplicates_Litho(DB_Lithology_Upscaled_Export,Upscaled_Litho_NoDuplicates_Export)\n",
    "End_Time = datetime.now()\n",
    "print(\"Time taken in Hour_Min_Sec_MilliSec is:\", End_Time-Start_Time)"
   ]
  },
  {
   "cell_type": "code",
   "execution_count": null,
   "metadata": {},
   "outputs": [],
   "source": []
  },
  {
   "cell_type": "code",
   "execution_count": null,
   "metadata": {},
   "outputs": [],
   "source": []
  },
  {
   "cell_type": "code",
   "execution_count": null,
   "metadata": {},
   "outputs": [],
   "source": [
    "Start_Time = datetime.now()\n",
    "dh2l_db.Attr_Val_Dic()\n",
    "dh2l_db.Litho_Dico()\n",
    "dh2l_db.Clean_Up()\n",
    "dh2l_db.Comments_Dic(minlong,maxlong,minlat,maxlat)\n",
    "dh2l_db.Attr_val_With_fuzzy()\n",
    "dh2l_db.Comments_With_fuzzy()\n",
    "dh2l_db.Final_Lithology_With_Comments(DB_lithology_With_Comments_Final_Export,minlong,maxlong,minlat,maxlat)\n",
    "#dh2l_db.Final_Lithology(DB_Lithology_Export,minlong,maxlong,minlat,maxlat)\n",
    "#dh2l_db.Upscale_lithology(DB_Lithology_Export,DB_Lithology_Upscaled_Export)\n",
    "#dh2l_db.Remove_duplicates_Litho(DB_Lithology_Upscaled_Export,Upscaled_Litho_NoDuplicates_Export)\n",
    "End_Time = datetime.now()\n",
    "print(\"Time taken in Hour_Min_Sec_MilliSec is:\", End_Time-Start_Time)"
   ]
  },
  {
   "cell_type": "code",
   "execution_count": null,
   "metadata": {},
   "outputs": [],
   "source": []
  },
  {
   "cell_type": "code",
   "execution_count": null,
   "metadata": {},
   "outputs": [],
   "source": []
  },
  {
   "cell_type": "code",
   "execution_count": null,
   "metadata": {},
   "outputs": [],
   "source": [
    "Start_Time = datetime.now()\n",
    "#dh2l_db.Attr_Val_Dic()\n",
    "dh2l_db.Litho_Dico()\n",
    "dh2l_db.Clean_Up()\n",
    "dh2l_db.Comments_Dic(minlong,maxlong,minlat,maxlat)\n",
    "#dh2l_db.Attr_val_With_fuzzy()\n",
    "dh2l_db.Comments_With_fuzzy()\n",
    "dh2l_db.Final_lithology_Only_Comments(DB_lithology_Only_Comments_Final_Export,minlong,maxlong,minlat,maxlat)\n",
    "#dh2l_db.Final_Lithology(DB_Lithology_Export,minlong,maxlong,minlat,maxlat)\n",
    "#dh2l_db.Upscale_lithology(DB_Lithology_Export,DB_Lithology_Upscaled_Export)\n",
    "#dh2l_db.Remove_duplicates_Litho(DB_Lithology_Upscaled_Export,Upscaled_Litho_NoDuplicates_Export)\n",
    "End_Time = datetime.now()\n",
    "print(\"Time taken in Hour_Min_Sec_MilliSec is:\", End_Time-Start_Time)"
   ]
  },
  {
   "cell_type": "code",
   "execution_count": null,
   "metadata": {},
   "outputs": [],
   "source": []
  },
  {
   "cell_type": "code",
   "execution_count": 3,
   "metadata": {},
   "outputs": [
    {
     "data": {
      "text/html": [
       "<div>\n",
       "<style scoped>\n",
       "    .dataframe tbody tr th:only-of-type {\n",
       "        vertical-align: middle;\n",
       "    }\n",
       "\n",
       "    .dataframe tbody tr th {\n",
       "        vertical-align: top;\n",
       "    }\n",
       "\n",
       "    .dataframe thead th {\n",
       "        text-align: right;\n",
       "    }\n",
       "</style>\n",
       "<table border=\"1\" class=\"dataframe\">\n",
       "  <thead>\n",
       "    <tr style=\"text-align: right;\">\n",
       "      <th></th>\n",
       "      <th>Unnamed: 0</th>\n",
       "      <th>Company_ID</th>\n",
       "      <th>collarid</th>\n",
       "      <th>fromdepth</th>\n",
       "      <th>todepth</th>\n",
       "      <th>Company_LithoCode</th>\n",
       "      <th>Company_Litho</th>\n",
       "      <th>comp lithology</th>\n",
       "      <th>Score</th>\n",
       "      <th>Level_3</th>\n",
       "      <th>...</th>\n",
       "      <th>xbt</th>\n",
       "      <th>ybt</th>\n",
       "      <th>zbt</th>\n",
       "      <th>xmt</th>\n",
       "      <th>ymt</th>\n",
       "      <th>zmt</th>\n",
       "      <th>xet</th>\n",
       "      <th>yet</th>\n",
       "      <th>zet</th>\n",
       "      <th>Unnamed: 20</th>\n",
       "    </tr>\n",
       "  </thead>\n",
       "  <tbody>\n",
       "    <tr>\n",
       "      <td>0</td>\n",
       "      <td>36</td>\n",
       "      <td>3050</td>\n",
       "      <td>548917</td>\n",
       "      <td>0.0</td>\n",
       "      <td>19.0</td>\n",
       "      <td>Fgd</td>\n",
       "      <td>granodiorite</td>\n",
       "      <td>granodiorite</td>\n",
       "      <td>101</td>\n",
       "      <td>granodiorite</td>\n",
       "      <td>...</td>\n",
       "      <td>514164.694405</td>\n",
       "      <td>6.747200e+06</td>\n",
       "      <td>331.316000</td>\n",
       "      <td>514168.725634</td>\n",
       "      <td>6.747200e+06</td>\n",
       "      <td>322.722624</td>\n",
       "      <td>514170.979020</td>\n",
       "      <td>6.747200e+06</td>\n",
       "      <td>313.520157</td>\n",
       "      <td>NaN</td>\n",
       "    </tr>\n",
       "    <tr>\n",
       "      <td>1</td>\n",
       "      <td>37</td>\n",
       "      <td>3050</td>\n",
       "      <td>548917</td>\n",
       "      <td>19.0</td>\n",
       "      <td>27.0</td>\n",
       "      <td>Fgd</td>\n",
       "      <td>granodiorite</td>\n",
       "      <td>granodiorite</td>\n",
       "      <td>101</td>\n",
       "      <td>granodiorite</td>\n",
       "      <td>...</td>\n",
       "      <td>514170.979020</td>\n",
       "      <td>6.747200e+06</td>\n",
       "      <td>313.520157</td>\n",
       "      <td>514171.204428</td>\n",
       "      <td>6.747200e+06</td>\n",
       "      <td>309.528639</td>\n",
       "      <td>514171.204428</td>\n",
       "      <td>6.747200e+06</td>\n",
       "      <td>305.528639</td>\n",
       "      <td>NaN</td>\n",
       "    </tr>\n",
       "    <tr>\n",
       "      <td>2</td>\n",
       "      <td>38</td>\n",
       "      <td>3050</td>\n",
       "      <td>548917</td>\n",
       "      <td>27.0</td>\n",
       "      <td>31.0</td>\n",
       "      <td>Fgd</td>\n",
       "      <td>granodiorite</td>\n",
       "      <td>granodiorite</td>\n",
       "      <td>101</td>\n",
       "      <td>granodiorite</td>\n",
       "      <td>...</td>\n",
       "      <td>514171.204428</td>\n",
       "      <td>6.747200e+06</td>\n",
       "      <td>305.528639</td>\n",
       "      <td>514171.204428</td>\n",
       "      <td>6.747200e+06</td>\n",
       "      <td>303.528639</td>\n",
       "      <td>514171.204428</td>\n",
       "      <td>6.747200e+06</td>\n",
       "      <td>301.528639</td>\n",
       "      <td>NaN</td>\n",
       "    </tr>\n",
       "    <tr>\n",
       "      <td>3</td>\n",
       "      <td>39</td>\n",
       "      <td>3050</td>\n",
       "      <td>548917</td>\n",
       "      <td>31.0</td>\n",
       "      <td>39.0</td>\n",
       "      <td>Fgd</td>\n",
       "      <td>granodiorite</td>\n",
       "      <td>granodiorite</td>\n",
       "      <td>101</td>\n",
       "      <td>granodiorite</td>\n",
       "      <td>...</td>\n",
       "      <td>514171.204428</td>\n",
       "      <td>6.747200e+06</td>\n",
       "      <td>301.528639</td>\n",
       "      <td>514171.204428</td>\n",
       "      <td>6.747200e+06</td>\n",
       "      <td>297.528639</td>\n",
       "      <td>514171.204428</td>\n",
       "      <td>6.747200e+06</td>\n",
       "      <td>293.528639</td>\n",
       "      <td>NaN</td>\n",
       "    </tr>\n",
       "    <tr>\n",
       "      <td>4</td>\n",
       "      <td>40</td>\n",
       "      <td>3050</td>\n",
       "      <td>548917</td>\n",
       "      <td>39.0</td>\n",
       "      <td>41.0</td>\n",
       "      <td>Fgd</td>\n",
       "      <td>granodiorite</td>\n",
       "      <td>granodiorite</td>\n",
       "      <td>101</td>\n",
       "      <td>granodiorite</td>\n",
       "      <td>...</td>\n",
       "      <td>514171.204428</td>\n",
       "      <td>6.747200e+06</td>\n",
       "      <td>293.528639</td>\n",
       "      <td>514171.204428</td>\n",
       "      <td>6.747200e+06</td>\n",
       "      <td>292.528639</td>\n",
       "      <td>514171.204428</td>\n",
       "      <td>6.747200e+06</td>\n",
       "      <td>291.528639</td>\n",
       "      <td>NaN</td>\n",
       "    </tr>\n",
       "  </tbody>\n",
       "</table>\n",
       "<p>5 rows × 22 columns</p>\n",
       "</div>"
      ],
      "text/plain": [
       "   Unnamed: 0  Company_ID  collarid  fromdepth  todepth Company_LithoCode  \\\n",
       "0          36        3050    548917        0.0     19.0               Fgd   \n",
       "1          37        3050    548917       19.0     27.0               Fgd   \n",
       "2          38        3050    548917       27.0     31.0               Fgd   \n",
       "3          39        3050    548917       31.0     39.0               Fgd   \n",
       "4          40        3050    548917       39.0     41.0               Fgd   \n",
       "\n",
       "  Company_Litho comp lithology  Score       Level_3  ...            xbt  \\\n",
       "0  granodiorite   granodiorite    101  granodiorite  ...  514164.694405   \n",
       "1  granodiorite   granodiorite    101  granodiorite  ...  514170.979020   \n",
       "2  granodiorite   granodiorite    101  granodiorite  ...  514171.204428   \n",
       "3  granodiorite   granodiorite    101  granodiorite  ...  514171.204428   \n",
       "4  granodiorite   granodiorite    101  granodiorite  ...  514171.204428   \n",
       "\n",
       "            ybt         zbt            xmt           ymt         zmt  \\\n",
       "0  6.747200e+06  331.316000  514168.725634  6.747200e+06  322.722624   \n",
       "1  6.747200e+06  313.520157  514171.204428  6.747200e+06  309.528639   \n",
       "2  6.747200e+06  305.528639  514171.204428  6.747200e+06  303.528639   \n",
       "3  6.747200e+06  301.528639  514171.204428  6.747200e+06  297.528639   \n",
       "4  6.747200e+06  293.528639  514171.204428  6.747200e+06  292.528639   \n",
       "\n",
       "             xet           yet         zet  Unnamed: 20  \n",
       "0  514170.979020  6.747200e+06  313.520157          NaN  \n",
       "1  514171.204428  6.747200e+06  305.528639          NaN  \n",
       "2  514171.204428  6.747200e+06  301.528639          NaN  \n",
       "3  514171.204428  6.747200e+06  293.528639          NaN  \n",
       "4  514171.204428  6.747200e+06  291.528639          NaN  \n",
       "\n",
       "[5 rows x 22 columns]"
      ]
     },
     "execution_count": 3,
     "metadata": {},
     "output_type": "execute_result"
    }
   ],
   "source": [
    "geology=pd.read_csv (DB_Lithology_Export_Calc)\n",
    "geology=geology.rename(columns={\"CollarID\": \"collarid\", \"FromDepth\": \"fromdepth\", \"ToDepth\": \"todepth\", \"CET_Litho\":\"comp lithology\"})\n",
    "geology['collarid'] = geology['collarid'].astype(int)\n",
    "geology.head()"
   ]
  },
  {
   "cell_type": "code",
   "execution_count": null,
   "metadata": {},
   "outputs": [],
   "source": []
  },
  {
   "cell_type": "code",
   "execution_count": 4,
   "metadata": {},
   "outputs": [],
   "source": [
    "minlong=116.5\n",
    "maxlong=117.2\n",
    "minlat=-29.5\n",
    "maxlat=-28.8\n",
    "bounds=(minlong,maxlong,minlat,maxlat)  #query bounds\n",
    "\n",
    "query = \"\"\"SELECT  a.id, a.dhgeochemistryid, s.collarid, c.holeid, c.companyholeid, s.fromdepth, s.todepth,  a.attributecolumn, a.attributevalue\n",
    "FROM public.dhgeochemistryattr AS a \n",
    "INNER JOIN public.dhgeochemistry AS s ON a.dhgeochemistryid = s.id\n",
    "INNER JOIN public.collar AS c ON s.collarid = c.id\n",
    "WHERE(longitude BETWEEN %s  AND %s AND latitude BETWEEN %s AND %s)\n",
    "ORDER BY c.companyid ASC\n",
    "\"\"\"\n",
    "conn = psycopg2.connect(host=\"130.95.198.59\", port = 5432, database=\"gswa_dh\", user=\"postgres\", password=\"loopie123pgpw\")\n",
    "cur = conn.cursor()\n",
    "cur.execute(query, bounds)\n",
    "dhchemistryattrygsb = pd.DataFrame(cur.fetchall())\n",
    "cur.close()\n",
    "conn.close()"
   ]
  },
  {
   "cell_type": "code",
   "execution_count": 5,
   "metadata": {},
   "outputs": [
    {
     "name": "stdout",
     "output_type": "stream",
     "text": [
      "['Zn(MAD)', 'Ni(MAD)', 'Au(FA)', 'Pt(FA)', 'Pd(FA)', 'Cu(MAD)', 'Ag(MAD)', 'Pb(MAD)', 'Fe_1', 'Ti_1', 'V_1', 'Cr_1', 'Fe', 'Ti', 'V', 'Au(AR)', 'Cu(AR)', 'Zn(AR)', 'Ni(AR)', 'Ag(AR)', 'Pt(AR)', 'Pd(AR)', 'Pb(AR)', 'Cr(AR)', 'Ti(AR)', 'V(AR)', 'Au(FA)_1', 'Au(AR)_1', 'Lab', 'Assay_code', 'Assay_Company', 'Sample Type', 'Cu', 'Ca', 'Ba', 'As', 'Data_Source', 'Has_Duplicate', 'Sampled_By', 'Date_Sampled', 'Sample_Weight_kg', 'Sample_Category', 'Sample_Method', 'Sample_Type', 'DataSet', 'Mo', 'Au_ppm', 'Pb', 'S', 'Sn', 'Ta', 'W', 'WO3', 'Zn', 'LOI 1000', 'Au_Batch_No', 'Comments', 'Au1_ppm', 'Au', 'Superseded', 'Sample_Condition', 'Time_g3_S', 'Time_g2_S', 'p38um_g3_g', 'p38um_g2_g', 'p38um_g1_g', 'Wt_Sample_g', 'Wt_recov_pct', 'Wt_non_mag_g', 'Wt_mag_g', 'Wt_g1_tot_g', 'LOI_head_pct', 'LOI_conc_pct', 'SiO2_head_pct', 'SiO2_conc_pct', 'S_head_pct', 'S_conc_pct', 'P_head_pct', 'P_conc_pct', 'Na2O_head_pct', 'Na2O_conc_pct', 'Mn_head_pct', 'Mn_conc_pct', 'MgO_head_pct', 'MgO_conc_pct', 'K2O_head_pct', 'K2O_conc_pct', 'Fe2pl_head_pct', 'Fe2pl_conc_pct', 'Fe_recov_pct', 'Fe_head_pct', 'Fe_conc_pct', 'CaO_head_pct', 'CaO_conc_pct', 'Al2O3_head_pct', 'Al2O3_conc_pct', 'Sample_Code', 'Zn_ppm', 'V2O5_ppm', 'TiO2_pct', 'SiO2_pct', 'S_pct', 'Pb_ppm', 'P_pct', 'Na2O_pct', 'MnO_pct', 'Mgo_pct', 'LOI_pct', 'K2O_pct', 'Fe_pct', 'Cu_ppm', 'CaO_pct', 'Al2O3_pct', 'Auppm2', 'Batch_No', 'Recvd Wt.', 'Sample_Recovery', 'Sb_ppm', 'Ni_ppm', 'Mn_ppm', 'Cr_ppm', 'Ars_ppm', 'Bi_ppm', 'Ag_ppm', 'Zr', 'Th', 'Te', 'Sr', 'Se', 'Sb', 'Rb', 'Pt', 'Pd', 'Ni', 'K', 'V_ppm', 'Auppm', 'W_ppm', 'Mo_ppm', 'Co_ppm', 'Contamination', 'Hf', 'Cs', 'Cr', 'Mg', 'Co', 'Au-Rp1', 'Pt_ppm', 'Cd_ppm', 'Ag', 'Au2', 'Au1', 'Bi', 'Sc', 'Pd_ppb', 'Pt_ppb', 'Au-Rp2', 'U', 'Tl', 'P', 'Na', 'Mn', 'La', 'Pd_ppm', 'Ga', 'AuAR2_ppm', 'Time_g4_S', 'Cd', 'Be', 'Al', 'AU1', 'Sn_ppm', 'PackageName', 'PackageID', 'UserID', 'CoElement5Grade', 'CoElement4Grade', 'CoElement3Grade', 'CoElement2Grade', 'CoElement1Grade', 'MaxInternalWaste', 'MinIntercept', 'MaxCutOff', 'MinCutOff', 'InterceptDescription', 'Grade', 'IntervalWidth', 'Element', 'Pass75um', 'Au-Rp3', 'Au_ppb', 'DATASET', 'SAMPLE_TYP', 'AU_BATCH_N', 'AU_PPM', 'HAS_DUPLIC', 'SUPERSEDED', 'SAMPLED_BY', 'AU_GENERIC', 'COMMENTS', 'DATE_SAMPL', 'AU1_PPM', 'GRID', 'AS', 'AU', 'ORDER_NO', 'CR', 'NI', 'ZN', 'PB', 'CU', 'BI', 'SB', 'AUA', 'JOB', 'TYPE', 'NORTH', 'AU9', 'AU8', 'AU7', 'AU6', 'AU5', 'AU4', 'Sample', 'Data_Type', 'Drilling_Type_2', 'North_2', 'East_2', 'RL', 'Au3', 'Au4', 'F', 'Hg', 'Job_No', 'HasParam_2', 'Collar_ID_2', 'Load_Number_2', 'Date_Updated_2', 'User_Updating_2', 'Update_Status_2', 'Prospect_Code', 'batch_no', 'samp_type', 'au', 'cu', 'ag', 'as', 'temp_n', 'TEN_NAME', 'Type_Job', 'AU3', 'MO', 'AU2', 'FE', 'North', 'Drilling_Type', 'Sheet_Number', 'Company', 'Update_Status', 'User_Updating', 'Date_Updated', 'Load_Number', 'Collar_ID', 'HasTextParams', 'HasParam', 'au1', 'East', '100K Sheet', 'MN', 'CA', 'Associated_Sample_Number', 'Duplicate_Flag', 'AG', 'GRID_N', 'WIDTH', 'Drilling_Type_3', 'Order_no', 'SB1', 'SB2', 'CO', 'PT', 'PT1', 'PD', 'PD1', 'SE', 'TE', 'GRID_E', 'AMG_N', 'AMG_E', 'SN', 'comments', 'Preferred_Interval', 'EAST-WGS84N', 'HOLE', 'NORTH-WGS8N', 'AU(R)', 'MAPINFO_ID', 'Au_Assay_Code', 'Gindalbie_OrderNo', 'Fe_pc', 'Arsenic_ppm', 'As_ppm', 'AuAR1_ppm', 'AuFA1_ppm', 'Au1_Plot', 'SupersededFlag', 'Hole_Type', 'SampCat', 'Prospect', 'Sample Code', 'AuAR1', 'Drill_Type', 'SampCategory', 'load_stamp', 'V2O5_per', 'Date_sampled', 'Lab_number', 'Total_per', 'LOI', 'Na2O_per', 'SO3_per', 'P2O5_per', 'MgO_per', 'K2O_per', 'CaO_per', 'MnO_per', 'Fe2O3_per', 'TiO2_per', 'SiO2_per', 'Al2O3_per', 'MAGSUS', 'AuLW2', 'AuLW1', 'AuFA1', 'Ag_ppb', 'CN_Recovery', 'AuTail3_ppm', 'AuTail2_ppm', 'AuTail1_ppm', 'AuLW2_ppm', 'AuLW1_ppm', 'zAssociated_Sample_Number', 'AuAR3_ppm', 'AuFA2', 'AuFA3', 'AuFA2_ppm', 'AuFA3_ppm', 'AuBE1_ppb', 'AuAR3', 'AuAR2', 'AuBE2_ppb', 'Pd1_ppm', 'Pt1_ppm', 'description', 'AU LW Tail', 'Au LW', 'AuLW Tail2', 'AuLW Tail1', 'AuFA4_ppm', 'AuLW3_ppm', 'AuAR4_ppm', 'TiO2', 'Al2O3', 'CaO', 'K2O', 'MgO', 'MnO', 'Na2O', 'SiO2', 'LOI1000', 'P XRF', 'S XRF', 'Cl', 'DTR', 'Hole Type', 'Ag ppm', 'As ppm', 'Au ppm', 'Cu ppm', 'Ni ppm', 'Pb ppm', 'Pt ppm', 'Zn ppm', 'Pd ppm', 'Au1 ppm', 'Al2O3%', 'Fe%', 'S%', 'TiO2%', 'CaO%', 'K2O%', 'LOI%', 'MgO%', 'MnO%', 'Na2O%', 'P ppm', 'P%', 'SiO2%', 'Cr ppm', 'Ag1 ppm', 'As1 ppm', 'Cr1 ppm', 'Cu1 ppm', 'Ni1 ppm', 'Pb1 ppm', 'Sample Category', 'V2O5', 'AuTail ppm', 'AuLW1 ppm', 'Ag2 ppm', 'As2 ppm', 'Bi ppm', 'Cu2 ppm', 'Mo ppm', 'Ni2 ppm', 'Pb2 ppm', 'Cr2 ppm', 'Al2O3 %', 'S %', 'TiO2 %', 'CaO %', 'LOI %', 'K2O %', 'MgO %', 'MnO %', 'Na2O %', 'P %', 'SiO2 %', 'V2O5 ppm', 'S ppm', 'Au ppb', 'Au3 ppm', 'Au2 ppm', 'AuLW2 ppm', 'Sample_Recovery_Pct', 'Sb ppm', 'AuLW3 ppm', 'Au4 ppm', 'Lab_Job_Date', 'AuMi1 ppm', 'AuMi2 ppm', 'TiO2_head_pct', 'TiO2_conc_pct', 'Sample_Description', 'Sample_Ore_Type', 'Sample_Munsell_Colour', 'Logger_Id', 'Wt Total', 'Sample_code', 'WtTotal', 'Laboratory', 'Method', 'Order', 'Batch_Number', 'Date', 'Fe_%', 'SiO2_%', 'AI2O3_%', 'TiO2_%', 'CaO_%', 'P_%', 'S_%', 'XRF_Lab', 'Resample', 'K2O_%', 'MgO_%', 'MnO_%', 'Na2O_%', 'Au_ARL1_ppb', 'LOI_%', 'FeO%', 'Fe3O4 SATMAGAN', 'DTR_Composite', 'Al203', 'FeO', 'DTR_recovery', 'DTR_Lab', 'AI2O3', 'Job_no', 'Interval', 'Al203_C', 'CaO_C', 'Fe_C', 'FeO_C', 'K2O_C', 'Type', 'Job Number', 'MgO_C', 'MnO_C', 'TiO2_C', 'SiO2_C', 'S_C', 'P_C', 'Na2O_C', 'LOI_C', 'Wt', 'Fe_C%', 'Al203_C%', 'CaO_C%', 'K2O_C%', 'MgO_C%', 'MnO_C%', 'Na2O_C%', 'P_C%', 'S_C%', 'SiO2_C%', 'TiO2_C%', 'LOI_C%', 'DTR_recovery_%', 'Wt (g)', '_+63�m', '_+53�m', '_+45�m', '_-45�m', '_+38�m', '_-38�m', 'Na_%', 'Flag', 'FeO_C%', 'Au_ARL2_ppb', 'Au_ARL3_ppb', 'Au_3', 'Au _2', 'Au-Rpt1', 'Comment', 'In', 'Grid_ID', 'Precollar_Depth', 'Tenement', 'Locality', 'Final_Depth', 'Log_By', 'Sample_ID', 'Prospect_c', 'Co ppm', 'Samp_type', 'P_Drill_Rig', 'P_Drill_Co', 'Perc_End', 'Perc_Start', 'Longitude', 'Latitude', 'Azumith', 'Dip', 'RL_Local', 'RL_Regional', 'Amg_E', 'Amg_N', 'Order No', 'Mn ppm', 'Fe %', 'Dh_label', 'Aur ppm', 'Dup_orig', 'Dup_std_no', 'dup_no', 'V ppm', 'Lab Job No.', 'NDY Job No.', 'Cd ppm', 'Fe ppm', 'W ppm', 'Drill Type', 'Drill_Code', 'Sample Method', 'Unknown', 'AU-PPM(AV)', 'PT-PPB', 'PT-PPB(AV)', 'PD-PPB', 'JOB-NO.', 'LAB', 'AU-PPM', 'DATE', 'FLAG', 'PD-PPB(AV)', 'PT/PD', 'PT+PD(AV)', 'METHOD', 'resampled', 'AS-PPM', 'CR-PPM', 'NI-PPM', 'CU-PPM', 'AU-PPB', 'AU-PPB(AV)', 'Batch_no', 'AU1-PPB', 'AU1-PPM', 'PD1-PPB', 'PT1-PPB', 'AU2-PPB', 'AU2-PPM', 'CO-PPM', 'OS-PPB', 'IR-PPB', 'RU-PPB', 'RH-PPB', 'MgO_pct', 'P_ppm', 'Geologist', 'Ni_pct', 'Au2_ppb', 'Au1_ppb', 'Au_Pt_Pd_ppb', 'Pt_Pd_ppb', 'U_ppm', 'Au_GenericMethod', 'StandardID', 'Au_100', 'Au_101', 'Resampled', 'Batch No.', 'Samp Type', 'SampleType', 'Batch No', 'Au(S)', 'Sample_type', 'au1_ppm', 'au2_ppm', 'Au(R)', 'As1_ppm', 'Pd1', 'Pt1', 'Au_ppm_100', 'Pt1_ppb', 'Pd1_ppb', 'Au1_ppm_100', 'Co_pct', 'Dataset', 'Au(Ar)_1', 'Au(Ar)_3', 'Au(Ar)_2', 'WtTotal_g', 'Fe_batch_no', 'Fe_labcode', 'Recovery', 'Condition', 'Assay Method', 'Fe2O3', 'BaO', 'Cr2O3', 'Ta2O5', 'Si02', 'A1203', 'Ti02', 'Ca0', 'K20', 'LO1400', 'LO1600', 'Magnasat', 'batch']\n"
     ]
    }
   ],
   "source": [
    "dhchemistryattrygsb.columns = ['id', 'dhgeochemistryid', 'collarid', 'holeid', 'companyholeid', 'fromdepth', 'todepth',  'attributecolumn', 'attributevalue']\n",
    "unique= dhchemistryattrygsb['attributecolumn'].unique().tolist()\n",
    "print(unique)"
   ]
  },
  {
   "cell_type": "code",
   "execution_count": 6,
   "metadata": {},
   "outputs": [],
   "source": [
    "dhchemistryattrygsb= dhchemistryattrygsb[dhchemistryattrygsb['attributecolumn'].isin([\n",
    "                                                                                    'Al2O3_pct',\n",
    "                                                                                    'CaO_pct',\n",
    "                                                                                    'Cu_ppm',\n",
    "                                                                                    'Fe_pct',\n",
    "                                                                                    'K2O_pct',\n",
    "                                                                                    'Mgo_pct',\n",
    "                                                                                    'MnO_pct',\n",
    "                                                                                    'Na2O_pct',\n",
    "                                                                                    'P_pct',\n",
    "                                                                                    'Pb_ppm',\n",
    "                                                                                    'S_pct',\n",
    "                                                                                    'SiO2_pct',\n",
    "                                                                                    'Zn_ppm'\n",
    "                                                                                    ])]"
   ]
  },
  {
   "cell_type": "code",
   "execution_count": 7,
   "metadata": {},
   "outputs": [],
   "source": [
    "dhchemistryattrygsb = pd.pivot_table(dhchemistryattrygsb, values='attributevalue', index=['dhgeochemistryid', 'collarid', 'holeid', 'companyholeid', 'fromdepth', 'todepth'],\n",
    "                    columns=['attributecolumn'], aggfunc='first')\n",
    "dhchemistryattrygsb.to_csv('../data/export_db/DB_Geochemistry_Export.csv')"
   ]
  },
  {
   "cell_type": "code",
   "execution_count": 8,
   "metadata": {},
   "outputs": [],
   "source": [
    "geochemistry=pd.read_csv ('../data/export_db/DB_Geochemistry_Export.csv')"
   ]
  },
  {
   "cell_type": "code",
   "execution_count": 9,
   "metadata": {},
   "outputs": [
    {
     "name": "stdout",
     "output_type": "stream",
     "text": [
      "dict_keys(['1146526', '1146528', '1146530', '1146531', '1146650', '1233095', '1233096', '1233098', '1233099', '1233100', '1233101', '1233102', '1233103', '1233104', '1233105', '1233106', '1233107', '1233108', '1233109', '1233110', '1233113', '1233114', '1233115', '1233116', '1233117', '1233118', '1233121', '1233125', '1233126', '1233127', '1233130', '1233133', '1233135', '1233136', '1233137', '1233138', '1233140', '1233141', '1233142', '1233143', '1233144', '1233145', '1233146', '1233148', '1233149', '1233150', '1233151', '1233153', '1233154', '1233155', '1233156', '1233157', '1233172', '1233179', '1233185', '1233205', '1233206', '1233207', '1233208', '1233209', '1233210', '1233211', '1233212', '1233213', '1233214', '1233215', '1233216', '1233218', '1233220', '1233221', '1233222', '1233223', '1233224', '1233225', '1233226', '1233227', '1233228', '548917', '548918', '548919', '548920', '548921', '548922', '548924', '548925', '792942', '792943', '792948', '792949', '792950', '792951', '792952', '827751', '831902', '831903', '931212', '931213', '931214', '931215', '931216', '931217', '931218'])\n",
      "dict_keys(['1006630', '1006631', '1006632', '1006633', '1006634', '1006635', '1006636', '1006637', '1006638', '1006639', '1006640', '1006641', '1006642', '1006643', '1006644', '1006645', '1006646', '1006647', '1006648', '1006649', '1006650', '1006651', '1006652', '1006653', '1006654', '1006655', '1006656', '1233095', '1233096', '1233097', '1233098', '1233099', '1233100', '1233101', '1233102', '1233103', '1233104', '1233105', '1233106', '1233107', '1233108', '1233109', '1233110', '1233111', '1233112', '1233113', '1233114', '1233115', '1233116', '1233117', '1233118', '1233119', '1233120', '1233121', '1233122', '1233123', '1233124', '1233125', '1233126', '1233127', '1233128', '1233129', '1233130', '1233131', '1233132', '1233133', '1233134', '1233135', '1233136', '1233137', '1233138', '1233139', '1233140', '1233141', '1233142', '1233143', '1233144', '1233145', '1233146', '1233147', '1233148', '1233149', '1233150', '1233151', '1233152', '1233153', '1233154', '1233155', '1233156', '1233157', '1233158', '1233159', '1233160', '1233161', '1233162', '1233163', '1233164', '1233165', '1233166', '1233167', '1233168', '1233169', '1233170', '1233171', '1233172', '1233173', '1233174', '1233175', '1233176', '1233177', '1233178', '1233179', '1233180', '1233181', '1233182', '1233183', '1233184', '1233185', '1233186', '1233187', '1233188', '1233189', '1233190', '1233191', '1233192', '1233193', '1233194', '1233195', '1233196', '1233197', '1233198', '1233199', '1233200', '1233201', '1233202', '1233203', '1233204', '1233205', '1233206', '1233207', '1233208', '1233209', '1233210', '1233211', '1233212', '1233213', '1233214', '1233215', '1233216', '1233217', '1233218', '1233219', '1233220', '1233221', '1233222', '1233223', '1233225', '1233226', '1233227', '1233228', '1233229', '1233230', '1233231', '1233232', '1233233', '1233234', '1233235', '1233237', '1233238', '1233255', '1233256', '1233257', '1233258', '1233259', '1233260', '1233261', '1233262', '1233263', '1233264', '1233265', '1233266', '1233267', '1233268', '1233269', '1233270', '1233271', '1233272', '1233273', '1233274', '1233275', '1233276', '1233277', '1233278', '1233279', '1233280', '1233281', '1233282', '1233283', '1233284', '1233285', '1233286', '1233287', '1233288', '1233289', '1233290', '1233291', '1233292', '1233293', '1233294', '1233295', '1233296', '1233297', '1233298', '1233299', '1233300', '1233301', '1233302', '1233303', '1233304', '1233305', '1233306', '1233307', '148680', '148681', '148682', '148683', '148684', '148685', '148686', '148687', '148688', '148689', '148690', '148691', '148692', '1547491', '1547492', '1547493', '1547494', '1547495', '1547496', '1547497', '1547498', '1547499', '1547500', '1547501', '1547502', '1547503', '1627400', '1627401', '1627402', '1627403', '1627404', '1627406', '1627409', '1627420', '1627421', '1627422', '1627423', '1627424', '1627425', '1627426', '1627428', '1627431', '1627432', '1627433', '1627434', '1627435', '1627444', '1627445', '1627453', '1627456', '1627458', '1627499', '1627500', '1627501', '1627502', '1664625', '1664799', '1664800', '1664801', '1664802', '1664803', '1664804', '1664805', '1664806', '1664807', '1664808', '1664809', '1664810', '1664811', '1664812', '1664813', '1664815', '1664816', '1664817', '1664818', '1664819', '1664820', '1664821', '1664822', '1664823', '1664824', '1674082', '1674083', '1674084', '1674085', '1674086', '1674087', '1674088', '1674089', '1674090', '1674091', '1674092', '1674093', '1674094', '1674095', '1674096', '1674097', '1674098', '1674099', '1674100', '1674101', '1674102', '1674103', '1674104', '1674105', '1674106', '1674107', '1674108', '1674109', '1674110', '1674111', '1674112', '1674113', '1674114', '1674115', '1674116', '1674117', '1674118', '1674119', '1674120', '1674121', '1674122', '1674123', '1674124', '1674125', '1674126', '1674127', '1674128', '1674129', '1674130', '1674131', '1674132', '1674133', '1674134', '1674135', '1674136', '1674137', '1674138', '1674139', '1674140', '1674141', '1674142', '1674143', '1674144', '1674145', '1674146', '1674147', '1674148', '1674149', '1674150', '1674151', '1674152', '1674153', '1674154', '1674155', '1674156', '1674157', '1674158', '1674159', '1674160', '1674161', '1674162', '1674163', '1674164', '1674165', '1674166', '1674167', '1674168', '1674169', '1674170', '1674171', '1674172', '1674173', '1674174', '1674175', '1674176', '1674177', '1674178', '1674179', '1674180', '1674181', '1674182', '1674183', '1674184', '1674185', '1674186', '1674187', '1674188', '1674189', '1674190', '1674191', '1674192', '1674193', '1674194', '1674195', '1674196', '1674197', '1674198', '1674199', '1674200', '1674201', '1674202', '1674203', '1674204', '1674205', '1674206', '1674207', '1674208', '1674209', '1674210', '1674211', '1674212', '1674213', '1674214', '1674215', '1674216', '1674217', '1674218', '1674219', '1674220', '1674221', '1674222', '1674223', '1674224', '1674225', '1674226', '1674227', '1674228', '1674229', '1674230', '1674231', '1674232', '1674233', '1674234', '1674235', '1674236', '1674237', '1674238', '1674239', '1674240', '1674241', '1674242', '1674243', '1674244', '1674245', '1674246', '1674247', '1674248', '1674249', '1674250', '1674251', '1674252', '1674253', '1674254', '1674255', '1674256', '1674257', '1674258', '1674259', '1674260', '1674261', '1674262', '1674263', '1674264', '1674265', '1674266', '1674267', '1674268', '1674269', '1674270', '1674271', '1674272', '1674287', '1674288', '1674289', '1674290', '1674291', '1674292', '1674293', '1674294', '1674295', '1674296', '1674297', '1674298', '1674299', '1805549', '1805550', '1805551', '1805552', '1805553', '1805554', '1805555', '1805556', '1805557', '1805558', '1805559', '1805560', '1805561', '1805562', '1805563', '1805564', '1805565', '1805566', '1805567', '1805569', '1805570', '1805571', '1805572', '1805573', '1805574', '1805575', '1805576', '1805577', '1805579', '1805580', '1805581', '1805582', '1805583', '1805584', '1805585', '1805586', '1805587', '1805588', '1805589', '1805590', '1805591', '1805592', '1805593', '1805594', '1805595', '1805596', '1805597', '1805599', '1805600', '1805601', '1932289', '1932290', '1932291', '1932292', '1932293', '1932294', '1932295', '1932296', '1932297', '1932298', '1932299', '2152508', '2152510', '2152511', '2214950', '2214951', '2214952', '2214953', '2214954', '2214955', '2214956', '2214957', '2214958', '2214959', '2214960', '2214961', '2214962', '2214963', '2214964', '2214965', '2214966', '2214967', '2214968', '2214969', '2214970', '2214971', '2214972', '2214973', '2214974', '2214975', '2214976', '2214977', '2214978', '2214979', '2214980', '2214981', '2214982', '2214983', '2214984', '2214985', '2214986', '2214987', '2214988', '2214989', '2214990', '223394', '223395', '223396', '223397', '223400', '223401', '223402', '223403', '223404', '223405', '223406', '223407', '223408', '223409', '223410', '223411', '223418', '223419', '223420', '223421', '223423', '223424', '223426', '223427', '223429', '223431', '223432', '223433', '223434', '223435', '223436', '223438', '223440', '223441', '223442', '223443', '223444', '223445', '223446', '223447', '223448', '223449', '223450', '223451', '223452', '223453', '223454', '223455', '223456', '223457', '223458', '223459', '223460', '223461', '223462', '223463', '223464', '223465', '223466', '223467', '223468', '223469', '223470', '223471', '223472', '223473', '223474', '223475', '223476', '223477', '223478', '223479', '223480', '223481', '223482', '223483', '223484', '223485', '223486', '223487', '223488', '223489', '223490', '223491', '223492', '223493', '223494', '223495', '223496', '223497', '223498', '223499', '223500', '223501', '223502', '223503', '223504', '223505', '223506', '223507', '223508', '223509', '223510', '223511', '223512', '223513', '223514', '232381', '232382', '232383', '232384', '232385', '232386', '232387', '232388', '232389', '232390', '232391', '232392', '232393', '232394', '232395', '232396', '232397', '232398', '232399', '232400', '232401', '232402', '232403', '232404', '232405', '232406', '232407', '232408', '232409', '232410', '232411', '232412', '232413', '232414', '232415', '232416', '232427', '232428', '232429', '232430', '232431', '232432', '232433', '232434', '232435', '232436', '232437', '232438', '232439', '232440', '232441', '232442', '232443', '232444', '232445', '232446', '232447', '232448', '232449', '232450', '232451', '232452', '232453', '232454', '232455', '232456', '232457', '232458', '232459', '232460', '232461', '232462', '232463', '232464', '232465', '232466', '232467', '232468', '232469', '232470', '232471', '232472', '232473', '232474', '232475', '232476', '232477', '232478', '232479', '232480', '232481', '232482', '232483', '232484', '232485', '232486', '232487', '232488', '232489', '232490', '232491', '232492', '232493', '232494', '232495', '232496', '232497', '232498', '232499', '232500', '232501', '232502', '232503', '232504', '232505', '232506', '232507', '232508', '232509', '232510', '232511', '232512', '232513', '232514', '232515', '232516', '232517', '232518', '232519', '232520', '232521', '232522', '232523', '232524', '232525', '232526', '232527', '232528', '232529', '232530', '232531', '232532', '232533', '232534', '232535', '232536', '232811', '232812', '232813', '232814', '232815', '232816', '232817', '232818', '232819', '232820', '232821', '232822', '232823', '232824', '232825', '232826', '232827', '232828', '232829', '232830', '232831', '232832', '232833', '232834', '232835', '232836', '232837', '232838', '232839', '232840', '232841', '232842', '232843', '232844', '232845', '232846', '232847', '232848', '232849', '232850', '232851', '232852', '232853', '232854', '232855', '232856', '232857', '232858', '232859', '232860', '232861', '232862', '232863', '232864', '232865', '232866', '232867', '277220', '277221', '277222', '277223', '277224', '277225', '277226', '277227', '277228', '277229', '277230', '277231', '277232', '277233', '277234', '277235', '277236', '277237', '277238', '277239', '277240', '277241', '277242', '277243', '277244', '277245', '277246', '277247', '277248', '277249', '277250', '277251', '277252', '277253', '277254', '277255', '277256', '277257', '277258', '277259', '277260', '277261', '277262', '277263', '277264', '277265', '277266', '277267', '277268', '277269', '277270', '277271', '277272', '277273', '277277', '277278', '277279', '277280', '277281', '277282', '277283', '277284', '277285', '277286', '277287', '277288', '277289', '277301', '277302', '277303', '277304', '277305', '277306', '277307', '277308', '277309', '277310', '277311', '277312', '277313', '277314', '277315', '277316', '277317', '277318', '277319', '277320', '277321', '277322', '277323', '277324', '277325', '277326', '277327', '277335', '277336', '277337', '277338', '277339', '277340', '277341', '277342', '277343', '277344', '277345', '277346', '277347', '277348', '277349', '277350', '277351', '277352', '277353', '277354', '277355', '277356', '277357', '277358', '277359', '277360', '277361', '277362', '277363', '277364', '277365', '277366', '277367', '277368', '277369', '277370', '277371', '277372', '277373', '277374', '277375', '277376', '277377', '277378', '277379', '277380', '277381', '277382', '277383', '277384', '277385', '277386', '277387', '277388', '277389', '277390', '277391', '277392', '277393', '277394', '277395', '277396', '277397', '277398', '277399', '277400', '277401', '277402', '277403', '277404', '277405', '277406', '277407', '277408', '277409', '277410', '277411', '277412', '277413', '277414', '277415', '277416', '277417', '277418', '277419', '277420', '277421', '277422', '277423', '277424', '277425', '277426', '277427', '277428', '277429', '277430', '277431', '277432', '277433', '277434', '277435', '277436', '277437', '277438', '277439', '277440', '277441', '277442', '277443', '277444', '277445', '277446', '277447', '277448', '277449', '277450', '277451', '277452', '277453', '277454', '277455', '277456', '277457', '277458', '277459', '277460', '277461', '277462', '277463', '277464', '277465', '277466', '277467', '277468', '277469', '277470', '277471', '277472', '277473', '277474', '277475', '277476', '277477', '277478', '277479', '277480', '277481', '277482', '277483', '277484', '277485', '277486', '277487', '277488', '277489', '277490', '277491', '277492', '277493', '277494', '277495', '277496', '277497', '277498', '277499', '277500', '277501', '277502', '277503', '277504', '277505', '277506', '277507', '277508', '277509', '277510', '277511', '277512', '277513', '277514', '277515', '277516', '277517', '277518', '277519', '277520', '277521', '277522', '277523', '277524', '277525', '277526', '277527', '277528', '277529', '277530', '277531', '277532', '277533', '277534', '277535', '277536', '277537', '277538', '277539', '277540', '277541', '277542', '277543', '277544', '277545', '277546', '277547', '277548', '277549', '277550', '3118126', '3118127', '3118128', '3118129', '3118130', '3118131', '3118132', '3118133', '3118134', '3118135', '3118136', '3118137', '3118138', '3118139', '3118140', '3118141', '3118142', '3118143', '3118144', '3118145', '3118146', '3118147', '3118148', '3118149', '3118150', '322437', '322438', '322439', '322440', '322441', '322442', '322443', '3690100', '3690101', '3690102', '3690103', '3690104', '3690105', '3690106', '3690107', '3690108', '3690109', '3690110', '3690111', '3690112', '3690113', '3690115', '3690116', '3690117', '3690118', '3690119', '3690120', '3690121', '3774150', '3774151', '3776310', '3776311', '3776312', '3776313', '3776314', '3776315', '3776316', '3776317', '3776318', '3776319', '3776320', '3776321', '3776322', '3776323', '3776324', '3847442', '3847443', '3847444', '3847445', '3847446', '3847447', '3847448', '3847449', '3847451', '3847452', '3847453', '3847454', '3847455', '3847456', '3847457', '3847458', '3847459', '3847460', '3847461', '3847462', '3847463', '3847464', '3847465', '3847466', '3847467', '3847468', '3847469', '3847470', '3847471', '3847472', '3847473', '3847474', '3847475', '3847476', '3847477', '3847478', '3847479', '3847480', '3847481', '3847482', '3847483', '3847484', '3966769', '3966770', '3966771', '3966772', '3966773', '3966774', '3966775', '3966776', '4006216', '4006217', '4006218', '4006219', '4006220', '4006221', '4006223', '4006224', '4006225', '4006226', '4006227', '4006228', '4006229', '4006230', '4006231', '4006232', '4006233', '4006234', '4006235', '4006236', '4006237', '4006238', '4006239', '4006240', '4006241', '4006242', '4006243', '4006244', '4006245', '4006246', '4006247', '4006248', '4006251', '4006252', '4006253', '4006254', '4006255', '4006256', '4006257', '4006258', '4006259', '4006260', '4006261', '4006262', '4006263', '4006264', '4006265', '4006266', '4006267', '4006268', '4006269', '4006270', '4006271', '4006272', '4006273', '4006274', '4006275', '4006276', '4006277', '4006278', '4006279', '4006280', '4006281', '4006282', '4006283', '4006284', '4006285', '4006286', '4006287', '4006288', '4006289', '4006290', '4006291', '4006292', '4006293', '4006294', '4006295', '4006296', '4006297', '4006298', '4006299', '4006300', '4006301', '4006302', '4006303', '4006304', '4006305', '4006306', '4006307', '4006308', '4006309', '4006310', '4006311', '4006312', '4006313', '4006314', '4006315', '4006316', '4006317', '4006318', '4006319', '4006320', '4006321', '4006322', '4006323', '4006324', '4006325', '4006326', '4006327', '4006328', '4006329', '4006330', '4006331', '4006332', '4006333', '4006334', '4006335', '4006336', '4006337', '4006338', '4006339', '4006340', '4006341', '4006342', '4006343', '4006344', '4006345', '4006346', '4006347', '4006348', '4006349', '4006362', '4025471', '4025472', '4025473', '4025474', '4025475', '4025476', '4025477', '4025478', '4025479', '4025480', '4025481', '4025482', '4025483', '4025484', '4025485', '4025486', '4025487', '4025488', '4025489', '4053760', '4053761', '4053762', '4053763', '4053764', '4053765', '4053766', '4053767', '4053768', '4053889', '4053890', '4053891', '4053892', '4053893', '4053894', '4053895', '4053896', '4053897', '4053898', '4053899', '4053900', '4053901', '4053902', '4053903', '4053904', '4053905', '4053906', '4053907', '4053908', '4053909', '4053910', '4053911', '4053912', '4053913', '4053914', '4053915', '4053916', '4053917', '4053918', '4053919', '4053920', '4053921', '4053922', '4053923', '4053924', '4053925', '4053926', '4053927', '4053928', '4053929', '4053930', '4053931', '4053932', '4053933', '4053934', '4053935', '4053936', '4053937', '4053938', '4053939', '4053940', '4053941', '4053942', '4053943', '4053944', '4053945', '4053946', '4053947', '4053948', '4053949', '4053950', '4053951', '4053952', '4053953', '4053954', '4053955', '4053956', '4053957', '4053958', '4053959', '4053960', '4053961', '4053962', '4053963', '4053964', '4053965', '4053966', '4053967', '4053968', '4053969', '4053970', '4053971', '4053972', '4053973', '4053974', '4053975', '4053976', '4053977', '4053978', '4053979', '4053980', '4053981', '4053982', '4053983', '4053984', '4053985', '4053986', '4053987', '4053988', '4053989', '4053990', '4053991', '4053992', '4053993', '4053994', '4053995', '4053996', '4053997', '4053998', '4053999', '4054000', '4054001', '4054002', '4054005', '4054006', '4054007', '4054008', '4054009', '4054010', '4054011', '4054012', '4054013', '4054014', '4054015', '4054016', '4054017', '4054018', '4054019', '4054020', '4054021', '4054022', '4054023', '4054024', '4054025', '4054026', '4054027', '4054028', '4078081', '4078082', '4078083', '4078084', '4078085', '4078086', '4078087', '4078088', '4078089', '4078090', '4078091', '4078092', '4078093', '4078094', '4078192', '4078193', '4078194', '4078195', '4078196', '4078197', '4078198', '4078199', '4078200', '4078201', '4078202', '4078203', '4078204', '4078205', '4078206', '4078207', '4078208', '4078209', '4078210', '4078211', '4078212', '4078213', '4078214', '4078215', '4078217', '4078218', '4078219', '4078220', '4078221', '4078222', '4078223', '4078224', '4078225', '4078226', '4078227', '4078228', '4078229', '4078230', '4078231', '4078232', '4078233', '4078234', '4078235', '4113756', '4113757', '4113758', '4113759', '4113760', '4113761', '4113762', '4113763', '4113764', '4113765', '4113766', '4113767', '4113768', '4113769', '4113770', '4113771', '4113772', '4113773', '4113774', '4113775', '4113788', '4113789', '4113790', '4113791', '4113792', '4113793', '4113794', '4113795', '4113796', '4113797', '4113798', '4113799', '4113800', '4113801', '4113802', '4113803', '4113804', '4113805', '4113806', '4113807', '4113808', '4113809', '4113810', '4113811', '4113812', '4113813', '4113814', '4113815', '4113816', '4113817', '4113818', '4113819', '4113820', '4113824', '4113874', '4113875', '4113876', '4113877', '4113878', '4113879', '4113880', '4113881', '4113882', '4113883', '4113884', '4113885', '4113886', '4113887', '4113888', '4113889', '4113890', '4113891', '4113892', '4113961', '4113962', '4113963', '4113964', '4113965', '4113966', '4113967', '4113968', '4113969', '4113970', '4113971', '4113972', '4113973', '4113974', '4113975', '4113976', '4113977', '4113978', '4113979', '4113980', '4113981', '4113982', '4113983', '4113984', '4113985', '4113986', '4113987', '4113988', '4113989', '4113990', '4113991', '4113992', '4113993', '4113994', '4113995', '4113996', '4113997', '4113998', '4113999', '4114000', '4114001', '4114002', '4114003', '4114004', '4114005', '4114006', '4114007', '4114008', '4114009', '4114010', '4114011', '4114012', '4114013', '4114014', '4114015', '4114016', '4114017', '4114018', '4114019', '4114020', '4114021', '4114022', '4114023', '4114024', '4114025', '4114026', '4114027', '4114028', '4114029', '4114030', '4114031', '4114032', '4114033', '4114034', '4114035', '4114036', '4114037', '4114038', '4114039', '4114040', '4114041', '4114042', '4114043', '4114044', '4114045', '4114046', '4114047', '4114048', '4114049', '4114050', '4114051', '4114052', '4114053', '4114054', '4114055', '4114056', '4114057', '4114058', '4114059', '4114060', '4114061', '4114062', '4114063', '4114064', '4114065', '4114066', '4114067', '4114068', '4114069', '4114070', '4114071', '4114072', '4114073', '4114074', '4114075', '4114076', '4114077', '4114078', '4114079', '4114080', '4114081', '4114082', '4114083', '4114084', '4114085', '4114086', '4114087', '4114088', '4114089', '4114090', '4114091', '4114092', '4114093', '4114094', '4114095', '4114096', '4114097', '4114098', '4114099', '4114100', '4114101', '4114102', '4114103', '4114104', '4114105', '4114106', '4114107', '4114108', '4114109', '4114110', '4114111', '4114112', '4114113', '4114114', '4114115', '4114116', '4114117', '4114118', '4114119', '4114120', '4114121', '4114122', '4114123', '4114124', '4114125', '4114126', '4114127', '4114128', '4114129', '4114130', '4114131', '4114132', '4114133', '4114134', '4114135', '4114136', '4114137', '4114138', '4114139', '4114140', '4114141', '4114142', '4114143', '4114144', '4114145', '4114146', '4114157', '4114158', '4114159', '4114160', '4114161', '4114162', '4114163', '4114164', '4114165', '4114166', '4114167', '4114168', '4114169', '4114170', '4114171', '4114172', '4114173', '4114174', '4114175', '4114176', '4114177', '4114178', '4114179', '4114180', '4114181', '4114182', '4114183', '4114184', '4114185', '4114186', '4114187', '4114188', '4114189', '4114190', '4114191', '4114192', '4114193', '4114194', '4114195', '4114196', '4114197', '4114198', '4114199', '4114200', '4114201', '4114202', '4114203', '4114204', '4114205', '4114206', '4114207', '4114208', '4114209', '4114210', '4114211', '4114212', '4114213', '4114214', '4114215', '4114216', '4114217', '4114218', '4114219', '4114220', '4114221', '4114222', '4114223', '4114224', '4114225', '4114226', '4114227', '4114228', '4114229', '4114230', '4114231', '4114232', '4114233', '4114234', '4114235', '4114236', '4114237', '4114238', '4114239', '4114240', '4114241', '4114242', '4114243', '4114244', '4114245', '4114246', '4114247', '4114248', '4114249', '4114250', '4114251', '4114252', '4114253', '4114254', '4114255', '4114256', '4114257', '4114258', '4114259', '4114260', '4114261', '4114262', '4114263', '4114264', '4114265', '4114266', '4114267', '4114268', '4114269', '4114270', '4114271', '4114272', '4114273', '4114274', '4114275', '4114276', '4114277', '4114278', '4114279', '4114280', '4114281', '4114282', '4114283', '4114284', '4114285', '4114286', '4114287', '4114288', '4114289', '4114290', '4114291', '4114292', '4114293', '4114294', '4114295', '4114296', '4114297', '4114298', '4114299', '4114300', '4114301', '4114302', '4114303', '4114304', '4114305', '4114306', '4114307', '4114308', '4114309', '4114310', '4114311', '4114312', '4114313', '4114314', '4114315', '4114316', '4114317', '4114318', '4114319', '4114320', '4114321', '4114322', '4114323', '4114324', '4114325', '4114326', '4114327', '4114328', '4114329', '4114330', '4114331', '4114332', '4114333', '4114334', '4114335', '4114336', '4114337', '4114338', '4114339', '4114340', '4114341', '4114342', '4114343', '4114344', '4114345', '4114346', '4114347', '4114348', '4114349', '4114350', '4114351', '4114352', '4114353', '4114354', '4114355', '4114356', '4114357', '4114358', '4114359', '4114360', '4114361', '4114362', '4114363', '4114364', '4114365', '4114366', '4114367', '4114368', '4114369', '4114370', '4114371', '4114372', '4114373', '4114374', '4114375', '4114376', '4114377', '4114378', '4114379', '4114380', '4114381', '4114382', '4114383', '4114384', '4114385', '4114386', '4114387', '4114388', '4114389', '4114390', '4114391', '4114392', '4114393', '4114394', '4114395', '4114396', '4114397', '4114398', '4114399', '4114400', '4114401', '4114402', '4114403', '4114404', '4114429', '4114430', '4114431', '4114432', '4114433', '4114434', '4114435', '4114436', '4114437', '4114438', '4114439', '4114440', '4114441', '4114442', '4114443', '4114444', '4114445', '4114468', '4114511', '4114512', '4114513', '4114528', '4114529', '4114530', '4114531', '4114532', '4114533', '4114534', '4114535', '4114536', '4114537', '4114538', '4114539', '4114540', '4114541', '4114542', '4114543', '4114544', '4114545', '4114546', '4114547', '4114548', '4114549', '4114550', '4114551', '4114552', '4114658', '4114659', '4114660', '4114661', '4114662', '4114663', '4114664', '4114665', '4114666', '4114667', '4114668', '4114669', '4114670', '4114671', '4114672', '4114673', '4114674', '4114675', '4114676', '4114677', '4114678', '4114679', '4114681', '4114682', '4114683', '4114684', '4114685', '4114687', '4114688', '4114689', '4114690', '4114691', '4114692', '4114693', '4114695', '4114696', '4114697', '4114698', '4114699', '4114700', '4114701', '4114702', '4114703', '4114704', '4114705', '4114706', '4114707', '4114708', '4114709', '4114710', '4114711', '4114712', '4114713', '4114714', '4114715', '4114848', '4114849', '4114850', '4114851', '4114852', '4114853', '4114854', '4114855', '4114856', '4114857', '4114858', '4114859', '4114860', '4114861', '4114862', '4114863', '4114864', '4114865', '4114866', '4114867', '4114868', '4114869', '4114870', '4114871', '4114872', '4114873', '4114874', '4114875', '4114876', '4114877', '4114878', '4114879', '4114880', '4114881', '4114882', '4114883', '4114884', '4114885', '4114886', '4114887', '4114888', '4114889', '4114890', '4114891', '4114892', '4114893', '4114894', '4114895', '4114896', '4114897', '4114898', '4114899', '4114900', '4114901', '4114902', '4114903', '4114904', '4114905', '4114906', '4114907', '4114908', '4114909', '4114910', '4114911', '4114912', '4114913', '4114914', '4114915', '4114916', '4114917', '4114918', '4114919', '4114920', '4114921', '4114922', '4114923', '4114924', '4114925', '4114926', '4114927', '4114928', '4114929', '4114930', '4114931', '4114932', '4114933', '4114934', '4114935', '4114936', '4114937', '4114938', '4114939', '4114940', '4114941', '4114942', '4114943', '4114944', '4114945', '4114946', '4114947', '4114948', '4114949', '4114950', '4114951', '4114952', '4138799', '4138800', '4138801', '4138802', '4138803', '4138804', '4138805', '467151', '467152', '467153', '467154', '467197', '467198', '467199', '467200', '467201', '467202', '467204', '468065', '468066', '468067', '468068', '534685', '534686', '534687', '534688', '534689', '534690', '534691', '534692', '534693', '534694', '534695', '534696', '534697', '534698', '534699', '534700', '534701', '534702', '534703', '534704', '534705', '534706', '548917', '548918', '548919', '548920', '548923', '548924', '548925', '614020', '614021', '614022', '614023', '614024', '614036', '614037', '614038', '614039', '614040', '614041', '614042', '614043', '614044', '614045', '614046', '614047', '614048', '614057', '614058', '614060', '614061', '614062', '724522', '724523', '724524', '724525', '724526', '724527', '724528', '724529', '724530', '872680', '872681', '872682', '872683', '872684', '872685', '872686', '872687', '872688', '872689', '872690', '872691', '872692', '872693', '872694', '872695', '872696', '872697', '872698', '872699', '872700', '872701', '872702', '872703', '872704', '872705', '872706', '872707', '872708', '872709', '872710', '872711', '872712', '872713', '872714', '872715', '872716', '872717', '872718', '872719', '872720', '872721', '872722', '872723', '872724', '872725', '872726', '872727', '872728', '872729', '872730', '872731', '872732', '872733', '872734', '872735', '872736', '872737', '872738', '872739', '872740', '872741', '872742', '872743', '872744', '872745', '872746', '872747', '872748', '872749', '872750', '872751', '872752', '872753', '872754', '872755', '872756', '872757', '872758', '872759', '872760', '872761', '872762', '872763', '872764', '872765', '872766', '872767', '872768', '872769', '872770', '872771', '872772', '872773', '872774', '872775', '872776', '872777', '872778', '872779', '872780', '872781', '872782', '872783', '872784', '872785', '872786', '872787', '872788', '872789', '872790', '872791', '872792', '872793', '872794', '872795', '872796', '872797', '872798', '872799', '872800', '872801', '872802', '872803', '872804', '872805', '872806', '872807', '872808', '872809', '872810', '872811', '872812', '872813', '872814', '872815', '872816', '872817', '872818', '872819', '872820', '872821', '872823', '872824', '872826', '872827', '872828', '872829', '872830', '872832', '872833', '872834', '872835', '872836', '872837', '872838', '872839', '872840', '872841', '872842', '872843', '872844', '872845', '872846', '872847', '872848', '872849', '872850', '872851', '872852', '872853', '872854', '872855', '872856', '872857', '872858', '872859', '872860', '872861', '872862', '872863', '872864', '872865', '872866', '872867', '872868', '872869', '872870', '872871', '872872', '872873', '872874', '872875', '872876', '872877', '931212', '931213', '931216', '931219', '931220'])\n"
     ]
    },
    {
     "name": "stdout",
     "output_type": "stream",
     "text": [
      "     collarid  fromdepth  todepth  _id0  _id1\n",
      "0     1233135        0.0     2.00   731  5761\n",
      "1     1233135        2.0     4.00   731  5762\n",
      "2     1233135        4.0     5.00   731  5763\n",
      "3     1233135        5.0     6.00   732  5763\n",
      "4     1233135        6.0     7.00   732  5764\n",
      "...       ...        ...      ...   ...   ...\n",
      "7889  1233107       96.0    97.00   491  2976\n",
      "7890  1233107       97.0   118.00   492  2976\n",
      "7891  1233107      118.0   120.00   493  2976\n",
      "7892  1233107      120.0   142.00   494  2976\n",
      "7893  1233107      142.0   233.25   495  2976\n",
      "\n",
      "[7894 rows x 5 columns]\n",
      "     collarid  fromdepth  todepth  _id0  _id1 collarid__tmp__  \\\n",
      "0     1233135        0.0     2.00   731  5761         1233135   \n",
      "1     1233135        2.0     4.00   731  5762         1233135   \n",
      "2     1233135        4.0     5.00   731  5763         1233135   \n",
      "3     1233135        5.0     6.00   732  5763         1233135   \n",
      "4     1233135        6.0     7.00   732  5764         1233135   \n",
      "...       ...        ...      ...   ...   ...             ...   \n",
      "7889  1233107       96.0    97.00   491  2976         1233107   \n",
      "7890  1233107       97.0   118.00   492  2976         1233107   \n",
      "7891  1233107      118.0   120.00   493  2976         1233107   \n",
      "7892  1233107      120.0   142.00   494  2976         1233107   \n",
      "7893  1233107      142.0   233.25   495  2976         1233107   \n",
      "\n",
      "      fromdepth__tmp__  todepth__tmp__  _id0__tmp__  Unnamed: 0  ...  K2O_pct  \\\n",
      "0                  0.0            5.00          731      1655.0  ...     3.06   \n",
      "1                  0.0            5.00          731      1655.0  ...     3.77   \n",
      "2                  0.0            5.00          731      1655.0  ...     4.52   \n",
      "3                  5.0            7.00          732      1656.0  ...     4.52   \n",
      "4                  5.0            7.00          732      1656.0  ...     4.66   \n",
      "...                ...             ...          ...         ...  ...      ...   \n",
      "7889              96.0           97.00          491      1431.0  ...      NaN   \n",
      "7890              97.0          118.00          492      1432.0  ...      NaN   \n",
      "7891             118.0          120.00          493      1433.0  ...      NaN   \n",
      "7892             120.0          142.00          494      1434.0  ...      NaN   \n",
      "7893             142.0          233.25          495      1435.0  ...      NaN   \n",
      "\n",
      "     Mgo_pct MnO_pct Na2O_pct  P_pct Pb_ppm  S_pct SiO2_pct  Zn_ppm  \\\n",
      "0       2.54    0.13     1.81  0.048   20.0  0.389    66.90    70.0   \n",
      "1       3.00    0.17     1.54  0.057   20.0  0.517    61.67    90.0   \n",
      "2       2.89    0.14     1.84  0.056   30.0  0.394    62.25    80.0   \n",
      "3       2.89    0.14     1.84  0.056   30.0  0.394    62.25    80.0   \n",
      "4       3.36    0.20     0.35  0.047  -10.0  0.353    54.35    50.0   \n",
      "...      ...     ...      ...    ...    ...    ...      ...     ...   \n",
      "7889     NaN     NaN      NaN    NaN    NaN    NaN      NaN     NaN   \n",
      "7890     NaN     NaN      NaN    NaN    NaN    NaN      NaN     NaN   \n",
      "7891     NaN     NaN      NaN    NaN    NaN    NaN      NaN     NaN   \n",
      "7892     NaN     NaN      NaN    NaN    NaN    NaN      NaN     NaN   \n",
      "7893     NaN     NaN      NaN    NaN    NaN    NaN      NaN     NaN   \n",
      "\n",
      "      _id1__tmp__  \n",
      "0            5761  \n",
      "1            5762  \n",
      "2            5763  \n",
      "3            5763  \n",
      "4            5764  \n",
      "...           ...  \n",
      "7889         2976  \n",
      "7890         2976  \n",
      "7891         2976  \n",
      "7892         2976  \n",
      "7893         2976  \n",
      "\n",
      "[7894 rows x 49 columns]\n"
     ]
    }
   ],
   "source": [
    "dh2l_db_New.merge(geology,geochemistry,'join',tol=0.01,clean=True)"
   ]
  },
  {
   "cell_type": "code",
   "execution_count": 14,
   "metadata": {},
   "outputs": [
    {
     "name": "stdout",
     "output_type": "stream",
     "text": [
      "      Unnamed: 0  collarid  fromdepth  todepth  _id0   _id1  Unnamed: 0.1  \\\n",
      "0              0   1233095        0.0     1.00    92   2568        1049.0   \n",
      "1              1   1233095        1.0     2.00    92   2569        1049.0   \n",
      "2              2   1233095        2.0     3.00    92   2570        1049.0   \n",
      "3              3   1233095        3.0     4.00    92   2571        1049.0   \n",
      "4              4   1233095        4.0     5.00    92   2572        1049.0   \n",
      "...          ...       ...        ...      ...   ...    ...           ...   \n",
      "7889        7889    931216      132.0   133.00  3434  57833         913.0   \n",
      "7890        7890    931216      133.0   140.00  3435  57833         914.0   \n",
      "7891        7891    931216      140.0   146.00  3436  57833         915.0   \n",
      "7892        7892    931216      146.0   158.00  3437  57833         916.0   \n",
      "7893        7893    931216      158.0   233.25  3438  57833           NaN   \n",
      "\n",
      "      Company_ID Company_LithoCode   Company_Litho  ... Fe_pct  K2O_pct  \\\n",
      "0         1621.0               Sif  iron-formation  ...  14.75     2.75   \n",
      "1         1621.0               Sif  iron-formation  ...  12.78     4.05   \n",
      "2         1621.0               Sif  iron-formation  ...  22.94     1.96   \n",
      "3         1621.0               Sif  iron-formation  ...  20.68     1.72   \n",
      "4         1621.0               Sif  iron-formation  ...  17.96     2.87   \n",
      "...          ...               ...             ...  ...    ...      ...   \n",
      "7889      3050.0               Sif  iron-formation  ...    NaN      NaN   \n",
      "7890      3050.0               Sif  iron-formation  ...    NaN      NaN   \n",
      "7891      3050.0               Sif  iron-formation  ...    NaN      NaN   \n",
      "7892      3050.0               Sif  iron-formation  ...    NaN      NaN   \n",
      "7893         NaN               NaN             NaN  ...    NaN      NaN   \n",
      "\n",
      "     Mgo_pct MnO_pct Na2O_pct  P_pct  Pb_ppm  S_pct  SiO2_pct  Zn_ppm  \n",
      "0       4.83    0.24     0.64  0.051    40.0  0.489     53.24   330.0  \n",
      "1       3.90    0.22     0.82  0.054    70.0  0.420     54.29   640.0  \n",
      "2       3.57    0.21     0.42  0.066    70.0  0.345     47.49   350.0  \n",
      "3       3.47    0.22     0.43  0.058    40.0  0.667     50.60   230.0  \n",
      "4       3.76    0.19     0.54  0.057   170.0  0.810     51.32   420.0  \n",
      "...      ...     ...      ...    ...     ...    ...       ...     ...  \n",
      "7889     NaN     NaN      NaN    NaN     NaN    NaN       NaN     NaN  \n",
      "7890     NaN     NaN      NaN    NaN     NaN    NaN       NaN     NaN  \n",
      "7891     NaN     NaN      NaN    NaN     NaN    NaN       NaN     NaN  \n",
      "7892     NaN     NaN      NaN    NaN     NaN    NaN       NaN     NaN  \n",
      "7893     NaN     NaN      NaN    NaN     NaN    NaN       NaN     NaN  \n",
      "\n",
      "[7894 rows x 41 columns]\n"
     ]
    }
   ],
   "source": [
    "join=pd.read_csv ('../data/export_db/join.csv')\n",
    "print(join)"
   ]
  },
  {
   "cell_type": "code",
   "execution_count": 15,
   "metadata": {},
   "outputs": [],
   "source": [
    "import matplotlib.pyplot as plt\n",
    "%matplotlib inline\n",
    "#import striplog\n",
    "#striplog.__version__\n",
    "from striplog import Legend, Lexicon, Interval, Component, Striplog"
   ]
  },
  {
   "cell_type": "code",
   "execution_count": 16,
   "metadata": {},
   "outputs": [],
   "source": [
    "legend = Legend.builtin('NSDOE')\n",
    "lexicon = Lexicon.default()\n",
    "#lexicon\n",
    "#lexicon.synonyms"
   ]
  },
  {
   "cell_type": "code",
   "execution_count": 17,
   "metadata": {},
   "outputs": [
    {
     "name": "stdout",
     "output_type": "stream",
     "text": [
      "top,base,comp lithology\r\n",
      "0.0,1.0,banded_iron_formation\r\n",
      "1.0,2.0,banded_iron_formation\r\n",
      "2.0,3.0,banded_iron_formation\r\n",
      "3.0,4.0,banded_iron_formation\r\n",
      "4.0,5.0,banded_iron_formation\r\n",
      "5.0,6.0,banded_iron_formation\r\n",
      "6.0,7.0,banded_iron_formation\r\n",
      "7.0,8.0,banded_iron_formation\r\n",
      "8.0,9.0,banded_iron_formation\r\n",
      "9.0,10.0,banded_iron_formation\r\n",
      "10.0,11.0,banded_iron_formation\r\n",
      "11.0,12.0,banded_iron_formation\r\n",
      "12.0,13.0,banded_iron_formation\r\n",
      "13.0,14.0,banded_iron_formation\r\n",
      "14.0,15.0,banded_iron_formation\r\n",
      "15.0,16.0,banded_iron_formation\r\n",
      "16.0,17.0,banded_iron_formation\r\n",
      "17.0,18.0,banded_iron_formation\r\n",
      "18.0,19.0,banded_iron_formation\r\n",
      "19.0,20.0,banded_iron_formation\r\n",
      "20.0,21.0,banded_iron_formation\r\n",
      "21.0,22.0,banded_iron_formation\r\n",
      "22.0,23.0,banded_iron_formation\r\n",
      "23.0,24.0,banded_iron_formation\r\n",
      "24.0,25.0,banded_iron_formation\r\n",
      "25.0,26.0,banded_iron_formation\r\n",
      "26.0,27.0,banded_iron_formation\r\n",
      "27.0,28.0,banded_iron_formation\r\n",
      "28.0,29.0,banded_iron_formation\r\n",
      "29.0,30.0,banded_iron_formation\r\n",
      "30.0,31.0,banded_iron_formation\r\n",
      "31.0,32.0,banded_iron_formation\r\n",
      "32.0,33.0,banded_iron_formation\r\n",
      "33.0,34.0,banded_iron_formation\r\n",
      "34.0,35.0,banded_iron_formation\r\n",
      "35.0,36.0,banded_iron_formation\r\n",
      "36.0,37.0,banded_iron_formation\r\n",
      "37.0,38.0,banded_iron_formation\r\n",
      "38.0,39.0,banded_iron_formation\r\n",
      "39.0,40.0,banded_iron_formation\r\n",
      "40.0,41.0,banded_iron_formation\r\n",
      "41.0,42.0,banded_iron_formation\r\n",
      "42.0,43.0,banded_iron_formation\r\n",
      "43.0,44.0,banded_iron_formation\r\n",
      "44.0,45.0,banded_iron_formation\r\n",
      "45.0,46.0,banded_iron_formation\r\n",
      "46.0,47.0,banded_iron_formation\r\n",
      "47.0,48.0,banded_iron_formation\r\n",
      "48.0,49.0,banded_iron_formation\r\n",
      "49.0,50.0,banded_iron_formation\r\n",
      "50.0,51.0,banded_iron_formation\r\n",
      "51.0,52.0,banded_iron_formation\r\n",
      "52.0,53.0,banded_iron_formation\r\n",
      "53.0,54.0,banded_iron_formation\r\n",
      "54.0,55.0,banded_iron_formation\r\n",
      "55.0,60.0,banded_iron_formation\r\n",
      "60.0,108.0,banded_iron_formation\r\n",
      "108.0,233.25,NaN\r\n",
      "\n"
     ]
    }
   ],
   "source": [
    "csv_string=join[(join['collarid']==1233095)]\n",
    "csv_string=csv_string[[\"fromdepth\", \"todepth\", \"comp lithology\"]]\n",
    "csv_string=csv_string.rename(columns={\"fromdepth\": \"top\", \"todepth\": \"base\", \"comp lithology\": \"comp lithology\"})\n",
    "csv_string=csv_string.fillna('NaN')\n",
    "csv_string=csv_string.to_csv(sep=',', index=False)\n",
    "print(csv_string)"
   ]
  },
  {
   "cell_type": "code",
   "execution_count": 18,
   "metadata": {},
   "outputs": [],
   "source": [
    "strip = Striplog.from_csv(text=csv_string, lexicon=lexicon)"
   ]
  },
  {
   "cell_type": "code",
   "execution_count": 19,
   "metadata": {},
   "outputs": [
    {
     "data": {
      "text/plain": [
       "Striplog(58 Intervals, start=0.0, stop=233.25)"
      ]
     },
     "execution_count": 19,
     "metadata": {},
     "output_type": "execute_result"
    }
   ],
   "source": [
    "strip\n",
    "#strip[0]\n",
    "#strip.unique\n",
    "#strip.find_gaps() or \"No gaps!\"\n",
    "#strip.thinnest()"
   ]
  },
  {
   "cell_type": "code",
   "execution_count": 20,
   "metadata": {},
   "outputs": [
    {
     "data": {
      "image/png": "[encoded data removed]",
      "text/plain": [
       "<Figure size 108x1080 with 1 Axes>"
      ]
     },
     "metadata": {
      "needs_background": "light"
     },
     "output_type": "display_data"
    }
   ],
   "source": [
    "strip.plot()\n",
    "#strip.plot(legend=legend, aspect=5)"
   ]
  },
  {
   "cell_type": "code",
   "execution_count": 21,
   "metadata": {},
   "outputs": [],
   "source": [
    "l = u\"\"\"colour, width, component lithology\n",
    "#F7E9A6, 3, Sandstone\n",
    "#FF99CC, 2, CYST\n",
    "#86F0B6, 5, Conglomerate\n",
    "#F2FF42, 4, Sand\n",
    "#FFE040, 4, Calksilicate\n",
    "#FF4C4A, 2, Pegmatite \n",
    "#363434, 1, Gneiss \n",
    "#664A4A, 1, Clay\n",
    "#FF99CC, 1, Granite\"\"\""
   ]
  },
  {
   "cell_type": "code",
   "execution_count": 22,
   "metadata": {},
   "outputs": [],
   "source": [
    "#legend = Legend.from_csv(text=l)\n",
    "#legend[:10]\n",
    "legend=Legend.default()"
   ]
  },
  {
   "cell_type": "code",
   "execution_count": 23,
   "metadata": {},
   "outputs": [],
   "source": [
    "pruned = strip.prune(limit=40.0, keep_ends=True)\n",
    "annealed = pruned.anneal()\n",
    "merged = annealed.merge_neighbours()"
   ]
  },
  {
   "cell_type": "code",
   "execution_count": 25,
   "metadata": {},
   "outputs": [
    {
     "data": {
      "text/html": [
       "<table><tr><td style=\"width:2em; background-color:#DDDDDD\" rowspan=\"6\"></td><td><strong>top</strong></td><td>1.0</td></tr><tr><td><strong>primary</strong></td><td><table><tr><td><strong>lithology</strong></td><td>banded_iron_formation</td></tr></table></td></tr><tr><td><strong>summary</strong></td><td>1.00 m of banded_iron_formation</td></tr><tr><td><strong>description</strong></td><td></td></tr><tr><td><strong>data</strong></td><td><table><tr><td><strong>Fe_pct</strong></td><td>[40.16]</td></tr><tr><td><strong>K2O_pct</strong></td><td>[0.006]</td></tr></table></td></tr><tr><td><strong>base</strong></td><td>2.0</td></tr></table>"
      ],
      "text/plain": [
       "Interval({'top': Position({'middle': 1.0, 'units': 'm'}), 'base': Position({'middle': 2.0, 'units': 'm'}), 'description': '', 'data': {'Fe_pct': array([40.16]), 'K2O_pct': array([0.006])}, 'components': [Component({'lithology': 'banded_iron_formation'})]})"
      ]
     },
     "execution_count": 25,
     "metadata": {},
     "output_type": "execute_result"
    }
   ],
   "source": [
    "from welly import Curve\n",
    "todepth=join['todepth'].to_numpy()\n",
    "density=join['Fe_pct'].to_numpy()\n",
    "density_curve = Curve(data=density, basis=todepth)\n",
    "strip.extract(density_curve, basis=todepth, name='Fe_pct')\n",
    "\n",
    "example=join['K2O_pct'].to_numpy()\n",
    "curve = Curve(data=example, basis=todepth)\n",
    "strip.extract(curve, basis=todepth, name='K2O_pct')\n",
    "strip[1]"
   ]
  },
  {
   "cell_type": "code",
   "execution_count": null,
   "metadata": {},
   "outputs": [],
   "source": []
  },
  {
   "cell_type": "code",
   "execution_count": null,
   "metadata": {},
   "outputs": [],
   "source": []
  },
  {
   "cell_type": "code",
   "execution_count": null,
   "metadata": {},
   "outputs": [],
   "source": []
  },
  {
   "cell_type": "code",
   "execution_count": null,
   "metadata": {},
   "outputs": [],
   "source": []
  }
 ],
 "metadata": {
  "kernelspec": {
   "display_name": "Python 3",
   "language": "python",
   "name": "python3"
  },
  "language_info": {
   "codemirror_mode": {
    "name": "ipython",
    "version": 3
   },
   "file_extension": ".py",
   "mimetype": "text/x-python",
   "name": "python",
   "nbconvert_exporter": "python",
   "pygments_lexer": "ipython3",
   "version": "3.7.4"
  }
 },
 "nbformat": 4,
 "nbformat_minor": 2
}
