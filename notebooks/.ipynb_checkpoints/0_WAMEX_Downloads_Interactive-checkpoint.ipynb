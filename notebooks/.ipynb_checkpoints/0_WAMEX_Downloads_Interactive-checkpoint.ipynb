{
 "cells": [
  {
   "cell_type": "markdown",
   "metadata": {},
   "source": [
    "This notebook downloads all WAMEX reports within a defined region."
   ]
  },
  {
   "cell_type": "markdown",
   "metadata": {},
   "source": [
    "## WAMEX Database"
   ]
  },
  {
   "cell_type": "markdown",
   "metadata": {},
   "source": [
    "[https://www.dmp.wa.gov.au/WAMEX-Minerals-Exploration-1476.aspx](https://www.dmp.wa.gov.au/WAMEX-Minerals-Exploration-1476.aspx)"
   ]
  },
  {
   "cell_type": "markdown",
   "metadata": {},
   "source": [
    " - Western Australian Mineral Exploration Reports Database\n",
    " - Stores open-file reports (annual mineral exploration data and reports (which is required by WA legislation) that have passed 5 year period of confidentiality)\n",
    " - Mineral exploration reports held by the department for five years may be released to the public, under Regulation 96(4) of the Mining Regulations 1981, the ‘Sunset Clause’.\n",
    "\n",
    " - Each year from early March, the proposed list of reports planned for release are published on the department's website, Mining Notices of the West Australian and the Kalgoorlie Miner. There is a period of two months during which the current tenement holders can study the list and object in writing to the release of any report. By May of that year, the GSWA will release the reports that have no objections."
   ]
  },
  {
   "cell_type": "markdown",
   "metadata": {},
   "source": [
    "## Ways to access these reports:"
   ]
  },
  {
   "cell_type": "markdown",
   "metadata": {},
   "source": [
    " - GeoVIEW [https://geoview.dmp.wa.gov.au/geoview/?Viewer=GeoVIEW&layerTheme=WAMEX&Module=WAMEX](https://geoview.dmp.wa.gov.au/geoview/?Viewer=GeoVIEW&layerTheme=WAMEX&Module=WAMEX)\n",
    " - drillcore.shp from USB products (2019 version of links are outdated)\n",
    " - Exploration_Reports.shp from online data repository [https://dasc.dmp.wa.gov.au/dasc/](https://dasc.dmp.wa.gov.au/dasc/)\n",
    " - Using this jupyter notebook (Loop Server x CloudStor)"
   ]
  },
  {
   "cell_type": "markdown",
   "metadata": {},
   "source": [
    "## jupyter notebook (Loop Server X CloudStor)"
   ]
  },
  {
   "cell_type": "markdown",
   "metadata": {},
   "source": [
    "[CloudStor_Link](https://cloudstor.aarnet.edu.au/plus/apps/files/?dir=/Shared/LOOP-MinExCRC&fileid=4302153105) (contains reports up to May 9, 2019) <br>"
   ]
  },
  {
   "cell_type": "code",
   "execution_count": 1,
   "metadata": {
    "scrolled": true
   },
   "outputs": [],
   "source": [
    "from dh2loop import wamex\n",
    "from ipyleaflet import Map, basemaps, GeoJSON, LayersControl, DrawControl,WMSLayer\n",
    "from ipywidgets import Label\n",
    "import ipywidgets as widgets"
   ]
  },
  {
   "cell_type": "markdown",
   "metadata": {},
   "source": [
    "## Draw the region of interest"
   ]
  },
  {
   "cell_type": "code",
   "execution_count": 2,
   "metadata": {
    "scrolled": true
   },
   "outputs": [
    {
     "data": {
      "application/vnd.jupyter.widget-view+json": {
       "model_id": "31c2bc9481f84035ac49cec2ef8a1173",
       "version_major": 2,
       "version_minor": 0
      },
      "text/plain": [
       "Map(center=[-29, 116.5], controls=(ZoomControl(options=['position', 'zoom_in_text', 'zoom_in_title', 'zoom_out…"
      ]
     },
     "metadata": {},
     "output_type": "display_data"
    }
   ],
   "source": [
    "wms_drillholes = WMSLayer(\n",
    "    url='http://geo.loop-gis.org/geoserver/loop/wms?',\n",
    "    layers='loop:collar_4326',\n",
    "    format='image/png',\n",
    "    transparent=True,\n",
    "    attribution='Drilhole collar from GSWA',\n",
    "    name='drillhole collars'\n",
    ")\n",
    "    \n",
    "wms_geol = WMSLayer(\n",
    "    url='http://geo.loop-gis.org/geoserver/loop/wms?',\n",
    "    layers='loop:2_5m_interpgeop15_4326',\n",
    "    format='image/png',\n",
    "    transparent=True,\n",
    "    opacity=0.4,\n",
    "    attribution='Geology data from GSWA',\n",
    "    name='geology'\n",
    ")\n",
    "m =Map(basemap=basemaps.OpenTopoMap, center=(-29,116.5), zoom=8,scroll_wheel_zoom=True)\n",
    "\n",
    "m.add_layer(wms_geol)\n",
    "m.add_layer(wms_drillholes)\n",
    "\n",
    "m.add_control(LayersControl())\n",
    "dc = DrawControl(rectangle={'shapeOptions': {'color': '#0000FF'}})\n",
    "m.add_control(dc)\n",
    "m"
   ]
  },
  {
   "cell_type": "markdown",
   "metadata": {},
   "source": [
    "### Run to clear rectangle and draw again:"
   ]
  },
  {
   "cell_type": "code",
   "execution_count": null,
   "metadata": {
    "scrolled": true
   },
   "outputs": [],
   "source": [
    "dc.clear()"
   ]
  },
  {
   "cell_type": "markdown",
   "metadata": {},
   "source": [
    "## Download reports"
   ]
  },
  {
   "cell_type": "code",
   "execution_count": 3,
   "metadata": {
    "scrolled": true
   },
   "outputs": [
    {
     "name": "stdout",
     "output_type": "stream",
     "text": [
      "Bounds: (116.724816, -28.744032, 116.80173, -28.657303)\n",
      "Report Numbers: ['a077065', 'a77065', 'a080896', 'a80896']\n",
      "Download Completed. Find files at:../data/downloaded_reports\n"
     ]
    }
   ],
   "source": [
    "bounds=GeoJSON(data=dc.last_draw)\n",
    "wamex.get_reports (bounds)"
   ]
  }
 ],
 "metadata": {
  "kernelspec": {
   "display_name": "Python 3",
   "language": "python",
   "name": "python3"
  },
  "language_info": {
   "codemirror_mode": {
    "name": "ipython",
    "version": 3
   },
   "file_extension": ".py",
   "mimetype": "text/x-python",
   "name": "python",
   "nbconvert_exporter": "python",
   "pygments_lexer": "ipython3",
   "version": "3.6.10"
  }
 },
 "nbformat": 4,
 "nbformat_minor": 4
}
