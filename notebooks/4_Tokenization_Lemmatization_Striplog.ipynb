{
 "cells": [
  {
   "cell_type": "code",
   "execution_count": 1,
   "metadata": {
    "ExecuteTime": {
     "end_time": "2020-02-27T03:31:01.012300Z",
     "start_time": "2020-02-27T03:30:58.757745Z"
    },
    "scrolled": true
   },
   "outputs": [
    {
     "name": "stdout",
     "output_type": "stream",
     "text": [
      "/mnt/d/Dropbox/Ranee_Joshi_PhD_Local/04_PythonCodes/dh2loop/notebooks\n"
     ]
    }
   ],
   "source": [
    "import warnings\n",
    "warnings.filterwarnings('ignore')\n",
    "\n",
    "import os, sys\n",
    "\n",
    "print(os.getcwd())\n",
    "sys.path.append(os.getcwd())"
   ]
  },
  {
   "cell_type": "code",
   "execution_count": 2,
   "metadata": {},
   "outputs": [
    {
     "data": {
      "text/plain": [
       "['/home/ranee/anaconda3/envs/dh2loop/lib/python36.zip',\n",
       " '/home/ranee/anaconda3/envs/dh2loop/lib/python3.6',\n",
       " '/home/ranee/anaconda3/envs/dh2loop/lib/python3.6/lib-dynload',\n",
       " '',\n",
       " '/home/ranee/.local/lib/python3.6/site-packages',\n",
       " '/home/ranee/.local/lib/python3.6/site-packages/map2loop-0.0.50-py3.6.egg',\n",
       " '/home/ranee/.local/lib/python3.6/site-packages/LoopStructural-0.0.0-py3.6-linux-x86_64.egg',\n",
       " '/home/ranee/.local/lib/python3.6/site-packages/dh2loop-0.0.1-py3.6.egg',\n",
       " '/home/ranee/anaconda3/envs/dh2loop/lib/python3.6/site-packages',\n",
       " '/home/ranee/anaconda3/envs/dh2loop/lib/python3.6/site-packages/IPython/extensions',\n",
       " '/tmp/tmpsz1jlk0u',\n",
       " '/mnt/d/Dropbox/Ranee_Joshi_PhD_Local/04_PythonCodes/dh2loop/notebooks']"
      ]
     },
     "execution_count": 2,
     "metadata": {},
     "output_type": "execute_result"
    }
   ],
   "source": [
    "sys.path"
   ]
  },
  {
   "cell_type": "code",
   "execution_count": 3,
   "metadata": {
    "scrolled": true
   },
   "outputs": [],
   "source": [
    "import pandas as pd\n",
    "from dh2loop import dh2l"
   ]
  },
  {
   "cell_type": "code",
   "execution_count": 4,
   "metadata": {},
   "outputs": [
    {
     "name": "stdout",
     "output_type": "stream",
     "text": [
      "Default parameters loaded from dh2l_config.py:\n",
      "#Database Files\n",
      "data_path='../data/'\n",
      "wamex_path='../data/wamex/'\n",
      "collar_file=wamex_path+'collar.csv'\n",
      "collarattr_file=wamex_path+'collarattr.csv'\n",
      "dhsurvey_file=wamex_path+'dhsurvey.csv'\n",
      "dhsurveyattr_file=wamex_path+'dhsurveyattr.csv'\n",
      "dhgeology_file=wamex_path+'dhgeology.csv'\n",
      "dhgeologyattr_file=wamex_path+'dhgeologyattr.csv'\n",
      "\n",
      "#Thesauri\n",
      "rl_maxdepth_dic_file= wamex_path+'rl_maxdepth_dic.csv'\n",
      "survey_dic_file=wamex_path+'survey_dic.csv'\n",
      "dic_attr_col_lithology_file=wamex_path+'dic_att_col_lithology.csv'\n",
      "dic_attr_val_lithology_file=wamex_path+'dic_attr_val_lithology_filter.csv'\n",
      "cleanup_lithology_file=wamex_path+'cleanup_lithology.csv'\n",
      "litho_dic_file=wamex_path+'litho_dic_1.csv'\n",
      "CET_hierarchy_dico_file=wamex_path+'hierarchy_dico.csv'\n",
      "\n",
      "#ExportFiles\n",
      "export_path='../data/export/'\n",
      "DB_Collar_Export=export_path+'DB_Collar_Export.csv'\n",
      "DB_Survey_Export=export_path+'DB_Survey_Export.csv'\n",
      "DB_Survey_Export_Calc=export_path+'DB_Survey_Export_Calc.csv'\n",
      "CET_Litho=export_path+'CET_Litho.csv'\n",
      "DB_Lithology_Export=export_path+'DB_Lithology_Export.csv'\n",
      "DB_Lithology_Export_Backup=export_path+'DB_Lithology_Export_Backup.csv'\n",
      "DB_Lithology_Upscaled=export_path+'DB_Lithology_Upscaled.csv'\n",
      "DB_Lithology_Export_Calc=export_path+'DB_Lithology_Export_Calc.csv'\n",
      "DB_Lithology_Export_VTK=export_path+'DB_Lithology_Export.vtp'\n",
      "\n",
      "\n",
      "#Shapefiles\n",
      "shapefile_path='../data/shapefile/'\n",
      "geology=shapefile_path+'500K_interpgeol16_yalgoo_singleton.shp'\n",
      "\n",
      "#Projections\n",
      "src_crs = {'init': 'EPSG:4326'}  # coordinate reference system for imported dtms (geodetic lat/long WGS84)\n",
      "dst_crs = {'init': 'EPSG:28350'} # coordinate system for data\n",
      "\n",
      "print('Default parameters loaded from dh2l_config.py:')\n",
      "with open('../notebooks/dh2l_config.py', 'r') as myfile:\n",
      "  data = myfile.read()\n",
      "  print(data)\n",
      "  myfile.close()\n",
      "print('\\nModify these parameters in the cell below')\n",
      "\n",
      "Modify these parameters in the cell below\n"
     ]
    }
   ],
   "source": [
    "%run -i \"dh2l_config.py\""
   ]
  },
  {
   "cell_type": "code",
   "execution_count": 5,
   "metadata": {},
   "outputs": [
    {
     "name": "stderr",
     "output_type": "stream",
     "text": [
      "[nltk_data] Downloading package stopwords to /home/ranee/nltk_data...\n",
      "[nltk_data]   Package stopwords is already up-to-date!\n",
      "[nltk_data] Downloading package punkt to /home/ranee/nltk_data...\n",
      "[nltk_data]   Package punkt is already up-to-date!\n",
      "Using TensorFlow backend.\n"
     ]
    }
   ],
   "source": [
    "import nltk\n",
    "nltk.download('stopwords')\n",
    "nltk.download('punkt')\n",
    "import pandas as pd\n",
    "import numpy as np\n",
    "from glove import Glove\n",
    "from sklearn.preprocessing import LabelEncoder\n",
    "from sklearn import metrics\n",
    "from sklearn.model_selection import train_test_split\n",
    "from keras.models import Sequential\n",
    "from keras.layers import Dense\n",
    "from sklearn.preprocessing import OneHotEncoder\n",
    "from nltk.corpus import stopwords\n",
    "import json\n",
    "import h5py"
   ]
  },
  {
   "cell_type": "code",
   "execution_count": 6,
   "metadata": {},
   "outputs": [],
   "source": [
    "def load_geovec(path):\n",
    "    instance = Glove()\n",
    "    with h5py.File(path, 'r') as f:\n",
    "        v = np.zeros(f['vectors'].shape, f['vectors'].dtype)\n",
    "        f['vectors'].read_direct(v)\n",
    "        dct = f['dct'][()].tostring().decode('utf-8')\n",
    "        dct = json.loads(dct)\n",
    "    instance.word_vectors = v\n",
    "    instance.no_components = v.shape[1]\n",
    "    instance.word_biases = np.zeros(v.shape[0])\n",
    "    instance.add_dictionary(dct)\n",
    "    return instance\n",
    "\n",
    "new_model = load_geovec('../glove/geovec_300d_v1.h5')\n",
    "#modelEmb = Glove.load('/home/ignacio/Documents/chapter2/best_glove_300_317413_w10_lemma.pkl')"
   ]
  },
  {
   "cell_type": "code",
   "execution_count": 14,
   "metadata": {},
   "outputs": [],
   "source": [
    "#Stopwords\n",
    "extra_stopwords = [\n",
    "    'also',\n",
    "]\n",
    "stop = stopwords.words('english') + extra_stopwords\n",
    "\n",
    "\n",
    "def tokenize(text, min_len=1):\n",
    "    '''Function that tokenize a set of strings\n",
    "    Input:\n",
    "        -text: set of strings\n",
    "        -min_len: tokens length\n",
    "    Output:\n",
    "        -list containing set of tokens'''\n",
    "\n",
    "    tokens = [word.lower() for sent in nltk.sent_tokenize(text.read())\n",
    "              for word in nltk.word_tokenize(sent)]\n",
    "    filtered_tokens = []\n",
    "\n",
    "    for token in tokens:\n",
    "        if token.isalpha() and len(token) >= min_len:\n",
    "            filtered_tokens.append(token)\n",
    "\n",
    "    return [x.lower() for x in filtered_tokens if x not in stop]\n",
    "\n",
    "\n",
    "def tokenize_and_lemma(text, min_len=0):\n",
    "    '''Function that retrieves lemmatised tokens\n",
    "    Inputs:\n",
    "        -text: set of strings\n",
    "        -min_len: length of text\n",
    "    Outputs:\n",
    "        -list containing lemmatised tokens'''\n",
    "    filtered_tokens = tokenize(text, min_len=min_len)\n",
    "\n",
    "    lemmas = [lemma.lemmatize(t) for t in filtered_tokens]\n",
    "    return lemmas"
   ]
  },
  {
   "cell_type": "code",
   "execution_count": 23,
   "metadata": {},
   "outputs": [
    {
     "name": "stdout",
     "output_type": "stream",
     "text": [
      "['nso', 'woo', 'mao', 'qtg', 'lc', 'ls', 'lfp', 'mvb', 'v', 'fio', 'tl', 'mb', 'qa', 'cza', 'czlp', 'ash', 'ashg', 'qahp', 'au', 'auk', 'aux', 'cztc', 'ag', 'vq', 'ab', 'lat', 'lsp', 'tcs', 'czlu', 'czlc', 'au', 'czz', 'czf', 'x', 'ash', 'qas', 'ab', 'ac', 'czc', 'ferricrete', 'calcrete', 'dolomite', 'clay', 'col', 'lnd', 'lmz', 'fgr', 'aut', 'x', 'aod', 'liz', 'lpz', 'lcz', 'mba', 'ta', 'lf', 'iv', 'ivs', 'scp', 'sh', 'fip', 'sc', 'mvm', 'mv', 'vcb', 'ivx', 'qh', 'qts', 'qtc', 'qtg', 'qsil', 'qtp', 'lfn', 'vqz', 'lm', 'lc', 'ai', 'czl', 'tlm', 'qdh', 'sch', 'tls', 'qap', 'qdc', 'tlc', 'mga', 'lsz', 'qv', 'cy', 'us', 'tg', 'vs', 'spt', 'sif', 'ssh', 'sct', 'utc', 'soil', 'grt', 'cz', 'mrk', 'cc', 'mm', 'nsr', 'f', 'chs', 'md', 'gvl', 'sst', 'cyt', 'shl', 'af', 'czz', 'czq', 'afp', 'abf', 'void', 'agr', 'amig', 'amm', 'fault', 'auc', 'avn', 'qas', 'ques', 'abt', 'aci', 'czf', 'ass', 'ush', 'rfo', 'nfo', 'u', 'nr', 'sp', 'sps', 'sx', 'eo', 'ccf', 'msc', 'ssq', 'lfz', 'tcg', 'tcc', 'lcz', 'cl', 'null', 'fpd', 'mgb', 'msch', 'fi', 'fg', 'contam', 'ns', 'gabbro', 'oal', 'sap', 'mot', 'sun', 'ogv', 'spu', 'sss', 'uun', 'sis', 'mun', 'mdo', 'bif', 'sbs', 'ocg', 'usc', 'spl', 'utt', 'qzvn', 'blt', 'tc', 'fvt', 'qak', 'afi', 'alu', 'ac', 'aog', 'ao', 'big', 'bih', 'bic', 'bim', 'lsu', 'xhese', 'lsf', 'xclsi', 'xsetc', 'xsecl', 'xsiga', 'upx', 'xsega', 'xclse', 'usch', 'sq', 'maa', 'fpg', 'u', 'ucy', 'use', 'mga', 'latt', 'irst', 'splt', 'shle', 'sprk', 'cly', 'clsc', 'motz', 'hard', 'pldz', 'xso', 'xlc', 'xlm', 'rsp', 'snd', 'pist', 'metb', 'rlc', 'rsr', 'l', 'z', 'p', 'rlp', 'rlm', 'rcy', 'xhp', 'rlz', 'rhp', 'xgv', 'tmsh', 'rln', 'cgv', 'rspu', 'rsru', 'asa', 'aip', 'rsi', 'rso', 'xka', 'xcy', 'aga', 'ss', 'ssl', 'qz', 'tmph', 'sci', 'gb', 'saq', 'nrec', 'iaxa', 'saf', 'gmsy', 'gr', 'sgf', 'ca', 'unk', 'n', 'w', 'na', 'nl', 'cs', 'moo', 'uoo', 'nc', 'gd', 'mvkb', 'nd', 'ndnl', 'fso', 'uso', 'nh', 'foo', 'fpo', 'ng', 'sa', 'si', 'tado', 'crta', 'ga', 'qcf', 'qcm', 'sand', 'talc', 'talc', 'talc', 'bx', 'gravel', 'dol', 'sf', 'slt', 'talc', 'dol', 'dol', 'bx', 'samp', 'clta', 'chert', 'ssts', 'noo', 'nho', 'rmz', 'uto', 'qh', 'qtp', 'lc', 'lm', 'la', 'afv', 'afq', 'abd', 'ass', 'ala', 'aba', 'aogq', 'afdp', 'czk', 'ivt', 'sl', 'mscs', 'bdo', 'cov', 'afd', 'mbo', 'scf', 'transported', 'overburden', 'consolidated', 'sands', 'clay', 'carbonate', 'calcrete', 'clay', 'felsic', 'schist', 'yellow', 'weathering', 'schist', 'schist', 'wh', 'clay', 'schist', 'minor', 'clay', 'qz', 'schist', 'br', 'gossanous', 'material', 'sulph', 'qz', 'schist', 'qz', 'schist', 'schist', 'bright', 'honey', 'yellow', 'alteration', 'overprint', 'sulphides', 'schist', 'sulphides', 'possibly', 'tarnish', 'schist', 'bright', 'honey', 'yellow', 'alteration', 'overprint', 'sulphides', 'schist', 'sulphides', 'possibly', 'tarnish', 'eoh', 'transported', 'overburden', 'consolidated', 'sands', 'unconsolidated', 'transported', 'overburden', 'consolidated', 'sands', 'transported', 'overburden', 'consolidated', 'sands', 'wh', 'clay', 'trace', 'sand', 'gossanous', 'transported', 'overburden', 'consolidated', 'sands', 'wh', 'clay', 'sand', 'gossanous', 'sandy', 'gossan', 'trace', 'py', 'schist', 'weathered', 'wh', 'kaolin', 'sandy', 'gossan', 'trace', 'clay', 'minor', 'qz', 'clay', 'goethite', 'enrichement', 'qz', 'vein', 'clay', 'sandy', 'minor', 'qz', 'clay', 'sandy', 'minor', 'qz', 'supergene', 'iron', 'enrichment', 'gn', 'mafic', 'schist', 'minor', 'qz', 'gn', 'mafic', 'schist', 'minor', 'qz', 'eoh', 'wrk', 'sed', 'sed', 'sed', 'grt', 'mrk', 'amph', 'dolerite', 'al', 'bvt', 'gpo', 'dlo', 'cco', 'um', 'sacy', 'co', 'mst', 'cslt', 'cmst', 'occ', 'ocy', 'osd', 'ftu', 'utc', 'fsc', 'fun', 'utr', 'tnl', 'alb', 'lsm', 'bx', 'im', 'ppy', 'lcy', 'ccl', 'umfi', 'dur', 'komb', 'gab', 'clcr', 'umrk', 'rqz', 'altn', 'xsi', 'xir', 'xsc', 'xhp', 'xsi', 'rsi', 'rlc', 'ssh', 'cgv', 'mcy', 'cysa', 'rubb', 'lps', 'lmo', 'lmo', 'lsap', 'alp', 'asi', 'ukv', 'rir', 'xlz', 'sk', 'mdo', 'rlc', 'rla', 'xlp', 'ruc', 'qsl', 'qhp', 'cmz', 'id', 'sf', 'sg', 'g', 'bv', 'agn', 'lfp', 'qh', 'qtp', 'asg', 'ashf', 'auf', 'afs', 'agd', 'abg', 'aod', 'asg', 'qf', 'b', 'bsch', 'asch', 'qlm', 'f', 'qr', 'fg', 'nzo', 'silc', 'ls', 'qv', 'bi', 'sz', 'qvcb', 'bschcbse', 'bvqv', 'prot', 'pdyk', 'czu', 'rlo', 'por', 'mt', 'ifm', 'mpd', 'usp', 'qtz', 'lfc', 'lhf', 'ih', 'ig', 'xclpy', 'xcl', 'fz', 'rir', 'slct', 'msi', 'la', 'rlm', 'rsp', 'rsr', 'uv', 'qt', 'hdp', 'h', 'c', 'cso', 'rsp', 'ssm', 'mv', 'upd', 'upd', 'utsh', 'fgg', 'ui', 'nm', 'qto', 'ch', 'tacl', 'nao', 'nco', 'ngo', 'rpa', 'bgb', 'qc', 'lm', 'aul', 'agp', 'agf', 'aut', 'czts', 'bvm', 'mscq', 'mpg', 'mbm', 'fqb', 'ms', 'ign', 'qc', 'utcs', 'usac', 'uac', 'ssy', 'alf', 'afr', 'fv', 'mbfg', 'mbmt', 'mbv', 'mvt', 'sawmv', 'csst', 'rcv', 'msh', 'tx', 'lat', 'ocl', 'xga', 'utk', 'ftq', 'bmm', 'xse', 'xqz', 'abm', 'mets', 'srp', 'drt', 'mg', 'sqfs', 'ssl', 'xlm', 'mgo', 'rlz', 'sifx', 'cip', 'ahp', 'rgo', 'rgo', 'xhp', 'rlm', 'xir', 'rlp', 'ci', 'uu', 'uoo', 'fgf', 'fpf', 'mbl', 'fss', 'msb', 'tcp', 'goo', 'ooo', 'qc', 'schseclqzpy', 'schseqzpy', 'schseqz', 'vnqz', 'vnqzcl', 'dsspgnpy', 'dsspcp', 'lf', 'lfe', 'mi', 'px', 'qu', 'id', 'sb', 'f', 'fgd', 'mbm', 'transported', 'overburden', 'consolidated', 'sands', 'unconsolidated', 'clay', 'clayish', 'volcanic', 'sandstone', 'sandstone', 'wh', 'clay', 'sandstone', 'harder', 'slight', 'schistose', 'fabric', 'schist', 'weathered', 'pyrite', 'crystals', 'schist', 'weathered', 'pyrite', 'crystals', 'eoh', 'transported', 'overburden', 'sands', 'minor', 'wh', 'clay', 'schist', 'weathered', 'kaolin', 'clay', 'schist', 'weathered', 'kaolin', 'clay', 'kaolin', 'rich', 'schist', 'weathered', 'kaolin', 'clay', 'eoh', 'ferricrete', 'mostly', 'sandy', 'ferricrete', 'mostly', 'sandy', 'clay', 'clay', 'kaolinite', 'volc', 'schist', 'volc', 'schist', 'clay', 'kaolinite', 'volc', 'schist', 'clayey', 'kaolinite', 'volc', 'schist', 'volc', 'schist', 'gossanous', 'material', 'volc', 'schist', 'bit', 'fe', 'ox', 'volc', 'schist', 'fe', 'ox', 'volc', 'schist', 'bit', 'clayey', 'bit', 'fe', 'ox', 'volc', 'schist', 'bit', 'clayey', 'traces', 'fe', 'ox', 'volc', 'schist', 'bit', 'fe', 'ox', 'volc', 'schist', 'bit', 'gossanous', 'material', 'volc', 'schist', 'bit', 'gossanous', 'material', 'eoh', 'stope', 'gvlso', 'cd', 'saso', 'hem', 'mmt', 'bhc', 'bmc', 'bhm', 'hemm', 'gt', 'bgc', 'bcmh', 'goellim', 'bghc', 'bhms', 'bms', 'qg', 'asq', 'th', 'uao', 'cclf', 'fta', 'ut', 'se', 'lsp', 'dlt', 'blsh', 'mgbs', 'rld', 'rlz', 'aga', 'av', 'cla', 'ruc', 'rip', 'uop', 'apb', 'xtc', 'qac', 'mss', 'msm', 'fsf', 'mbp', 'mbf', 'mdm', 'ph', 'lf', 'lc', 'vnqz', 'abm', 'tal', 'ii', 'tlf', 'transported', 'overburden', 'consolidated', 'sands', 'uncosolidated', 'clay', 'overlying', 'sands', 'clay', 'qz', 'clay', 'kaolin', 'clay', 'kaolin', 'golden', 'tellow', 'schist', 'weathered', 'schist', 'trace', 'qz', 'minor', 'kaolin', 'clay', 'schist', 'trace', 'qz', 'minor', 'kaolin', 'clay', 'eoh', 'ferricrete', 'mostly', 'sandy', 'fe', 'ox', 'coating', 'ferricrete', 'less', 'sandy', 'fe', 'ox', 'coating', 'clayey', 'whye', 'schist', 'ferricrete', 'less', 'sandy', 'bit', 'slaty', 'fe', 'ox', 'coating', 'slightly', 'clayey', 'weathered', 'dolerite', 'dyke', 'weathered', 'dolerite', 'dyke', 'traces', 'fe', 'ox', 'dolerite', 'dyke', 'eoh', 'wu', 'rsc', 'cx', 'ft', 'mbu', 'cng', 'csf', 'utuff', 'chlt', 'mtuff', 'scht', 'cga', 'rsc', 'mcs', 'utc', 'upo', 'ds', 'peg', 'foo', 'hpnczc', 'afz', 'schclse', 'qfp', 'lc', 'bv', 'bgb', 'lm', 'lf', 'abp', 'ns', 'scy', 'mb', 'vq', 'qts', 'qtg', 'qh', 'qtc', 'lc', 'ls', 'vqz', 'b', 'bdo', 'msc', 'transported', 'overburden', 'consolidated', 'sands', 'wh', 'clays', 'wh', 'clays', 'whrdye', 'clays', 'whye', 'clays', 'rdwhye', 'clays', 'rdwh', 'clays', 'puwh', 'clays', 'qz', 'vein', 'eoh', 'soot', 'cdb', 'cong', 'lsl', 'sed', 'bx', 'talc', 'dol', 'rlh', 'ldh', 'lsd', 'mh', 'cm', 'cp', 'io', 'czh', 'czg', 'csm', 'abs', 'umfm', 'ssk', 'ssm', 'xsc', 'cga', 'acy', 'ukb', 'rcy', 'xlm', 'mrso', 'mc', 'fi', 'ndlt', 'apo', 'asc', 'czb', 'aus', 'dho', 'slc', 'cshl', 'agg', 'pdyk', 'lm', 'bvasch', 'bdobiclcb', 'wusp', 'sun', 'sil', 'cap', 'umf', 'rlp', 'sbs', 'esa', 'fcy', 'xgv', 'wcy', 'otc', 'och', 'ocs', 'sms', 'mbx', 'ms', 'transported', 'overburden', 'rdbr', 'consolidated', 'sands', 'transported', 'overburden', 'lyerdbr', 'consolidated', 'sands', 'clay', 'qz', 'grains', 'schist', 'weathered', 'wh', 'kaolin', 'clays', 'yebr', 'schist', 'chips', 'minor', 'calcrete', 'schist', 'weathered', 'wh', 'kaolin', 'clays', 'yebr', 'schist', 'chips', 'qz', 'felsic', 'musc', 'schist', 'qz', 'felsic', 'musc', 'schist', 'may', 'granitoid', 'schistose', 'fabric', 'qz', 'felsic', 'muscovite', 'schist', 'qz', 'felsic', 'muscovite', 'schist', 'occasional', 'wh', 'clay', 'chips', 'qz', 'felsic', 'muscovite', 'schist', 'occasional', 'wh', 'clay', 'chips', 'uphole', 'qz', 'felsic', 'muscovite', 'schist', 'occasional', 'wh', 'clay', 'chips', 'eoh', 'mrk', 'bif', 'alqb', 'gab', 'por', 'sagvl', 'xgamu', 'clp', 'gdi', 'mtb', 'rld', 'rkm', 'sqms', 'cpb', 'sqsc', 'schsit', 'hematitic', 'clay', 'schist', 'hematitic', 'manganiferous', 'clay', 'schist', 'hematitic', 'manganiferous', 'quartz', 'vein', 'tcb', 'wum', 'nmz', 'wsp', 'wsr', 'wfr', 'czs', 'amb', 'lode', 'af', 'fig', 'gco', 'ferricrete', 'mostly', 'sandy', 'fe', 'ox', 'coating', 'ferricrete', 'mostly', 'sandy', 'wh', 'volc', 'schist', 'ferricrete', 'clayey', 'kaolinite', 'rd', 'volc', 'schist', 'ferricrete', 'wh', 'volc', 'schist', 'clayey', 'ferricrete', 'fe', 'ox', 'volc', 'schist', 'traces', 'fe', 'ox', 'volc', 'schist', 'clayey', 'kaolinite', 'fe', 'ox', 'volc', 'schist', 'clayey', 'kaolinite', 'bit', 'fe', 'ox', 'volc', 'schist', 'eoh', 'alqm', 'qasil', 'tm', 'lhs', 'py', 'fa', 'ufm', 'aw', 'qcult', 'xlc', 'qzult', 'qzvl', 'sr', 'msr', 'psr', 'sgq', 'sfq', 'fgr', 'dyk', 'uv', 'transported', 'overburden', 'consolidated', 'sands', 'minor', 'cream', 'clays', 'calcrete', 'strong', 'fizz', 'schist', 'weathered', 'kaolin', 'clays', 'schist', 'red', 'spotted', 'schist', 'qz', 'rd', 'gossanous', 'sandy', 'sed', 'schist', 'spotted', 'kaolin', 'weathered', 'schist', 'rdwh', 'schist', 'rdbl', 'gossanous', 'sandy', 'unit', 'qz', 'vein', 'rdwh', 'schist', 'rdbl', 'gossanous', 'sandy', 'unit', 'qz', 'vein', 'qz', 'rdwh', 'spotted', 'schist', 'gossanous', 'sand', 'rdwh', 'schist', 'gn', 'chloritic', 'schist', 'minor', 'gossan', 'hematitic', 'rdwh', 'schist', 'gn', 'chloritic', 'schist', 'gossan', 'hematitic', 'rdwh', 'schist', 'gn', 'chloritic', 'schist', 'gossan', 'hematitic', 'eoh', 'drive', 'mhm', 'xso', 'ruc', 'sqs', 'san', 'sfx', 'xcy', 'cicac', 'qtc', 'czk', 'au', 'ao', 'alb', 'aur', 'abb', 'vw', 'mscs', 'bgbdyk', 'transported', 'overburden', 'consolidated', 'sands', 'white', 'carbonate', 'blue', 'sandstone', 'qz', 'fragments', 'consolidated', 'sand', 'qz', 'fragments', 'clay', 'orange', 'qz', 'fragments', 'qz', 'fragments', 'clay', 'trace', 'sands', 'qz', 'fragments', 'trace', 'clay', 'sands', 'green', 'chlorite', 'qz', 'green', 'chlorite', 'qz', 'green', 'chlorite', 'qz', 'trace', 'clays', 'green', 'chlorite', 'qz', 'trace', 'clays', 'wh', 'green', 'chlorite', 'qz', 'eoh', 'due', 'bit', 'refusal', 'dol', 'sosa', 'lfp', 'bmyl', 'bbx', 'fap', 'aud', 'sample', 'sssh', 'scr', 'maf', 'qasi', 'scy', 'agv', 'fto', 'qh', 'mbcly', 'auc', 'auk', 'qfn', 'sbi', 'tll', 'ferricrete', 'mostly', 'sandy', 'bit', 'fe', 'ox', 'coating', 'ferricrete', 'mostly', 'sandy', 'bit', 'fe', 'ox', 'coating', 'wh', 'clayey', 'schist', 'felsic', 'schist', 'felsic', 'schist', 'bit', 'fe', 'ox', 'felsic', 'schist', 'fe', 'ox', 'lightly', 'gossanous', 'felsic', 'schist', 'traces', 'fe', 'oxide', 'felsic', 'schist', 'traces', 'fe', 'oxide', 'traces', 'veining', 'felsic', 'schist', 'fe', 'ox', 'gossan', 'felsic', 'schist', 'remants', 'sulphides', 'rainbow', 'staining', 'gossan', 'wh', 'clayey', 'schist', 'remants', 'sulphides', 'rainbow', 'staining', 'gossan', 'remants', 'sulphides', 'rainbow', 'staining', 'gossan', 'rdor', 'felsic', 'schist', 'felsic', 'schist', 'bit', 'gossanous', 'gossan', 'wh', 'felsic', 'schist', 'felsic', 'schist', 'clayey', 'gossanous', 'material', 'felsic', 'schist', 'gossanous', 'material', 'felsic', 'schist', 'clayey', 'fe', 'ox', 'felsic', 'schist', 'clayey', 'fe', 'ox', 'abundant', 'felsic', 'schist', 'clayey', 'fe', 'ox', 'eoh', 'reor', 'bl', 'rebr', 'cz', 'ls', 'wuspd', 'mba', 'ocv', 'xsicl', 'xsipy', 'fpg', 'myl', 'chrt', 'xlp', 'rka', 'sw', 'xla', 'xsi', 'cfoo', 'gg', 'uu', 'msx', 'lfp', 'qtc', 'iv', 'vn', 'qtf', 'vg', 'transported', 'overburden', 'consolidated', 'sands', 'unconsolidated', 'gn', 'clay', 'transported', 'overburden', 'consolidated', 'sands', 'unconsolidated', 'gn', 'sands', 'transported', 'overburden', 'consolidated', 'sands', 'unconsolidated', 'wh', 'kaolin', 'clay', 'clay', 'kaolin', 'consolidated', 'sand', 'clay', 'kaolin', 'weathered', 'felsic', 'schist', 'volc', 'schist', 'minor', 'clays', 'loss', 'silum', 'scp', 'shs', 'tcls', 'pelt', 'rhy', 'xla', 'cir', 'ccy', 'ir', 'ast', 'atc', 'xln', 'sum', 'notsaml', 'fai', 'aol', 'asc', 'ap', 'red', 'sand', 'consolidated', 'cover', 'lithic', 'qz', 'sandy', 'matrix', 'consolidated', 'cover', 'lithic', 'qz', 'sandy', 'matrix', 'fragments', 'consolidated', 'cover', 'lithic', 'qz', 'sandy', 'matrix', 'qz', 'fragments', 'consolidated', 'cover', 'lithic', 'qz', 'sandy', 'matrix', 'qz', 'fragments', 'rd', 'consolidated', 'qz', 'fragments', 'feldspar', 'clays', 'minor', 'red', 'sand', 'qz', 'fragments', 'red', 'schistose', 'consolidated', 'shale', 'qz', 'fragments', 'wh', 'red', 'shale', 'qz', 'fragments', 'trace', 'bright', 'yellow', 'weathered', 'volcanics', 'slight', 'cleavage', 'qz', 'fragments', 'bright', 'yellow', 'weathered', 'volcanics', 'slight', 'cleavage', 'qz', 'fragments', 'bright', 'yellow', 'weathered', 'volcanics', 'slight', 'cleavage', 'minor', 'wh', 'clay', 'qz', 'fragments', 'bright', 'yellow', 'weathered', 'volcanics', 'slight', 'cleavage', 'acid', 'volcanic', 'bright', 'yello', 'highly', 'weathered', 'qz', 'trace', 'kaolin', 'clay', 'acid', 'volcanic', 'bright', 'yello', 'highly', 'weathered', 'qz', 'trace', 'kaolin', 'clay', 'acid', 'volcanic', 'bright', 'yello', 'highly', 'weathered', 'qz', 'trace', 'kaolin', 'clay', 'schist', 'red', 'weathered', 'minor', 'qz', 'schist', 'red', 'weathered', 'minor', 'qz', 'trace', 'chlorite', 'muscovite', 'schist', 'red', 'weathered', 'minor', 'qz', 'trace', 'chlorite', 'muscovite', 'eoh', 'ferricrete', 'mostly', 'sandy', 'fe', 'ox', 'coating', 'fe', 'pebbles', 'ferricrete', 'mostly', 'sandy', 'fe', 'ox', 'coating', 'clayey', 'schist', 'qz', 'ferricrete', 'mostly', 'sandy', 'volc', 'schist', 'bit', 'gossanous', 'material', 'reddish', 'traces', 'veining', 'volc', 'schist', 'gossanous', 'volc', 'schist', 'bit', 'gossanous', 'volc', 'schist', 'still', 'slightly', 'gossanous', 'volc', 'schist', 'gossanous', 'material', 'fading', 'volc', 'schist', 'traces', 'disseminated', 'fe', 'ox', 'volc', 'schist', 'traces', 'fe', 'ox', 'contamination', 'volc', 'schist', 'green', 'chips', 'mafic', 'rock', 'looks', 'almost', 'gneissic', 'contamination', 'ferricrete', 'wh', 'sand', 'bit', 'clayey', 'sand', 'bit', 'clayey', 'clay', 'kaolinite', 'volc', 'schist', 'bit', 'clayey', 'volc', 'schist', 'bit', 'gossanous', 'material', 'qz', 'gossan', 'volc', 'schist', 'tacl', 'dol', 'cl', 'precoll', 'bmct', 'qyp', 'ppdyk', 'aud', 'ass', 'ash', 'ashf', 'aod', 'ac', 'ns', 'aur', 'mdq', 'tlp', 'mgo', 'acgv', 'xln', 'czsc', 'schqzse', 'lsvnqz', 'fia', 'vqtz', 'bif', 'fda', 'mbt', 'alm', 'xsepy', 'fvq', 'zamp', 'mtbif', 'rspp', 'upx', 'udo', 'silt', 'silt', 'sf', 'silt', 'bx', 'silt', 'lf', 'schcl', 'mcy', 'fcy', 'fqp', 'fgp', 'ferricrete', 'sandy', 'fe', 'ox', 'coating', 'volc', 'schist', 'traces', 'veining', 'volc', 'schist', 'clayey', 'kaolinite', 'traces', 'fe', 'ox', 'volc', 'schist', 'traces', 'veining', 'volc', 'schist', 'sericitized', 'chips', 'eoh', 'sch', 'silcrete', 'uub', 'qs', 'ts', 'pgts', 'go', 'csl', 'sif', 'qzto', 'wmz', 'wcz', 'qtp', 'qtc', 'aogl', 'abc', 'czg', 'afp', 'mhb', 'transported', 'overburden', 'consolidated', 'sands', 'wh', 'clay', 'transported', 'overburden', 'consolidated', 'sands', 'wh', 'clay', 'transported', 'overburden', 'consolidated', 'sands', 'wh', 'clay', 'transported', 'overburden', 'consolidated', 'sands', 'br', 'clay', 'yebr', 'clay', 'yebr', 'clay', 'lgn', 'schistosity', 'gn', 'mafic', 'schist', 'weathered', 'wh', 'clay', 'gn', 'mafic', 'schist', 'weathered', 'wh', 'clay', 'eoh', 'calcrete', 'fizzy', 'hcl', 'ferricrete', 'ferricrete', 'ironstone', 'fe', 'ox', 'volc', 'schist', 'clayey', 'volc', 'schist', 'clayey', 'traces', 'fe', 'ox', 'volc', 'schist', 'clayey', 'fe', 'ox', 'volc', 'schist', 'much', 'less', 'clayey', 'volc', 'schist', 'green', 'schist', 'mafic', 'chl', 'volc', 'schist', 'green', 'schist', 'mafic', 'chl', 'eoh', 'ferricrete', 'sandy', 'volc', 'schist', 'clayey', 'kaol', 'traces', 'dissem', 'fe', 'ox', 'volc', 'schist', 'clayey', 'kaol', 'volc', 'schist', 'clayey', 'kaol', 'traces', 'veining', 'volc', 'schist', 'clayey', 'kaol', 'sericite', 'volc', 'schist', 'less', 'clayey', 'kaol', 'sericite', 'volc', 'schist', 'traces', 'fe', 'ox', 'volc', 'schist', 'rd', 'staining', 'volc', 'schist', 'red', 'staining', 'volc', 'schist', 'red', 'staining', 'traces', 'dissem', 'fe', 'ox', 'volc', 'schist', 'red', 'staining', 'traces', 'fe', 'ox', 'volc', 'schist', 'staining', 'alluvium', 'sandy', 'gravel', 'saprolite', 'lateritic', 'gravel', 'silty', 'metasediment', 'sandy', 'gravel', 'gravely', 'clay', 'metasediment', 'gravely', 'sand', 'iron', 'formation', 'banded', 'iron', 'formation', 'weathered', 'banded', 'iron', 'formation', 'fresh', 'ioo', 'lbif', 'gsn', 'qds', 'sich', 'rlp', 'q', 'pcs', 'mcs', 'ifcs', 'iff', 'bxfi', 'myfi', 'mymv', 'myuv', 'pfi', 'fsq', 'qcc', 'fd', 'bi', 'aft', 'xxx', 'mix', 'mio', 'uts', 'sst', 'qttp', 'ks', 'alluvium', 'saprolite', 'saprolite', 'silt', 'clay', 'metasediment', 'sandy', 'silt', 'clay', 'metasediment', 'metasediment', 'clay', 'foliated', 'banded', 'iron', 'formation', 'alt', 'missing', 'pst', 'clm', 'rcy', 'sqms', 'csc', 'scio', 'utcb', 'clp', 'cxlp', 'r', 'mxso', 'cis', 'amv', 'wgo', 'qtc', 'agb', 'aurp', 'tsz', 'tsc', 'x', 'al', 'xselm', 'xpycl', 'xlp', 'clp', 'chp', 'mcso', 'aso', 'wfe', 'cisczc', 'czsczl', 'qhqtp', 'acis', 'iid', 'mid', 'transported', 'overburden', 'consolidated', 'sands', 'transported', 'overburden', 'consolidated', 'sands', 'light', 'tinge', 'whgn', 'clay', 'red', 'sands', 'trace', 'wh', 'carbonate', 'whgn', 'clay', 'wh', 'carbonate', 'whgn', 'clay', 'trace', 'wh', 'carbonate', 'red', 'sandstone', 'qz', 'fragments', 'qz', 'fragments', 'gnwhor', 'clays', 'qz', 'fragments', 'gnwhor', 'clays', 'trace', 'wh', 'kaolin', 'clays', 'weathered', 'basement', 'qz', 'fragments', 'gnwhor', 'clays', 'wh', 'kaolin', 'clays', 'weathered', 'basement', 'qz', 'fragments', 'wh', 'kaolin', 'clays', 'weathered', 'basement', 'qz', 'fragments', 'wh', 'kaolin', 'clays', 'weathered', 'basement', 'schist', 'kaolinite', 'clay', 'schist', 'kaolinite', 'clay', 'clays', 'schist', 'kaolinite', 'clay', 'carbonate', 'schist', 'silver', 'green', 'schist', 'silver', 'green', 'eoh', 'tba', 'ppo', 'mqz', 'phyl', 'sqbm', 'vnqz', 'infill', 'qtc', 'qtp', 'czc', 'hmb', 'soo', 'ferricrete', 'mostly', 'sandy', 'fe', 'ox', 'coating', 'ferricrete', 'mostly', 'sandy', 'gn', 'ferricrete', 'clayey', 'traces', 'fe', 'ox', 'weathered', 'dolerite', 'dyke', 'eoh', 'aor', 'abf', 'v', 'fpd', 'coll', 'xsa', 'xgv', 'ssl', 'wsc', 'mamx', 'dd', 'mu', 'sci', 'lfp', 'fv', 'schist', 'weathered', 'biotite', 'felsic', 'schist', 'schist', 'weathered', 'biotite', 'felsic', 'schist', 'wh', 'clay', 'schist', 'weathered', 'biotite', 'felsic', 'schist', 'sandy', 'sandstone', 'minor', 'wh', 'clays', 'sandstone', 'wh', 'clay', 'sandstone', 'wh', 'clay', 'clay', 'kaolin', 'minor', 'sandstone', 'schist', 'schist', 'golden', 'yellow', 'py', 'veins', 'schist', 'schist', 'golden', 'yellow', 'py', 'veins', 'schist', 'eoh', 'ferricrete', 'mostly', 'sandy', 'fe', 'ox', 'coating', 'wh', 'kaolinite', 'clay', 'volc', 'schist', 'clayey', 'ferricrete', 'volc', 'schist', 'clayey', 'volc', 'schist', 'clayey', 'gossanous', 'material', 'qz', 'volc', 'schist', 'clayey', 'gossanous', 'material', 'volc', 'schist', 'less', 'clayey', 'bit', 'fe', 'ox', 'volc', 'schist', 'less', 'clayey', 'traces', 'fe', 'ox', 'volc', 'schist', 'kaolinite', 'bit', 'fe', 'ox', 'volc', 'schist', 'bit', 'fe', 'ox', 'qz', 'volc', 'schist', 'traces', 'fe', 'ox', 'qz', 'volc', 'schist', 'traces', 'dissem', 'fe', 'ox', 'volc', 'schist', 'sericitization', 'volc', 'schist', 'sericitization', 'eoh', 'mx', 'clst', 'spf', 'xsehe', 'xmtse', 'xsemt', 'xmtsi', 'xsise', 'xtrsi', 'xsitr', 'xacmt', 'xsimt', 'xacsi', 'xsiac', 'xpypo', 'xseac', 'lag', 'nsa', 'nsa', 'xsc', 'agy', 'lf', 'vnqztm', 'biclbx', 'fzbx', 'uvk', 'slt', 'czp', 'goelim', 'cgl', 'mtc', 'crmv', 'biqv', 'qpy', 'nlo', 'xseep', 'xsesi', 'xqzse', 'xclam', 'xsimu', 'fp', 'uac', 'ahp', 'xsa', 'mg', 'qcs', 'scs', 'swf', 'bicl', 'bdof', 'bi', 'cl', 'py', 'bdocl', 'vnqzsh', 'bisicl', 'bisi', 'mrk', 'bc', 'qtss', 'uat', 'xx', 'xsihe', 'xlmse', 'llp', 'lln', 'xclmt', 'qsc', 'wag', 'czip', 'wagb', 'wagm', 'aagb', 'ktt', 'rhp', 'csc', 'srqt', 'scq', 'srq', 'sfqt', 'sftq', 'sgt', 'tq', 'qc', 'clay', 'agdp', 'mb', 'mvx', 'transported', 'overburden', 'sands', 'wh', 'clay', 'clay', 'kaolin', 'minor', 'transported', 'overburden', 'schist', 'felsic', 'volcanic', 'weathered', 'kaolin', 'clays', 'dark', 'weathered', 'veins', 'sandy', 'sed', 'qz', 'vein', 'schist', 'goss', 'sand', 'schist', 'sandy', 'sediment', 'schist', 'trace', 'sandy', 'sediment', 'schist', 'thin', 'black', 'weathered', 'py', 'veining', 'schist', 'dark', 'blue', 'volcanic', 'schist', 'eoh', 'clay', 'trace', 'rd', 'sandstone', 'clay', 'rd', 'sandstone', 'clay', 'rd', 'sandstone', 'clay', 'bit', 'sandy', 'gnbr', 'mafic', 'schist', 'weathered', 'clay', 'gnbr', 'mafic', 'schist', 'weathered', 'clay', 'eoh', 'bdo', 'geg', 'rpmbv', 'wss', 'wgr', 'uvol', 'fvol', 'rir', 'si', 'u', 'san', 'qc', 'lfp', 'wh', 'clay', 'transported', 'overburden', 'rd', 'wh', 'clay', 'rdblwh', 'clay', 'brye', 'clay', 'brye', 'clay', 'gn', 'mafic', 'schist', 'brye', 'clay', 'trace', 'gn', 'mafic', 'schist', 'gn', 'mafic', 'schist', 'weathered', 'qz', 'fragments', 'gn', 'mafic', 'schist', 'weathered', 'qz', 'fragments', 'eoh', 'overburden', 'unconsolidated', 'iron', 'sands', 'overburden', 'consolidated', 'iron', 'overburden', 'minor', 'carbonates', 'occasional', 'iron', 'oxide', 'clay', 'minor', 'iron', 'oxide', 'rounded', 'pebbles', 'clay', 'minor', 'iron', 'oxide', 'rounded', 'pebbles', 'minor', 'white', 'kaolin', 'clays', 'volc', 'volcanic', 'schist', 'weathered', 'iron', 'oxide', 'volcanic', 'schist', 'weathered', 'iron', 'oxide', 'kaolin', 'clay', 'volcanic', 'schist', 'weathered', 'iron', 'oxide', 'kaolin', 'clay', 'volcanic', 'schist', 'weathered', 'iron', 'oxide', 'kaolin', 'clay', 'volcanic', 'schist', 'weathered', 'iron', 'oxide', 'trace', 'qz', 'fragments', 'angular', 'volcanic', 'schist', 'weathered', 'iron', 'oxide', 'semi', 'rounded', 'qz', 'fragments', 'kaolin', 'clay', 'schist', 'parent', 'eoh', 'aor', 'aci', 'hemmgt', 'bcz', 'iun', 'isc', 'lfa', 'qdo', 'rsa', 'qtc', 'qtp', 'uil', 'ferricrete', 'mostly', 'sandy', 'clay', 'kaolinite', 'clay', 'kaolinite', 'volc', 'schist', 'volc', 'schist', 'bit', 'fe', 'ox', 'eoh', 'mlc', 'u', 'fx', 'qhqts', 'xbiga', 'xbisi', 'xsibi', 'xsiep', 'sesch', 'mtqzbif', 'czcczl', 'ul', 'iiv', 'msscq', 'transported', 'overburden', 'consolidated', 'sands', 'friable', 'clay', 'kaolinite', 'trace', 'red', 'consolidated', 'overburden', 'clay', 'kaolinite', 'qz', 'fragments', 'well', 'rounded', 'medium', 'grained', 'clay', 'kaolinite', 'qz', 'fragments', 'well', 'rounded', 'medium', 'grained', 'trace', 'chlorite', 'clay', 'kaolinite', 'kaolin', 'competent', 'clay', 'clay', 'kaolinite', 'kaolin', 'competent', 'clay', 'clay', 'kaolinite', 'kaolin', 'competent', 'clay', 'clay', 'kaolinite', 'kaolin', 'competent', 'clay', 'minor', 'sands', 'qz', 'clay', 'weak', 'schistosity', 'large', 'wh', 'clay', 'chips', 'clay', 'increasing', 'schist', 'felsic', 'volc', 'schist', 'sericite', 'muscovite', 'schist', 'qz', 'fragments', 'minor', 'sand', 'contamination', 'qz', 'volc', 'felsic', 'volc', 'schist', 'sericite', 'muscovite', 'schist', 'qz', 'fragments', 'minor', 'sand', 'contamination', 'eoh', 'ferricrete', 'mostly', 'sandy', 'fe', 'ox', 'coating', 'calcrete', 'really', 'fizzy', 'hcl', 'calcrete', 'really', 'fizzy', 'hcl', 'ye', 'volc', 'schist', 'clayey', 'volc', 'schist', 'kaolinite', 'volc', 'schist', 'bit', 'kaolinite', 'volc', 'schist', 'bit', 'kaolinite', 'fe', 'rich', 'clay', 'volc', 'schist', 'bit', 'kaolinite', 'fe', 'rich', 'clay', 'traces', 'fe', 'ox', 'volc', 'schist', 'clayey', 'traces', 'fe', 'ox', 'qz', 'volc', 'schist', 'clayey', 'kaolinite', 'chips', 'green', 'schist', 'kaol', 'schist', 'chips', 'eoh', 'ustc', 'spm', 'per', 'ssch', 'pyt', 'rso', 'tmsh', 'uccb', 'chp', 'umsh', 'anb', 'llz', 'transported', 'overburden', 'consolidated', 'sand', 'unconsolidated', 'schist', 'weathered', 'kaolin', 'clays', 'schist', 'weathered', 'kaolin', 'clays', 'sandy', 'unit', 'schist', 'weathered', 'kaolin', 'clays', 'sandy', 'non', 'gossanous', 'sandy', 'gossanous', 'unit', 'weatheed', 'sulphides', 'sandy', 'gossanous', 'unit', 'weatheed', 'sulphides', 'schist', 'qtz', 'vein', 'weathered', 'sulphides', 'qtz', 'vein', 'minor', 'golden', 'schist', 'qtz', 'vein', 'qtz', 'vein', 'dark', 'blue', 'gossanous', 'material', 'schist', 'qz', 'vein', 'gossnaous', 'sand', 'schist', 'qz', 'vein', 'gossnaous', 'sand', 'eoh', 'clsch', 'qgts', 'xbi', 'xmt', 'clzamp', 'mtzamp', 'mrga', 'um', 'ucl', 'lm', 'ferricrete', 'mostly', 'sandy', 'fe', 'ox', 'coating', 'bit', 'clay', 'clay', 'kaolinite', 'ferricrete', 'ferricrete', 'traces', 'fe', 'ox', 'ferricrete', 'bit', 'fe', 'ox', 'volc', 'schist', 'bit', 'fe', 'ox', 'veins', 'volc', 'schist', 'bit', 'dissem', 'fe', 'ox', 'volc', 'schist', 'clayey', 'fault', 'traces', 'fe', 'ox', 'volc', 'schist', 'fe', 'ox', 'associated', 'qz', 'gossan', 'volc', 'schist', 'volc', 'schist', 'gossanous', 'material', 'eoh', 'bsh', 'bxcb', 'bvcl', 'rlm', 'qtp', 'aqp', 'ccz', 'sacl', 'rpsaw', 'sawfv', 'mafic', 'clrc', 'rsl', 'clg', 'rln', 'qv', 'fqf', 'fsx', 'transported', 'overburden', 'sand', 'consolidated', 'clay', 'trace', 'qz', 'clogged', 'outside', 'poor', 'sample', 'clay', 'qz', 'clogged', 'outside', 'poor', 'sample', 'clay', 'kaolin', 'clay', 'trace', 'fragments', 'felsic', 'schist', 'rdye', 'clay', 'kaolin', 'clay', 'fragments', 'felsic', 'schist', 'rdye', 'schist', 'acid', 'volcanics', 'biotite', 'muscovite', 'schist', 'qz', 'felsic', 'schist', 'schist', 'felsic', 'schist', 'schist', 'qz', 'schist', 'schist', 'qz', 'schist', 'eoh', 'ovb', 'su', 'alluvial', 'silcreted', 'conglomerate', 'silcreted', 'mottled', 'zone', 'clay', 'bt', 'clay', 'quartz', 'vein', 'quartz', 'vein', 'clay', 'bt', 'epidote', 'clay', 'bt', 'epidote', 'granite', 'bt', 'granite', 'bt', 'granite', 'bt', 'rich', 'gniess', 'maa', 'xlg', 'ssm', 'sk', 'csa', 'rcy', 'czfi', 'amz', 'qtc', 'qf', 'agd', 'lnz', 'volc', 'schist', 'clay', 'volc', 'schist', 'obvious', 'fabric', 'clay', 'traces', 'fe', 'ox', 'volc', 'schist', 'obvious', 'fabric', 'clay', 'volc', 'schist', 'obvious', 'fabric', 'traces', 'fe', 'ox', 'volc', 'schist', 'obvious', 'fabric', 'bit', 'gossanous', 'material', 'volc', 'schist', 'bit', 'clayey', 'kaolinite', 'volc', 'schist', 'bit', 'clayey', 'kaolinite', 'traces', 'fe', 'ox', 'volc', 'schist', 'bit', 'kaolinite', 'fe', 'ox', 'volc', 'schist', 'bit', 'kaolinite', 'traces', 'fe', 'ox', 'volc', 'schist', 'bit', 'kaolinite', 'fe', 'ox', 'eoh', 'lim', 'dolbhm', 'bmcshl', 'bmcdol', 'ns', 'alluvial', 'sand', 'silcreted', 'sand', 'kaolin', 'clay', 'kaolin', 'clay', 'iron', 'alteration', 'bt', 'rich', 'granite', 'magnetite', 'bt', 'gniess', 'magnetite', 'xseqz', 'xclqz', 'xbimt', 'scg', 'xmuga', 'rtc', 'lsa', 'ls', 'lm', 'fsch', 'qrg', 'sc', 'trasported', 'overburden', 'consolidated', 'sands', 'unconsolidated', 'trasported', 'overburden', 'consolidated', 'sands', 'dolerite', 'dyke', 'ferricrete', 'mostly', 'sandy', 'wh', 'kaolinite', 'clay', 'volc', 'schist', 'wh', 'kaolinite', 'clay', 'volc', 'schist', 'wh', 'kaolinite', 'clay', 'volc', 'schist', 'bit', 'fe', 'ox', 'volc', 'schist', 'bit', 'clayey', 'gossanous', 'material', 'volc', 'schist', 'bit', 'clayey', 'gossanous', 'material', 'gossan', 'bit', 'volc', 'schist', 'gossan', 'volc', 'schist', 'volc', 'schist', 'gossanous', 'material', 'volc', 'schist', 'fe', 'ox', 'volc', 'schist', 'gn', 'schist', 'bit', 'fe', 'ox', 'eoh', 'cz', 'amph', 'clf', 'pf', 'bvep', 'pbdo', 'xsegt', 'tcbs', 'qvn', 'fu', 'ag', 'lm', 'czl', 'stpe', 'bv', 'fol', 'xxo', 'sbl', 'clc', 'mvb', 'mvmb', 'lfp', 'calcrete', 'kaolin', 'clays', 'felsic', 'schist', 'schist', 'weathered', 'wh', 'kaolin', 'clays', 'schist', 'weathered', 'wh', 'kaolin', 'clays', 'qz', 'qz', 'vein', 'minor', 'kaolin', 'schist', 'trace', 'py', 'crystals', 'qz', 'vein', 'minor', 'kaolin', 'schist', 'eoh', 'ferricrete', 'mostly', 'sandy', 'iron', 'coating', 'ferricrete', 'clayey', 'iron', 'coating', 'ferricrete', 'siliceous', 'iron', 'content', 'increases', 'ferricrete', 'siliceous', 'iron', 'oxide', 'abundant', 'clay', 'felsic', 'schist', 'weathered', 'clayey', 'felsic', 'schist', 'weathered', 'clayey', 'wh', 'qz', 'felsic', 'schist', 'weathered', 'clayey', 'wh', 'qz', 'felsic', 'schist', 'weathered', 'clayey', 'wh', 'qz', 'traces', 'chlorite', 'qz', 'felsic', 'schist', 'weathered', 'clayey', 'whrd', 'qz', 'felsic', 'schist', 'weathered', 'clayey', 'whrd', 'qz', 'faint', 'remnant', 'chlorite', 'veining', 'felsic', 'schist', 'weathered', 'clayey', 'whrd', 'qz', 'traces', 'chlorite', 'schist', 'felsic', 'schist', 'weathered', 'clayey', 'whrd', 'qz', 'traces', 'chlorite', 'schist', 'felsic', 'schist', 'weathered', 'clayey', 'whrd', 'qz', 'traces', 'chlorite', 'qz', 'slightly', 'gossanous', 'qz', 'wh', 'clayey', 'felsic', 'schist', 'clayey', 'felsic', 'schist', 'qz', 'slightly', 'gossanous', 'clayey', 'felsic', 'schist', 'qz', 'clayey', 'felsic', 'schist', 'qz', 'traces', 'iron', 'oxides', 'clayey', 'felsic', 'schist', 'qz', 'traces', 'iron', 'oxides', 'clayey', 'felsic', 'schist', 'qz', 'traces', 'iron', 'oxides', 'slightly', 'clayey', 'felsic', 'schist', 'qz', 'clayey', 'schist', 'qz', 'clayey', 'schist', 'traces', 'veins', 'schist', 'traces', 'fe', 'oxides', 'qz', 'clayey', 'schist', 'clayey', 'schist', 'qz', 'clayey', 'schist', 'qz', 'traces', 'veins', 'schist', 'clayey', 'schist', 'qz', 'traces', 'fe', 'oxides', 'qz', 'clayey', 'schist', 'qz', 'traces', 'fe', 'oxides', 'clayey', 'schist', 'qz', 'traces', 'fe', 'oxides', 'clayey', 'schist', 'qz', 'traces', 'fe', 'oxides', 'clayey', 'schist', 'qz', 'traces', 'fe', 'oxides', 'eoh', 'ql', 'pdykb', 'aeo', 'ogl', 'hesesisch', 'aogb', 'rqz', 'tmph', 'rla', 'mv', 'msp', 'mif', 'qm', 'slb', 'aiz', 'fid', 'iio', 'tranported', 'overburden', 'consolidated', 'sands', 'calcrete', 'slow', 'fizz', 'schist', 'wh', 'kaolin', 'clays', 'schist', 'wh', 'kaolin', 'clays', 'trace', 'gossanous', 'material', 'schist', 'wh', 'kaolin', 'clays', 'gossanous', 'material', 'schist', 'wh', 'kaolin', 'clays', 'gyrd', 'gossanous', 'material', 'qz', 'schist', 'wh', 'kaolin', 'clays', 'gyrd', 'gossanous', 'material', 'qz', 'weathered', 'py', 'crystals', 'schist', 'wh', 'kaolin', 'clays', 'gyrd', 'gossanous', 'material', 'qz', 'weatehred', 'cubic', 'pyrite', 'crystals', 'eoh', 'volc', 'schist', 'bit', 'ferricrete', 'material', 'volc', 'schist', 'clayey', 'traces', 'fe', 'ox', 'volc', 'schist', 'slightly', 'clayey', 'volc', 'schist', 'slightly', 'clayey', 'fe', 'ox', 'volc', 'schist', 'clayey', 'volc', 'schist', 'clayey', 'greenish', 'chips', 'mafic', 'schist', 'chloritized', 'volc', 'schist', 'clayey', 'traces', 'dissem', 'fe', 'ox', 'volc', 'schist', 'clayey', 'kaolinite', 'chips', 'volc', 'schist', 'clayey', 'traces', 'fe', 'ox', 'veining', 'volc', 'schist', 'clayey', 'bit', 'sericitization', 'volc', 'schist', 'clayey', 'sericitization', 'volc', 'schist', 'still', 'bit', 'clayey', 'sericitization', 'traces', 'dissem', 'fe', 'ox', 'volc', 'schist', 'still', 'bit', 'clayey', 'sericitization', 'contaminated', 'shallower', 'rocks', 'volc', 'schist', 'contaminated', 'shallower', 'rocks', 'volc', 'schist', 'contaminated', 'shallower', 'rocks', 'eoh', 'itu', 'rln', 'xso', 'ss', 'asm', 'lmqtz', 'qh', 'qtp', 'lcz', 'transported', 'overburden', 'sandy', 'wh', 'clay', 'qz', 'vein', 'yewh', 'clay', 'clay', 'qz', 'clay', 'qz', 'qz', 'vein', 'mafic', 'schist', 'sandy', 'mafic', 'schist', 'sandy', 'eoh', 'sagv', 'wmb', 'coll', 'pyroxenite', 'ask', 'xbicl', 'czltpn', 'waagb', 'uact', 'ndng', 'qf', 'qf', 'lfp', 'sci', 'bifsipy', 'py', 'boudins', 'bi', 'vnqzbxvn', 'sh', 'cb', 'biclcb', 'ferricrete', 'mostly', 'sandy', 'fe', 'ox', 'coating', 'ye', 'volc', 'schist', 'clayey', 'kaolinite', 'volc', 'schist', 'clayey', 'kaolinite', 'traces', 'veining', 'volc', 'schist', 'clayey', 'kaolinite', 'traces', 'fe', 'ox', 'volc', 'schist', 'clayey', 'kaolinite', 'gossanous', 'material', 'fva', 'mcs', 'olo', 'qtp', 'qld', 'cyso', 'mde', 'mvtpy', 'ssd', 'xhesi', 'rka', 'rlc', 'clsa', 'mbh', 'czlpis', 'lpe', 'asch', 'vqo', 'socl', 'clv', 'limcy', 'cydol', 'cavity', 'aus', 'tx', 'xnose', 'ssh', 'rcys', 'qsi', 'schcl', 'tlmb', 'afpmb', 'zq', 'gvlcy', 'mtm', 'dolbmc', 'alluvial', 'silcreted', 'sand', 'bt', 'clay', 'kaolin', 'clay', 'granite', 'bt', 'clay', 'magnetite', 'bt', 'granite', 'magnetite', 'bt', 'clay', 'granite', 'lp', 'xst', 'rka', 'wsc', 'qzlvt', 'lm', 'qh', 'clb', 'bschclcbbi', 'bschclcb', 'frv', 'mvs', 'oxmb', 'oxmv', 'wf', 'tcs', 'lm', 'abf', 'transported', 'overburden', 'consolidated', 'sands', 'hardpan', 'transported', 'overburden', 'consolidated', 'sands', 'wh', 'kaolin', 'clay', 'transported', 'overburden', 'consolidated', 'sands', 'wh', 'kaolin', 'clay', 'clay', 'kaolin', 'red', 'sandy', 'unit', 'clay', 'kaolin', 'red', 'sandy', 'unit', 'clay', 'kaolin', 'red', 'sandy', 'unit', 'schist', 'gossanous', 'material', 'gossan', 'schist', 'minor', 'gossan', 'schist', 'sandy', 'schist', 'silky', 'schist', 'sandy', 'weathered', 'micas', 'turn', 'golden', 'vuggy', 'porosity', 'schist', 'sandy', 'schist', 'trace', 'gossnaous', 'sand', 'pisoliths', 'nodules', 'clay', 'epidote', 'bt', 'granite', 'iron', 'alt', 'quartz', 'granite', 'gniess', 'bt', 'gniess', 'mtclbif', 'rga', 'lxlp', 'rln', 'lsr', 'usl', 'tcbsap', 'gvlsa', 'lv', 'omd', 'uk', 'sci', 'cla', 'csa', 'fpq', 'fcf', 'fsy', 'mbk', 'qtc', 'uta', 'cd', 'sst', 'mmv', 'nhp', 'bgb', 'bi', 'bgbbi', 'mylonite', 'lks', 'dump', 'rgv', 'bxma', 'ia', 'sc', 'iip', 'transported', 'overburden', 'sands', 'gossanous', 'sandy', 'unit', 'veining', 'minor', 'wh', 'clay', 'gossanous', 'sandy', 'unit', 'veining', 'increased', 'volcanic', 'metamorphosed', 'bright', 'blue', 'volcanic', 'diorite', 'volcanic', 'metamorphosed', 'bright', 'blue', 'volcanic', 'diorite', 'eoh', 'ab', 'au', 'aut', 'mw', 'xlc', 'u', 'dc', 'smqt', 'gqt', 'mqt', 'schclseta', 'lf', 'lf', 'volc', 'schist', 'gossanous', 'chips', 'volc', 'schist', 'fe', 'ox', 'eoh', 'bhlic', 'mtct', 'aci', 'silt', 'fdi', 'mu', 'sr', 'ui', 'qtp', 'qtp', 'lf', 'transported', 'overburden', 'consolidated', 'sand', 'clay', 'minor', 'carb', 'calcrete', 'low', 'reaction', 'fizz', 'hard', 'cm', 'qz', 'grains', 'calcrete', 'vugs', 'weathered', 'qz', 'calcrete', 'wh', 'clay', 'weathered', 'yerd', 'schist', 'schist', 'evident', 'schistosity', 'weathered', 'clay', 'schist', 'often', 'weathered', 'clay', 'musc', 'schist', 'qz', 'increasing', 'wh', 'decreasing', 'red', 'schist', 'qz', 'minor', 'silvergrey', 'musc', 'schist', 'qz', 'schist', 'silicified', 'gossanous', 'chips', 'qz', 'schist', 'trace', 'silicified', 'gossanous', 'chips', 'qz', 'schist', 'qz', 'schist', 'gnye', 'sulph', 'qz', 'wh', 'schist', 'schist', 'minor', 'yellow', 'honey', 'gold', 'muscovite', 'schist', 'minor', 'yellow', 'honey', 'gold', 'muscovite', 'eoh', 'bij', 'xcltc', 'wrlm', 'ls', 'mbsi', 'carbonate', 'calcrete', 'minor', 'rdbr', 'consolidated', 'sands', 'carbonate', 'calcrete', 'whye', 'weathered', 'schist', 'rdwh', 'schist', 'yebr', 'alteration', 'overprint', 'rdwh', 'schist', 'yebr', 'alteration', 'overprint', 'wh', 'schist', 'trace', 'yebr', 'alteration', 'overprint', 'wh', 'schist', 'rd', 'sandy', 'gossanous', 'sed', 'wh', 'schist', 'rd', 'sandy', 'gossanous', 'sed', 'wh', 'schist', 'rd', 'sandy', 'gossanous', 'sed', 'qz', 'wh', 'schist', 'rd', 'sandy', 'gossanous', 'sed', 'qz', 'wh', 'schist', 'rd', 'sandy', 'gossanous', 'sed', 'wh', 'schist', 'rd', 'sandy', 'gossanous', 'sed', 'slight', 'ye', 'weathering', 'wh', 'schist', 'rd', 'sandy', 'gossanous', 'sed', 'slight', 'ye', 'weathering', 'eoh', 'mbutcs', 'banded', 'iron', 'formation', 'heavily', 'weathered', 'banded', 'iron', 'formation', 'moderately', 'weathered', 'shale', 'xmu', 'qzt', 'gv', 'aha', 'uvif', 'ifsr', 'mu', 'mu', 'g', 'fm', 'vnqzspcp', 'dscp', 'dssp', 'qtpf', 'sed', 'lsca', 'dh', 'umc', 'qtc', 'bvclsi', 'bas', 'bre', 'shq', 'bmpy', 'bmcs', 'mkb', 'afv', 'mvf', 'calcrete', 'rd', 'volcanic', 'schist', 'sandy', 'calcrete', 'rd', 'volcanic', 'schist', 'sandy', 'volcanic', 'sandy', 'occasionally', 'hematitic', 'trace', 'calcrete', 'wh', 'schistosity', 'volcanic', 'sandy', 'occasionally', 'hematitic', 'trace', 'calcrete', 'wh', 'schistosity', 'trace', 'qz', 'volcanic', 'weathered', 'ye', 'schist', 'felsic', 'schist', 'waxy', 'rd', 'volcanic', 'transported', 'overburden', 'consolidated', 'sands', 'wh', 'clay', 'clay', 'white', 'minor', 'sands', 'clay', 'white', 'clay', 'clay', 'clay', 'hematitic', 'ironstone', 'clay', 'green', 'hematitic', 'ironstone', 'clay', 'green', 'mafic', 'schist', 'green', 'clay', 'weathered', 'qz', 'trace', 'hematitic', 'ironstone', 'mafic', 'schist', 'green', 'clay', 'weathered', 'qz', 'trace', 'hematitic', 'ironstone', 'eoh', 'calcrete', 'calcrete', 'volc', 'schist', 'clayey', 'kaolinite', 'volc', 'schist', 'fe', 'ox', 'associated', 'wh', 'carb', 'chips', 'volc', 'schist', 'fe', 'ox', 'veins', 'volc', 'schist', 'sericitized', 'chips', 'traces', 'fe', 'ox', 'volc', 'schist', 'sericitized', 'chips', 'traces', 'fe', 'ox', 'volc', 'schist', 'sericitized', 'chips', 'volc', 'schist', 'sericitized', 'volc', 'schist', 'sericitized', 'bit', 'gossanous', 'material', 'volc', 'schist', 'sericitized', 'traces', 'fe', 'ox', 'volc', 'schist', 'sericitized', 'traces', 'fe', 'ox', 'eoh', 'gns', 'altn', 'lm', 'qu', 'lm', 'qs', 'czv', 'ferricrete', 'mostly', 'sandy', 'fe', 'ox', 'coating', 'clay', 'kaolinite', 'volc', 'schist', 'clayey', 'kaolinite', 'fabric', 'clear', 'volc', 'schist', 'fabric', 'clear', 'volc', 'schist', 'traces', 'fe', 'ox', 'veins', 'fabric', 'clear', 'volc', 'schist', 'gossanous', 'material', 'associated', 'qz', 'volc', 'schist', 'gossanous', 'material', 'associated', 'qz', 'eoh', 'sstcy', 'xclgt', 'xclga', 'xclgr', 'mlva', 'hebif', 'aln', 'scl', 'ferricrete', 'mostly', 'sandy', 'bit', 'weatheed', 'whye', 'clayey', 'schist', 'schist', 'clayey', 'schist', 'clayey', 'traces', 'fe', 'oxide', 'schist', 'clayey', 'traces', 'veining', 'specks', 'fe', 'oxide', 'schist', 'clayey', 'veinlets', 'specks', 'fe', 'ox', 'schist', 'clayey', 'veinlets', 'fe', 'ox', 'schist', 'clayey', 'bit', 'fe', 'ox', 'bit', 'qz', 'schist', 'clayey', 'bit', 'fe', 'ox', 'schist', 'clayey', 'sericite', 'schist', 'planes', 'bit', 'fe', 'ox', 'traces', 'py', 'schist', 'clayey', 'sericite', 'schist', 'planes', 'eoh', 'cln', 'wcy', 'transported', 'overburden', 'consolidated', 'sands', 'light', 'gn', 'calcrete', 'schist', 'weathered', 'kaolin', 'clays', 'minor', 'calcrete', 'schist', 'schist', 'ye', 'weathered', 'schist', 'weathered', 'schist', 'qz', 'veins', 'gossanous', 'sands', 'schist', 'qz', 'veins', 'gossanous', 'sands', 'eoh', 'abdp', 'asc', 'schqzclse', 'ferricrete', 'mostly', 'sandy', 'iron', 'coating', 'clay', 'ferricrete', 'mostly', 'sandy', 'iron', 'coating', 'clayey', 'wh', 'fels', 'schist', 'ferricrete', 'mostly', 'sandy', 'iron', 'coating', 'clayey', 'wh', 'fels', 'schist', 'felsic', 'schist', 'traces', 'veining', 'wh', 'clay', 'felsic', 'schist', 'wh', 'clay', 'felsic', 'schist', 'wh', 'clay', 'felsic', 'schist', 'wh', 'clay', 'traces', 'fe', 'oxides', 'felsic', 'schist', 'whpu', 'clay', 'traces', 'fe', 'oxides', 'gossanous', 'zone', 'lightly', 'porous', 'qz', 'felsic', 'schist', 'lightly', 'gossanous', 'zone', 'schist', 'schist', 'clayey', 'clay', 'traces', 'fe', 'oxides', 'schist', 'clayey', 'clay', 'traces', 'fe', 'oxides', 'schist', 'clayey', 'clay', 'traces', 'fe', 'oxides', 'schist', 'traces', 'clay', 'traces', 'fe', 'oxides', 'increase', 'schist', 'clayey', 'schist', 'clayey', 'schist', 'clayey', 'qz', 'traces', 'fe', 'oxides', 'schist', 'clayey', 'schist', 'clayey', 'qz', 'traces', 'fe', 'oxides', 'schist', 'clayey', 'bit', 'gossanous', 'schist', 'clayey', 'traces', 'fe', 'ox', 'schist', 'clayey', 'gossanous', 'zone', 'remants', 'sulphide', 'veining', 'wekaly', 'porous', 'schist', 'clayey', 'qz', 'traces', 'fe', 'ox', 'schist', 'clayey', 'traces', 'fe', 'ox', 'lightly', 'gossanous', 'schist', 'clayey', 'traces', 'fe', 'ox', 'lightly', 'gossanous', 'bit', 'qz', 'eoh', 'ferricrete', 'volc', 'schist', 'clayey', 'ucs', 'cfl', 'bmh', 'ctshl', 'bmsshl', 'qts', 'qvcl', 'aschsi', 'mdp', 'mbs', 'pdd', 'mn', 'agp', 'pcg', 'mhn', 'lpy', 'xhe', 'tmmy', 'ncy', 'lm', 'clay', 'blue', 'sandy', 'sediment', 'clay', 'trace', 'blue', 'sandy', 'sediment', 'schist', 'felsic', 'volcanic', 'wh', 'clay', 'schist', 'felsic', 'volcanic', 'trace', 'wh', 'clay', 'schist', 'felsic', 'volcanic', 'schist', 'schist', 'eoh', 'aup', 'heqzbif', 'qh', 'qcp', 'qtp', 'frd', 'u', 'gra', 'qc', 'ls', 'transported', 'overburden', 'consolidated', 'sands', 'gnwh', 'clay', 'clay', 'transported', 'overburden', 'schist', 'weathered', 'clay', 'schist', 'golden', 'schist', 'golden', 'eoh', 'lsbv', 'sed', 'dol', 'sed', 'mrk', 'sed', 'po', 'pdy', 'itaf', 'xlp', 'id', 'fqz']\n"
     ]
    }
   ],
   "source": [
    "test = open('../data/testdata.csv', 'r')\n",
    "tokenize_list=tokenize(test, min_len=1)\n",
    "tokenize_and_lemma_list=tokenize_and_lemma(test, min_len=1)\n",
    "print(tokenize_list)"
   ]
  },
  {
   "cell_type": "code",
   "execution_count": 18,
   "metadata": {},
   "outputs": [],
   "source": [
    "def get_vector(word, model, return_zero=False):\n",
    "    '''Function that retrieves word embeddings (vector)\n",
    "    Inputs:\n",
    "        -word: token (string)\n",
    "        -model: trained MLP model\n",
    "        -return_zero: boolean variable\n",
    "    Outputs:\n",
    "        -wv: numpy array (vector)'''\n",
    "    epsilon = 1.e-10\n",
    "\n",
    "    unk_idx = model.dictionary['unk']\n",
    "    idx = model.dictionary.get(word, unk_idx)\n",
    "    wv = model.word_vectors[idx].copy()\n",
    "\n",
    "    if return_zero and word not in model.dictionary:\n",
    "        n_comp = model.word_vectors.shape[1]\n",
    "        wv = np.zeros(n_comp) + epsilon\n",
    "\n",
    "    return wv"
   ]
  },
  {
   "cell_type": "code",
   "execution_count": null,
   "metadata": {},
   "outputs": [],
   "source": [
    "def mean_embeddings(dataframe_file, model):\n",
    "    '''Function to retrieve sentence embeddings from dataframe with\n",
    "    lithological descriptions.\n",
    "    Inputs:\n",
    "        -dataframe_file: pandas dataframe containing lithological descriptions\n",
    "                         and reclassified lithologies\n",
    "        -model: word embeddings model generated using GloVe\n",
    "    Outputs:\n",
    "        -DF: pandas dataframe including sentence embeddings'''\n",
    "    DF = pd.read_pickle(dataframe_file)\n",
    "    DF = DF.drop_duplicates(subset=['x', 'y', 'z'])\n",
    "    DF['tokens'] = DF['Description'].apply(lambda x: tokenize_and_lemma(x))\n",
    "    DF['length'] = DF['tokens'].apply(lambda x: len(x))\n",
    "    DF = DF[DF.length > 0]\n",
    "    DF['vectors'] = DF['tokens'].apply(lambda x: np.asarray([get_vector(n, model) for n in x]))\n",
    "    DF['mean'] = DF['vectors'].apply(lambda x: np.mean(x[~np.all(x == 1.e-10, axis=1)], axis=0))\n",
    "    DF['reclass'] = pd.Categorical(DF.reclass)\n",
    "    DF['code'] = DF.reclass.cat.codes\n",
    "    DF['drop'] = DF['mean'].apply(lambda x: (~np.isnan(x).any()))\n",
    "    DF = DF[DF['drop']]\n",
    "    return DF"
   ]
  },
  {
   "cell_type": "code",
   "execution_count": null,
   "metadata": {},
   "outputs": [],
   "source": [
    "def split_stratified_dataset(Dataframe, test_size, validation_size):\n",
    "    '''Function that split dataset into test, training and validation subsets\n",
    "    Inputs:\n",
    "        -Dataframe: pandas dataframe with sentence mean_embeddings\n",
    "        -test_size: decimal number to generate the test subset\n",
    "        -validation_size: decimal number to generate the validation subset\n",
    "    Outputs:\n",
    "        -X: numpy array with embeddings\n",
    "        -Y: numpy array with lithological classes\n",
    "        -X_test: numpy array with embeddings for test subset\n",
    "        -Y_test: numpy array with lithological classes for test subset\n",
    "        -Xt: numpy array with embeddings for training subset\n",
    "        -yt: numpy array with lithological classes for training subset\n",
    "        -Xv: numpy array with embeddings for validation subset\n",
    "        -yv: numpy array with lithological classes for validation subset\n",
    "        '''\n",
    "    X = np.vstack(Dataframe['mean'].values)\n",
    "    Y = Dataframe.code.values.reshape(len(Dataframe.code), 1)\n",
    "    X_train, X_test, y_train, y_test = train_test_split(X,\n",
    "                                                        Y,\n",
    "                                                        test_size=test_size,\n",
    "                                                        stratify=Y,\n",
    "                                                        random_state=42)\n",
    "    Xt, Xv, yt, yv = train_test_split(X_train,\n",
    "                                      y_train,\n",
    "                                      test_size=validation_size,\n",
    "                                      stratify=None,\n",
    "                                      random_state=1)\n",
    "    return X, Y, X_test, y_test, Xt, yt, Xv, yv\n",
    "\n",
    "\n",
    "def retrieve_predictions(classifier, x):\n",
    "    '''Function that retrieves lithological classes using the trained classifier\n",
    "    Inputs:\n",
    "        -classifier: trained MLP classifier\n",
    "        -x: numpy array containing embbedings\n",
    "    Outputs:\n",
    "        -codes_pred: numpy array containing lithological classes predicted'''\n",
    "    preds = classifier.predict(x, verbose=0)\n",
    "    new_onehot = np.zeros((x.shape[0], 18))\n",
    "    new_onehot[np.arange(len(preds)), preds.argmax(axis=1)] = 1\n",
    "    codes_pred = one_enc.inverse_transform(new_onehot)\n",
    "    return codes_pred\n",
    "\n",
    "\n",
    "def classifier_assess(classifier, x, y):\n",
    "    '''Function that prints the performance of the classifier\n",
    "    Inputs:\n",
    "        -classifier: trained MLP classifier\n",
    "        -x: numpy array with embeddings\n",
    "        -y: numpy array with lithological classes predicted'''\n",
    "    Y2 = retrieve_predictions(classifier, x)\n",
    "    print('f1 score: ', metrics.f1_score(y, Y2, average='macro'),\n",
    "          'accuracy: ', metrics.accuracy_score(y, Y2),\n",
    "          'balanced_accuracy:', metrics.balanced_accuracy_score(y, Y2))\n",
    "\n",
    "\n",
    "def save_predictions(Dataframe, classifier, x, name):\n",
    "    '''Function that saves dataframe predictions as a pickle file\n",
    "    Inputs:\n",
    "        -Dataframe: pandas dataframe with mean_embeddings\n",
    "        -classifier: trained MLP model,\n",
    "        -x: numpy array with embeddings,\n",
    "        -name: string name to save dataframe\n",
    "    Outputs:\n",
    "        -save dataframe'''\n",
    "    preds = classifier.predict(x, verbose=0)\n",
    "    Dataframe['predicted_probabilities'] = preds.tolist()\n",
    "    Dataframe['pred'] = retrieve_predictions(classifier, x).astype(np.int32)\n",
    "    Dataframe[['x', 'y', 'FromDepth', 'ToDepth', 'TopElev', 'BottomElev',\n",
    "               'mean', 'predicted_probabilities', 'pred', 'reclass', 'code']].to_pickle('{}.pkl'.format(name))"
   ]
  },
  {
   "cell_type": "code",
   "execution_count": null,
   "metadata": {},
   "outputs": [],
   "source": [
    "# loading word embeddings model\n",
    "# (This can be obtained from https://github.com/spadarian/GeoVec )\n",
    "modelEmb = Glove.load('/home/ignacio/Documents/chapter2/best_glove_300_317413_w10_lemma.pkl')\n",
    "\n",
    "# getting the mean embeddings of descriptions\n",
    "DF = mean_embeddings('manualTest.pkl', modelEmb)\n",
    "\n",
    "# subseting dataset for training classifier\n",
    "X, Y, X_test, Y_test, X_train, Y_train, X_validation, Y_validation = split_stratified_dataset(DF, 0.1, 0.1)\n",
    "\n",
    "# encoding lithological classes\n",
    "encodes = one_enc.fit_transform(Y_train).toarray()\n",
    "\n",
    "# MLP model generation\n",
    "model = Sequential()\n",
    "model.add(Dense(100, input_dim=300, activation='relu'))\n",
    "model.add(Dense(100, activation='relu'))\n",
    "model.add(Dense(100, activation='relu'))\n",
    "model.add(Dense(units=len(DF.code.unique()), activation='softmax'))\n",
    "model.compile(loss='categorical_crossentropy',\n",
    "              optimizer='adam',\n",
    "              metrics=['accuracy'])\n",
    "\n",
    "# training MLP model\n",
    "model.fit(X_train, encodes, epochs=30, batch_size=100, verbose=2)\n",
    "\n",
    "# saving MLP model\n",
    "model.save('mlp_prob_model.h5')\n",
    "\n",
    "# assessment of model performance\n",
    "classifier_assess(model, X_validation, Y_validation)\n",
    "\n",
    "# save lithological prediction likelihoods dataframe\n",
    "save_predictions(DF, model, X, 'NSWpredictions')"
   ]
  },
  {
   "cell_type": "markdown",
   "metadata": {},
   "source": [
    "## Exporting Collar Data"
   ]
  },
  {
   "cell_type": "code",
   "execution_count": 12,
   "metadata": {
    "ExecuteTime": {
     "end_time": "2020-02-27T03:31:01.074765Z",
     "start_time": "2020-02-27T03:31:01.015229Z"
    },
    "scrolled": false
   },
   "outputs": [
    {
     "name": "stdout",
     "output_type": "stream",
     "text": [
      "    CollarID                    HoleId Longitude  Latitude       RL MaxDepth  \\\n",
      "0    1146528  71288Minjar NorthSSDD008   116.947  -28.9021  356.255    546.4   \n",
      "1    1146530  71288Minjar NorthSSDD010   116.949  -28.9083  356.871    405.0   \n",
      "2    1146531  71288Minjar NorthSSDD011   116.948  -28.9002  360.214    249.0   \n",
      "3    1146650  71288Minjar NorthSSDD005   116.948  -28.9002  357.153    468.0   \n",
      "4    1233095        82655KararaBHN1001   116.818  -29.1504  357.156      150   \n",
      "..       ...                       ...       ...       ...      ...      ...   \n",
      "127   931216         79530KararaLSC016   117.148   -29.426  315.535      124   \n",
      "128   931217         79530KararaLSC017   117.144  -29.4045  361.603      158   \n",
      "129   931218         79530KararaLSC018   117.151  -29.4335  323.052      136   \n",
      "130   931219         79530KararaLSD006   117.153  -29.4336  365.334      248   \n",
      "131   931220         79530KararaLSD007   117.151  -29.4405  368.845    260.7   \n",
      "\n",
      "                 X             Y  \n",
      "0    494832.946487  6.802860e+06  \n",
      "1    495028.225204  6.802173e+06  \n",
      "2    494930.345746  6.803070e+06  \n",
      "3    494930.345746  6.803070e+06  \n",
      "4    482298.918542  6.775337e+06  \n",
      "..             ...           ...  \n",
      "127  514355.695351  6.744807e+06  \n",
      "128  513970.643608  6.747189e+06  \n",
      "129  514645.613436  6.743975e+06  \n",
      "130  514839.580770  6.743964e+06  \n",
      "131  514644.608861  6.743200e+06  \n",
      "\n",
      "[132 rows x 8 columns]\n"
     ]
    }
   ],
   "source": [
    "collar= pd.read_csv(collar_file,encoding = \"ISO-8859-1\", dtype='object')\n",
    "collarattr= pd.read_csv(collarattr_file,encoding = \"ISO-8859-1\", dtype='object')\n",
    "rl_maxdepth_dic= pd.read_csv(rl_maxdepth_dic_file,encoding = \"ISO-8859-1\", dtype='object')\n",
    "dh2l.collar_attr_col_dic(rl_maxdepth_dic_file)\n",
    "dh2l.collar_collarattr_final(collar_file, collarattr_file, rl_maxdepth_dic_file, DB_Collar_Export)\n",
    "DB_Collar_Export_table=pd.read_csv(DB_Collar_Export,encoding = \"ISO-8859-1\", dtype='object')\n",
    "DB_Collar_Export_table= DB_Collar_Export_table.loc[:, ~DB_Collar_Export_table.columns.str.contains('^Unnamed')]\n",
    "DB_Collar_Export_table[['X','Y']] = DB_Collar_Export_table.apply(dh2l.convert_coords,axis=1)\n",
    "DB_Collar_Export_table.to_csv(DB_Collar_Export)\n",
    "print(DB_Collar_Export_table)"
   ]
  },
  {
   "cell_type": "markdown",
   "metadata": {},
   "source": [
    "## Exporting Survey Data"
   ]
  },
  {
   "cell_type": "code",
   "execution_count": 13,
   "metadata": {
    "ExecuteTime": {
     "end_time": "2020-02-27T03:31:03.696297Z",
     "start_time": "2020-02-27T03:31:03.663114Z"
    },
    "scrolled": true
   },
   "outputs": [
    {
     "name": "stdout",
     "output_type": "stream",
     "text": [
      "     CollarID       Depth     Azimuth         Dip Index              X  \\\n",
      "0      153802    0.000000   90.000000  -50.000000     2  495028.106029   \n",
      "1      153802    0.000000   90.000000  -50.000000     2  494917.618977   \n",
      "2      153803    0.000000   90.000000  -55.000000     4  495028.106029   \n",
      "3      153803    0.000000   90.000000  -55.000000     4  494906.041567   \n",
      "4      153804    0.000000   90.000000  -60.000000     6  495028.106029   \n",
      "...       ...         ...         ...         ...   ...            ...   \n",
      "1345  1233228  140.000000  137.400000  -90.000000  1339  482677.460027   \n",
      "1346  1233228  160.000000  137.800000  -90.000000  1339  482663.948285   \n",
      "1347  1233228  180.000000  137.200000  -90.000000  1339  482650.372272   \n",
      "1348  1233228  200.000000  137.300000  -90.000000  1339  482636.821912   \n",
      "1349  1233228  220.000000  137.400000  -90.000000  1339  482630.053152   \n",
      "\n",
      "                   Y           Z  \n",
      "0     6802449.793954  390.166000  \n",
      "1     6802449.793954  349.952002  \n",
      "2     6802449.793954  359.251000  \n",
      "3     6802449.793954  320.764223  \n",
      "4     6802449.793954  359.132000  \n",
      "...              ...         ...  \n",
      "1345  6775654.582516  364.772524  \n",
      "1346  6775669.327996  364.772524  \n",
      "1347  6775684.014444  364.772524  \n",
      "1348  6775698.724565  364.772524  \n",
      "1349  6775706.085535  364.772524  \n",
      "\n",
      "[1350 rows x 8 columns]\n"
     ]
    }
   ],
   "source": [
    "dhsurvey= pd.read_csv(dhsurvey_file,encoding = \"ISO-8859-1\", dtype='object')\n",
    "dhsurveyattr= pd.read_csv(dhsurveyattr_file,encoding = \"ISO-8859-1\", dtype='object')\n",
    "survey_dic= pd.read_csv(survey_dic_file,encoding = \"ISO-8859-1\", dtype='object')\n",
    "dh2l.survey_attr_col_dic(survey_dic_file)\n",
    "dh2l.survey_final(dhsurvey_file,dhsurveyattr_file, DB_Survey_Export)\n",
    "dhsurvey= pd.read_csv(DB_Survey_Export,encoding = \"ISO-8859-1\", dtype='object')\n",
    "dhsurvey= dhsurvey.loc[:, ~dhsurvey.columns.str.contains('^Unnamed')]\n",
    "dh2l.convert_survey(DB_Collar_Export,DB_Survey_Export, DB_Survey_Export_Calc)\n",
    "dhsurvey_calc= pd.read_csv(DB_Survey_Export_Calc,encoding = \"ISO-8859-1\", dtype='object')\n",
    "dhsurvey_calc.dropna()\n",
    "dhsurvey_calc= dhsurvey_calc.loc[:, ~dhsurvey_calc.columns.str.contains('^Unnamed')]\n",
    "print(dhsurvey_calc)"
   ]
  },
  {
   "cell_type": "markdown",
   "metadata": {},
   "source": [
    "## Exporting Lithology Data"
   ]
  },
  {
   "cell_type": "code",
   "execution_count": null,
   "metadata": {},
   "outputs": [],
   "source": [
    "dhgeology= pd.read_csv(dhgeology_file,encoding = \"ISO-8859-1\", dtype='object')\n",
    "dhgeologyattr= pd.read_csv(dhgeologyattr_file,encoding = \"ISO-8859-1\", dtype='object')\n",
    "dh2l.litho_attr_val_dic(dic_attr_val_lithology_file)\n",
    "dh2l.litho_dico (litho_dic_file)\n",
    "dh2l.clean_up (cleanup_lithology_file)\n",
    "dh2l.litho_attr_val_with_fuzzy (CET_Litho)\n",
    "dh2l.litho_final (collar_file, dhgeology_file, dhgeologyattr_file, dic_attr_col_lithology_file, CET_Litho, DB_Lithology_Export)\n",
    "dic_att_col_lithology=pd.read_csv(dic_attr_col_lithology_file,encoding = \"ISO-8859-1\", dtype='object')\n",
    "dic_attr_val_lithology=pd.read_csv(dic_attr_val_lithology_file,encoding = \"ISO-8859-1\", dtype='object')\n",
    "cleanup_lithology=pd.read_csv(cleanup_lithology_file,encoding = \"ISO-8859-1\", dtype='object')\n",
    "lithology_thesaurus=pd.read_csv(litho_dic_file,encoding = \"ISO-8859-1\", dtype='object')\n",
    "DB_Lithology_Export_View=pd.read_csv(DB_Lithology_Export,encoding = \"ISO-8859-1\", dtype='object')\n",
    "print(DB_Lithology_Export_View)"
   ]
  },
  {
   "cell_type": "markdown",
   "metadata": {},
   "source": [
    "## Upscaling Lithology Data"
   ]
  },
  {
   "cell_type": "markdown",
   "metadata": {},
   "source": [
    "In order to link and upscale the drillhole information, a <b> hierarchical thesaurus (Thesaurus 4) </b> was also built. The dictionary involved three levels that would upscale a list of 757 rock names to more general rock groups."
   ]
  },
  {
   "cell_type": "code",
   "execution_count": null,
   "metadata": {
    "scrolled": false
   },
   "outputs": [],
   "source": [
    "CET_hierarchy_dico = pd.read_csv(CET_hierarchy_dico_file,encoding = \"ISO-8859-1\")"
   ]
  },
  {
   "cell_type": "code",
   "execution_count": null,
   "metadata": {
    "scrolled": true
   },
   "outputs": [],
   "source": [
    "dh2l.upscale_litho (DB_Lithology_Export, CET_hierarchy_dico_file, DB_Lithology_Upscaled)\n",
    "Upscaled_Litho= pd.read_csv(DB_Lithology_Upscaled,encoding = \"ISO-8859-1\")\n",
    "Upscaled_Litho.head()"
   ]
  },
  {
   "cell_type": "code",
   "execution_count": null,
   "metadata": {
    "scrolled": true
   },
   "outputs": [],
   "source": [
    "Upscaled_Litho[Upscaled_Litho['Level_1'] == \"igneous\"]"
   ]
  },
  {
   "cell_type": "code",
   "execution_count": null,
   "metadata": {},
   "outputs": [],
   "source": [
    "Upscaled_Litho[Upscaled_Litho['Level_2'] == \"ore\"]"
   ]
  },
  {
   "cell_type": "code",
   "execution_count": null,
   "metadata": {
    "scrolled": true
   },
   "outputs": [],
   "source": [
    "Upscaled_Litho[Upscaled_Litho['CET_Litho'] == \"granodiorite\"]"
   ]
  },
  {
   "cell_type": "markdown",
   "metadata": {},
   "source": [
    "Let's also calculate for the X,Y,Z coordinates for FromDepth, ToDepth and its midpoint."
   ]
  },
  {
   "cell_type": "code",
   "execution_count": null,
   "metadata": {
    "scrolled": true
   },
   "outputs": [],
   "source": [
    "dh2l.convert_lithology(DB_Collar_Export, DB_Survey_Export, DB_Lithology_Upscaled, DB_Lithology_Export_Calc)\n",
    "DB_Lithology_Export_Calculated=pd.read_csv(DB_Lithology_Export_Calc)\n",
    "print(DB_Lithology_Export_Calculated)"
   ]
  },
  {
   "cell_type": "markdown",
   "metadata": {},
   "source": [
    "## Export to VTK"
   ]
  },
  {
   "cell_type": "code",
   "execution_count": null,
   "metadata": {
    "scrolled": true
   },
   "outputs": [],
   "source": [
    "dh2l.intervals2vtk(DB_Lithology_Export_Calc, DB_Lithology_Export_VTK)"
   ]
  },
  {
   "cell_type": "markdown",
   "metadata": {},
   "source": [
    "<img src='./graphics/vtk.png'>"
   ]
  },
  {
   "cell_type": "markdown",
   "metadata": {},
   "source": [
    "Open Paraview to view the VTK files and have some fun!<br>\n",
    "The VTK file output is at \\dh2loop\\data\\export\\DB_Lithology_Export.vtp"
   ]
  }
 ],
 "metadata": {
  "hide_input": false,
  "kernelspec": {
   "display_name": "Python 3",
   "language": "python",
   "name": "python3"
  },
  "language_info": {
   "codemirror_mode": {
    "name": "ipython",
    "version": 3
   },
   "file_extension": ".py",
   "mimetype": "text/x-python",
   "name": "python",
   "nbconvert_exporter": "python",
   "pygments_lexer": "ipython3",
   "version": "3.6.10"
  }
 },
 "nbformat": 4,
 "nbformat_minor": 2
}
