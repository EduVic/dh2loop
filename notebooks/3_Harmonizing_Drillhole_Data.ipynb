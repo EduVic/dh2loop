{
 "cells": [
  {
   "cell_type": "code",
   "execution_count": 3,
   "metadata": {},
   "outputs": [],
   "source": [
    "import pandas as pd\n",
    "import numpy as np\n",
    "import csv\n",
    "from dh2loop import dh2l\n",
    "import psycopg2"
   ]
  },
  {
   "cell_type": "code",
   "execution_count": 4,
   "metadata": {},
   "outputs": [
    {
     "name": "stdout",
     "output_type": "stream",
     "text": [
      "Default parameters loaded from dh2l_config.py:\n",
      "#Database Files\n",
      "data_path='../data/'\n",
      "wamex_path='../data/wamex/'\n",
      "collar_file=wamex_path+'collar.csv'\n",
      "collarattr_file=wamex_path+'collarattr.csv'\n",
      "dhsurvey_file=wamex_path+'dhsurvey.csv'\n",
      "dhsurveyattr_file=wamex_path+'dhsurveyattr.csv'\n",
      "dhgeology_file=wamex_path+'dhgeology.csv'\n",
      "dhgeologyattr_file=wamex_path+'dhgeologyattr.csv'\n",
      "\n",
      "#Thesauri\n",
      "rl_maxdepth_dic_file= wamex_path+'rl_maxdepth_dic.csv'\n",
      "survey_dic_file=wamex_path+'survey_dic.csv'\n",
      "dic_attr_col_lithology_file=wamex_path+'dic_att_col_lithology.csv'\n",
      "dic_attr_val_lithology_file=wamex_path+'dic_attr_val_lithology_filter.csv'\n",
      "cleanup_lithology_file=wamex_path+'cleanup_lithology.csv'\n",
      "litho_dic_file=wamex_path+'litho_dic_1.csv'\n",
      "CET_hierarchy_dico_file=wamex_path+'hierarchy_dico.csv'\n",
      "\n",
      "#ExportFiles\n",
      "export_path='../data/export/'\n",
      "DB_Collar_Export=export_path+'DB_Collar_Export.csv'\n",
      "DB_Survey_Export=export_path+'DB_Survey_Export.csv'\n",
      "DB_Survey_Export_Calc=export_path+'DB_Survey_Export_Calc.csv'\n",
      "CET_Litho=export_path+'CET_Litho.csv'\n",
      "DB_Lithology_Export=export_path+'DB_Lithology_Export.csv'\n",
      "DB_Lithology_Export_Backup=export_path+'DB_Lithology_Export_Backup.csv'\n",
      "DB_Lithology_Upscaled=export_path+'DB_Lithology_Upscaled.csv'\n",
      "DB_Lithology_Export_Calc=export_path+'DB_Lithology_Export_Calc.csv'\n",
      "DB_Lithology_Export_VTK=export_path+'DB_Lithology_Export.vtp'\n",
      "\n",
      "\n",
      "#Shapefiles\n",
      "shapefile_path='../data/shapefile/'\n",
      "geology=shapefile_path+'500K_interpgeol16_yalgoo_singleton.shp'\n",
      "\n",
      "#Projections\n",
      "src_crs = {'init': 'EPSG:4326'}  # coordinate reference system for imported dtms (geodetic lat/long WGS84)\n",
      "dst_crs = {'init': 'EPSG:28350'} # coordinate system for data\n",
      "\n",
      "print('Default parameters loaded from dh2l_config.py:')\n",
      "with open('../notebooks/dh2l_config.py', 'r') as myfile:\n",
      "  data = myfile.read()\n",
      "  print(data)\n",
      "  myfile.close()\n",
      "print('\\nModify these parameters in the cell below')\n",
      "\n",
      "Modify these parameters in the cell below\n"
     ]
    }
   ],
   "source": [
    "%run -i \"dh2l_config.py\""
   ]
  },
  {
   "cell_type": "markdown",
   "metadata": {},
   "source": [
    "## Geology"
   ]
  },
  {
   "cell_type": "code",
   "execution_count": 5,
   "metadata": {
    "scrolled": true
   },
   "outputs": [
    {
     "data": {
      "text/html": [
       "<div>\n",
       "<style scoped>\n",
       "    .dataframe tbody tr th:only-of-type {\n",
       "        vertical-align: middle;\n",
       "    }\n",
       "\n",
       "    .dataframe tbody tr th {\n",
       "        vertical-align: top;\n",
       "    }\n",
       "\n",
       "    .dataframe thead th {\n",
       "        text-align: right;\n",
       "    }\n",
       "</style>\n",
       "<table border=\"1\" class=\"dataframe\">\n",
       "  <thead>\n",
       "    <tr style=\"text-align: right;\">\n",
       "      <th></th>\n",
       "      <th>Unnamed: 0</th>\n",
       "      <th>Company_ID</th>\n",
       "      <th>collarid</th>\n",
       "      <th>fromdepth</th>\n",
       "      <th>todepth</th>\n",
       "      <th>Company_LithoCode</th>\n",
       "      <th>Company_Litho</th>\n",
       "      <th>comp lithology</th>\n",
       "      <th>Score</th>\n",
       "      <th>Level_3</th>\n",
       "      <th>...</th>\n",
       "      <th>xbt</th>\n",
       "      <th>ybt</th>\n",
       "      <th>zbt</th>\n",
       "      <th>xmt</th>\n",
       "      <th>ymt</th>\n",
       "      <th>zmt</th>\n",
       "      <th>xet</th>\n",
       "      <th>yet</th>\n",
       "      <th>zet</th>\n",
       "      <th>Unnamed: 20</th>\n",
       "    </tr>\n",
       "  </thead>\n",
       "  <tbody>\n",
       "    <tr>\n",
       "      <td>0</td>\n",
       "      <td>36</td>\n",
       "      <td>3050</td>\n",
       "      <td>548917</td>\n",
       "      <td>0.0</td>\n",
       "      <td>19.0</td>\n",
       "      <td>Fgd</td>\n",
       "      <td>granodiorite</td>\n",
       "      <td>granodiorite</td>\n",
       "      <td>101</td>\n",
       "      <td>granodiorite</td>\n",
       "      <td>...</td>\n",
       "      <td>514164.694405</td>\n",
       "      <td>6.747200e+06</td>\n",
       "      <td>331.316000</td>\n",
       "      <td>514168.725634</td>\n",
       "      <td>6.747200e+06</td>\n",
       "      <td>322.722624</td>\n",
       "      <td>514170.979020</td>\n",
       "      <td>6.747200e+06</td>\n",
       "      <td>313.520157</td>\n",
       "      <td>NaN</td>\n",
       "    </tr>\n",
       "    <tr>\n",
       "      <td>1</td>\n",
       "      <td>37</td>\n",
       "      <td>3050</td>\n",
       "      <td>548917</td>\n",
       "      <td>19.0</td>\n",
       "      <td>27.0</td>\n",
       "      <td>Fgd</td>\n",
       "      <td>granodiorite</td>\n",
       "      <td>granodiorite</td>\n",
       "      <td>101</td>\n",
       "      <td>granodiorite</td>\n",
       "      <td>...</td>\n",
       "      <td>514170.979020</td>\n",
       "      <td>6.747200e+06</td>\n",
       "      <td>313.520157</td>\n",
       "      <td>514171.204428</td>\n",
       "      <td>6.747200e+06</td>\n",
       "      <td>309.528639</td>\n",
       "      <td>514171.204428</td>\n",
       "      <td>6.747200e+06</td>\n",
       "      <td>305.528639</td>\n",
       "      <td>NaN</td>\n",
       "    </tr>\n",
       "    <tr>\n",
       "      <td>2</td>\n",
       "      <td>38</td>\n",
       "      <td>3050</td>\n",
       "      <td>548917</td>\n",
       "      <td>27.0</td>\n",
       "      <td>31.0</td>\n",
       "      <td>Fgd</td>\n",
       "      <td>granodiorite</td>\n",
       "      <td>granodiorite</td>\n",
       "      <td>101</td>\n",
       "      <td>granodiorite</td>\n",
       "      <td>...</td>\n",
       "      <td>514171.204428</td>\n",
       "      <td>6.747200e+06</td>\n",
       "      <td>305.528639</td>\n",
       "      <td>514171.204428</td>\n",
       "      <td>6.747200e+06</td>\n",
       "      <td>303.528639</td>\n",
       "      <td>514171.204428</td>\n",
       "      <td>6.747200e+06</td>\n",
       "      <td>301.528639</td>\n",
       "      <td>NaN</td>\n",
       "    </tr>\n",
       "    <tr>\n",
       "      <td>3</td>\n",
       "      <td>39</td>\n",
       "      <td>3050</td>\n",
       "      <td>548917</td>\n",
       "      <td>31.0</td>\n",
       "      <td>39.0</td>\n",
       "      <td>Fgd</td>\n",
       "      <td>granodiorite</td>\n",
       "      <td>granodiorite</td>\n",
       "      <td>101</td>\n",
       "      <td>granodiorite</td>\n",
       "      <td>...</td>\n",
       "      <td>514171.204428</td>\n",
       "      <td>6.747200e+06</td>\n",
       "      <td>301.528639</td>\n",
       "      <td>514171.204428</td>\n",
       "      <td>6.747200e+06</td>\n",
       "      <td>297.528639</td>\n",
       "      <td>514171.204428</td>\n",
       "      <td>6.747200e+06</td>\n",
       "      <td>293.528639</td>\n",
       "      <td>NaN</td>\n",
       "    </tr>\n",
       "    <tr>\n",
       "      <td>4</td>\n",
       "      <td>40</td>\n",
       "      <td>3050</td>\n",
       "      <td>548917</td>\n",
       "      <td>39.0</td>\n",
       "      <td>41.0</td>\n",
       "      <td>Fgd</td>\n",
       "      <td>granodiorite</td>\n",
       "      <td>granodiorite</td>\n",
       "      <td>101</td>\n",
       "      <td>granodiorite</td>\n",
       "      <td>...</td>\n",
       "      <td>514171.204428</td>\n",
       "      <td>6.747200e+06</td>\n",
       "      <td>293.528639</td>\n",
       "      <td>514171.204428</td>\n",
       "      <td>6.747200e+06</td>\n",
       "      <td>292.528639</td>\n",
       "      <td>514171.204428</td>\n",
       "      <td>6.747200e+06</td>\n",
       "      <td>291.528639</td>\n",
       "      <td>NaN</td>\n",
       "    </tr>\n",
       "  </tbody>\n",
       "</table>\n",
       "<p>5 rows × 22 columns</p>\n",
       "</div>"
      ],
      "text/plain": [
       "   Unnamed: 0  Company_ID  collarid  fromdepth  todepth Company_LithoCode  \\\n",
       "0          36        3050    548917        0.0     19.0               Fgd   \n",
       "1          37        3050    548917       19.0     27.0               Fgd   \n",
       "2          38        3050    548917       27.0     31.0               Fgd   \n",
       "3          39        3050    548917       31.0     39.0               Fgd   \n",
       "4          40        3050    548917       39.0     41.0               Fgd   \n",
       "\n",
       "  Company_Litho comp lithology  Score       Level_3  ...            xbt  \\\n",
       "0  granodiorite   granodiorite    101  granodiorite  ...  514164.694405   \n",
       "1  granodiorite   granodiorite    101  granodiorite  ...  514170.979020   \n",
       "2  granodiorite   granodiorite    101  granodiorite  ...  514171.204428   \n",
       "3  granodiorite   granodiorite    101  granodiorite  ...  514171.204428   \n",
       "4  granodiorite   granodiorite    101  granodiorite  ...  514171.204428   \n",
       "\n",
       "            ybt         zbt            xmt           ymt         zmt  \\\n",
       "0  6.747200e+06  331.316000  514168.725634  6.747200e+06  322.722624   \n",
       "1  6.747200e+06  313.520157  514171.204428  6.747200e+06  309.528639   \n",
       "2  6.747200e+06  305.528639  514171.204428  6.747200e+06  303.528639   \n",
       "3  6.747200e+06  301.528639  514171.204428  6.747200e+06  297.528639   \n",
       "4  6.747200e+06  293.528639  514171.204428  6.747200e+06  292.528639   \n",
       "\n",
       "             xet           yet         zet  Unnamed: 20  \n",
       "0  514170.979020  6.747200e+06  313.520157          NaN  \n",
       "1  514171.204428  6.747200e+06  305.528639          NaN  \n",
       "2  514171.204428  6.747200e+06  301.528639          NaN  \n",
       "3  514171.204428  6.747200e+06  293.528639          NaN  \n",
       "4  514171.204428  6.747200e+06  291.528639          NaN  \n",
       "\n",
       "[5 rows x 22 columns]"
      ]
     },
     "execution_count": 5,
     "metadata": {},
     "output_type": "execute_result"
    }
   ],
   "source": [
    "geology=pd.read_csv (DB_Lithology_Export_Calc)\n",
    "geology=geology.rename(columns={\"CollarID\": \"collarid\", \"FromDepth\": \"fromdepth\", \"ToDepth\": \"todepth\", \"CET_Litho\":\"comp lithology\"})\n",
    "geology['collarid'] = geology['collarid'].astype(int)\n",
    "geology.head()"
   ]
  },
  {
   "cell_type": "markdown",
   "metadata": {},
   "source": [
    "## Geochemistry"
   ]
  },
  {
   "cell_type": "markdown",
   "metadata": {},
   "source": [
    "#### To extract geochemistry data make sure you are connected to UWA network"
   ]
  },
  {
   "cell_type": "code",
   "execution_count": null,
   "metadata": {
    "scrolled": true
   },
   "outputs": [],
   "source": [
    "minlong=116.5\n",
    "maxlong=117.2\n",
    "minlat=-29.5\n",
    "maxlat=-28.8\n",
    "bounds=(minlong,maxlong,minlat,maxlat)  #query bounds\n",
    "\n",
    "query = \"\"\"SELECT  a.id, a.dhgeochemistryid, s.collarid, c.holeid, c.companyholeid, s.fromdepth, s.todepth,  a.attributecolumn, a.attributevalue\n",
    "FROM public.dhgeochemistryattr AS a \n",
    "INNER JOIN public.dhgeochemistry AS s ON a.dhgeochemistryid = s.id\n",
    "INNER JOIN public.collar AS c ON s.collarid = c.id\n",
    "WHERE(longitude BETWEEN %s  AND %s AND latitude BETWEEN %s AND %s)\n",
    "ORDER BY c.companyid ASC\n",
    "\"\"\"\n",
    "conn = psycopg2.connect(host=\"130.95.198.59\", port = 5432, database=\"gswa_dh\", user=\"postgres\", password=\"loopie123pgpw\")\n",
    "cur = conn.cursor()\n",
    "cur.execute(query, bounds)\n",
    "dhchemistryattrygsb = pd.DataFrame(cur.fetchall())\n",
    "cur.close()\n",
    "conn.close()"
   ]
  },
  {
   "cell_type": "code",
   "execution_count": null,
   "metadata": {
    "scrolled": true
   },
   "outputs": [],
   "source": [
    "dhchemistryattrygsb.columns = ['id', 'dhgeochemistryid', 'collarid', 'holeid', 'companyholeid', 'fromdepth', 'todepth',  'attributecolumn', 'attributevalue']\n",
    "unique= dhchemistryattrygsb['attributecolumn'].unique().tolist()\n",
    "print(unique)"
   ]
  },
  {
   "cell_type": "code",
   "execution_count": null,
   "metadata": {},
   "outputs": [],
   "source": [
    "dhchemistryattrygsb= dhchemistryattrygsb[dhchemistryattrygsb['attributecolumn'].isin([\n",
    "                                                                                    'Al2O3_pct',\n",
    "                                                                                    'CaO_pct',\n",
    "                                                                                    'Cu_ppm',\n",
    "                                                                                    'Fe_pct',\n",
    "                                                                                    'K2O_pct',\n",
    "                                                                                    'Mgo_pct',\n",
    "                                                                                    'MnO_pct',\n",
    "                                                                                    'Na2O_pct',\n",
    "                                                                                    'P_pct',\n",
    "                                                                                    'Pb_ppm',\n",
    "                                                                                    'S_pct',\n",
    "                                                                                    'SiO2_pct',\n",
    "                                                                                    'Zn_ppm'\n",
    "                                                                                    ])]"
   ]
  },
  {
   "cell_type": "code",
   "execution_count": null,
   "metadata": {},
   "outputs": [],
   "source": [
    "dhchemistryattrygsb = pd.pivot_table(dhchemistryattrygsb, values='attributevalue', index=['dhgeochemistryid', 'collarid', 'holeid', 'companyholeid', 'fromdepth', 'todepth'],\n",
    "                    columns=['attributecolumn'], aggfunc='first')\n",
    "dhchemistryattrygsb.to_csv('../data/export/DB_Geochemistry_Export.csv')"
   ]
  },
  {
   "cell_type": "code",
   "execution_count": null,
   "metadata": {},
   "outputs": [],
   "source": [
    "geochemistry=pd.read_csv ('../data/export/DB_Geochemistry_Export.csv')"
   ]
  },
  {
   "cell_type": "code",
   "execution_count": null,
   "metadata": {
    "scrolled": true
   },
   "outputs": [],
   "source": [
    "dh2l.merge(geology,geochemistry,'join',tol=0.01,clean=True)"
   ]
  },
  {
   "cell_type": "code",
   "execution_count": null,
   "metadata": {
    "scrolled": false
   },
   "outputs": [],
   "source": [
    "join=pd.read_csv ('../data/export/join.csv')\n",
    "print(join)"
   ]
  },
  {
   "cell_type": "code",
   "execution_count": null,
   "metadata": {},
   "outputs": [],
   "source": [
    "import matplotlib.pyplot as plt\n",
    "%matplotlib inline\n",
    "from striplog import Legend, Lexicon, Interval, Component, Striplog"
   ]
  },
  {
   "cell_type": "code",
   "execution_count": null,
   "metadata": {},
   "outputs": [],
   "source": [
    "legend = Legend.builtin('NSDOE')\n",
    "lexicon = Lexicon.default()\n",
    "#lexicon\n",
    "#lexicon.synonyms"
   ]
  },
  {
   "cell_type": "code",
   "execution_count": null,
   "metadata": {
    "scrolled": true
   },
   "outputs": [],
   "source": [
    "csv_string=join[(join['collarid']==1233095)]\n",
    "csv_string=csv_string[[\"fromdepth\", \"todepth\", \"comp lithology\"]]\n",
    "csv_string=csv_string.rename(columns={\"fromdepth\": \"top\", \"todepth\": \"base\", \"comp lithology\": \"comp lithology\"})\n",
    "csv_string=csv_string.fillna('NaN')\n",
    "csv_string=csv_string.to_csv(sep=',', index=False)\n",
    "print(csv_string)"
   ]
  },
  {
   "cell_type": "code",
   "execution_count": null,
   "metadata": {
    "scrolled": true
   },
   "outputs": [],
   "source": [
    "strip = Striplog.from_csv(text=csv_string, lexicon=lexicon)"
   ]
  },
  {
   "cell_type": "code",
   "execution_count": null,
   "metadata": {},
   "outputs": [],
   "source": [
    "strip\n",
    "#strip[0]\n",
    "#strip.unique\n",
    "#strip.find_gaps() or \"No gaps!\"\n",
    "#strip.thinnest()"
   ]
  },
  {
   "cell_type": "code",
   "execution_count": 40,
   "metadata": {},
   "outputs": [
    {
     "data": {
      "image/png": "[encoded data removed]",
      "text/plain": [
       "<Figure size 108x1080 with 1 Axes>"
      ]
     },
     "metadata": {
      "needs_background": "light"
     },
     "output_type": "display_data"
    }
   ],
   "source": [
    "strip.plot()\n",
    "#strip.plot(legend=legend, aspect=5)"
   ]
  },
  {
   "cell_type": "code",
   "execution_count": 41,
   "metadata": {},
   "outputs": [],
   "source": [
    "l = u\"\"\"colour, width, component lithology\n",
    "#F7E9A6, 3, Sandstone\n",
    "#FF99CC, 2, CYST\n",
    "#86F0B6, 5, Conglomerate\n",
    "#F2FF42, 4, Sand\n",
    "#FFE040, 4, Calksilicate\n",
    "#FF4C4A, 2, Pegmatite \n",
    "#363434, 1, Gneiss \n",
    "#664A4A, 1, Clay\n",
    "#FF99CC, 1, Granite\"\"\""
   ]
  },
  {
   "cell_type": "code",
   "execution_count": 42,
   "metadata": {},
   "outputs": [],
   "source": [
    "#legend = Legend.from_csv(text=l)\n",
    "#legend[:10]\n",
    "legend=Legend.default()"
   ]
  },
  {
   "cell_type": "code",
   "execution_count": 44,
   "metadata": {
    "scrolled": true
   },
   "outputs": [],
   "source": [
    "pruned = strip.prune(limit=40.0, keep_ends=True)\n",
    "annealed = pruned.anneal()\n",
    "merged = annealed.merge_neighbours()"
   ]
  },
  {
   "cell_type": "code",
   "execution_count": 47,
   "metadata": {},
   "outputs": [
    {
     "data": {
      "text/html": [
       "<table><tr><td style=\"width:2em; background-color:#DDDDDD\" rowspan=\"6\"></td><td><strong>top</strong></td><td>1.0</td></tr><tr><td><strong>primary</strong></td><td><table><tr><td><strong>lithology</strong></td><td>banded_iron_formation</td></tr></table></td></tr><tr><td><strong>summary</strong></td><td>1.00 m of banded_iron_formation</td></tr><tr><td><strong>description</strong></td><td></td></tr><tr><td><strong>data</strong></td><td><table><tr><td><strong>Fe_pct</strong></td><td>[40.16]</td></tr><tr><td><strong>K2O_pct</strong></td><td>[0.006]</td></tr></table></td></tr><tr><td><strong>base</strong></td><td>2.0</td></tr></table>"
      ],
      "text/plain": [
       "Interval({'top': Position({'middle': 1.0, 'units': 'm'}), 'base': Position({'middle': 2.0, 'units': 'm'}), 'description': '', 'data': {'Fe_pct': array([40.16]), 'K2O_pct': array([0.006])}, 'components': [Component({'lithology': 'banded_iron_formation'})]})"
      ]
     },
     "execution_count": 47,
     "metadata": {},
     "output_type": "execute_result"
    }
   ],
   "source": [
    "from welly import Curve\n",
    "todepth=join['todepth'].to_numpy()\n",
    "density=join['Fe_pct'].to_numpy()\n",
    "density_curve = Curve(data=density, basis=todepth)\n",
    "strip.extract(density_curve, basis=todepth, name='Fe_pct')\n",
    "\n",
    "example=join['K2O_pct'].to_numpy()\n",
    "curve = Curve(data=example, basis=todepth)\n",
    "strip.extract(curve, basis=todepth, name='K2O_pct')\n",
    "strip[1]"
   ]
  },
  {
   "cell_type": "code",
   "execution_count": 49,
   "metadata": {
    "scrolled": true
   },
   "outputs": [
    {
     "data": {
      "image/png": "[encoded data removed]",
      "text/plain": [
       "<Figure size 720x720 with 6 Axes>"
      ]
     },
     "metadata": {
      "needs_background": "light"
     },
     "output_type": "display_data"
    }
   ],
   "source": [
    "fig, axs = plt.subplots(ncols=6, figsize=(10, 10))\n",
    "\n",
    "axs[0] = strip.plot(legend=legend, ax=axs[0], lw=1, aspect=5)\n",
    "axs[0].set_title('Original')\n",
    "axs[1] = pruned.plot(legend=legend, ax=axs[1], lw=1, aspect=5)\n",
    "axs[1].set_yticklabels([])\n",
    "axs[1].set_title('Pruned')\n",
    "axs[2] = annealed.plot(legend=legend, ax=axs[2], lw=1, aspect=5)\n",
    "axs[2].set_yticklabels([])\n",
    "axs[2].set_title('Annealed')\n",
    "axs[3] = merged.plot(legend=legend, ax=axs[3], lw=1, aspect=5)\n",
    "axs[3].set_yticklabels([])\n",
    "axs[3].set_title('Merged')\n",
    "#axs[4]=density_curve.plot(ax=axs[4])\n",
    "axs[4].plot(density, todepth,'-o')\n",
    "axs[4].set_ylim(269.9, 0)\n",
    "axs[4].set_yticklabels([])\n",
    "axs[4].set_title('Fe_pct')\n",
    "axs[5]=curve.plot(ax=axs[5])\n",
    "axs[5].set_yticklabels([])\n",
    "axs[5].set_title('K2O_pct')\n",
    "plt.show()"
   ]
  },
  {
   "cell_type": "code",
   "execution_count": null,
   "metadata": {},
   "outputs": [],
   "source": []
  }
 ],
 "metadata": {
  "kernelspec": {
   "display_name": "Python 3",
   "language": "python",
   "name": "python3"
  },
  "language_info": {
   "codemirror_mode": {
    "name": "ipython",
    "version": 3
   },
   "file_extension": ".py",
   "mimetype": "text/x-python",
   "name": "python",
   "nbconvert_exporter": "python",
   "pygments_lexer": "ipython3",
   "version": "3.7.4"
  }
 },
 "nbformat": 4,
 "nbformat_minor": 4
}
