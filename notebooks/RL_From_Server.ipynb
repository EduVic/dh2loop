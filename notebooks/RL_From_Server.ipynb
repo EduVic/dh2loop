{
 "cells": [
  {
   "cell_type": "code",
   "execution_count": null,
   "metadata": {},
   "outputs": [],
   "source": [
    "from dh2loop import Multiprocessing\n",
    "import datetime\n",
    "import pandas as pd\n",
    "import psycopg2\n",
    "from datetime import datetime\n",
    "%run -i \"DH2_LConfig.py\" "
   ]
  },
  {
   "cell_type": "code",
   "execution_count": 9,
   "metadata": {},
   "outputs": [
    {
     "name": "stdout",
     "output_type": "stream",
     "text": [
      "{'SOURCE': 'Geoscience Australia', 'DATASET': 'SRTM-derived 1 Second Digital Elevation Models Version 1.0', 'DEM RESOLUTION': '30m', 'HEIGHT AT LOCATION': '372.27m', 'METADATA URL': 'https://ecat.ga.gov.au/geonetwork/srv/eng/catalog.search#/metadata/aac46307-fce8-449d-e044-00144fdd4fa6'}\n",
      "372.27m\n"
     ]
    }
   ],
   "source": [
    "import requests,json\n",
    "url ='https://elvis2018-ga.fmecloud.com/fmedatastreaming/client_access/ELVIS_GetElevationAtPoint.fmw'\n",
    "\n",
    "#https://elvis2018-ga.fmecloud.com/fmedatastreaming/client_access/ELVIS_GetElevationAtPoint.fmw?pt_lat=-31.30664&pt_long=153.09448\n",
    " \n",
    "\n",
    "response = requests.get(url, params={'pt_lat': -28.8852, 'pt_long':116.988})\n",
    "data = response.json()\n",
    "print(data)\n",
    "\n",
    "RL =(data[\"HEIGHT AT LOCATION\"])\n",
    "print(RL)"
   ]
  },
  {
   "cell_type": "code",
   "execution_count": null,
   "metadata": {},
   "outputs": [],
   "source": []
  },
  {
   "cell_type": "code",
   "execution_count": null,
   "metadata": {},
   "outputs": [],
   "source": []
  },
  {
   "cell_type": "code",
   "execution_count": null,
   "metadata": {},
   "outputs": [],
   "source": []
  },
  {
   "cell_type": "code",
   "execution_count": 11,
   "metadata": {},
   "outputs": [],
   "source": [
    "from datetime import datetime\n",
    "import os\n",
    "\n",
    "today = datetime.now()\n",
    "\n",
    "##if today.hour < 12:\n",
    "  #  h = \"00\"\n",
    "#else:\n",
    " #   h = \"12\"\n",
    "nowtime=datetime.now().strftime(\"%d_%m_%Y_%H_%M_%S_%p_\") \n",
    "os.mkdir('../data/export_db/' + nowtime)"
   ]
  },
  {
   "cell_type": "code",
   "execution_count": null,
   "metadata": {},
   "outputs": [],
   "source": []
  },
  {
   "cell_type": "code",
   "execution_count": 7,
   "metadata": {},
   "outputs": [
    {
     "name": "stdout",
     "output_type": "stream",
     "text": [
      "False\n"
     ]
    }
   ],
   "source": [
    "txt = \" \"\n",
    "\n",
    "x = txt.isalpha()\n",
    "\n",
    "print(x)"
   ]
  },
  {
   "cell_type": "code",
   "execution_count": null,
   "metadata": {},
   "outputs": [],
   "source": []
  }
 ],
 "metadata": {
  "kernelspec": {
   "display_name": "Python 3",
   "language": "python",
   "name": "python3"
  },
  "language_info": {
   "codemirror_mode": {
    "name": "ipython",
    "version": 3
   },
   "file_extension": ".py",
   "mimetype": "text/x-python",
   "name": "python",
   "nbconvert_exporter": "python",
   "pygments_lexer": "ipython3",
   "version": "3.7.4"
  }
 },
 "nbformat": 4,
 "nbformat_minor": 2
}
